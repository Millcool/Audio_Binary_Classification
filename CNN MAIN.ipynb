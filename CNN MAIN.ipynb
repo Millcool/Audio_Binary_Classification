{
 "cells": [
  {
   "cell_type": "markdown",
   "metadata": {},
   "source": [
    "## Import libraries"
   ]
  },
  {
   "cell_type": "code",
   "execution_count": 1,
   "metadata": {
    "execution": {
     "iopub.execute_input": "2022-07-13T22:09:46.171054Z",
     "iopub.status.busy": "2022-07-13T22:09:46.170371Z",
     "iopub.status.idle": "2022-07-13T22:09:49.059971Z",
     "shell.execute_reply": "2022-07-13T22:09:49.058765Z",
     "shell.execute_reply.started": "2022-07-13T22:09:46.170925Z"
    }
   },
   "outputs": [
    {
     "name": "stderr",
     "output_type": "stream",
     "text": [
      "C:\\Users\\79671\\anaconda3\\lib\\site-packages\\numpy\\_distributor_init.py:30: UserWarning: loaded more than 1 DLL from .libs:\n",
      "C:\\Users\\79671\\anaconda3\\lib\\site-packages\\numpy\\.libs\\libopenblas.FB5AE2TYXYH2IJRDKGDGQ3XBKLKTF43H.gfortran-win_amd64.dll\n",
      "C:\\Users\\79671\\anaconda3\\lib\\site-packages\\numpy\\.libs\\libopenblas.XWYDX2IKJW2NMTWSFYNGFUWKQU3LYTCZ.gfortran-win_amd64.dll\n",
      "  warnings.warn(\"loaded more than 1 DLL from .libs:\"\n"
     ]
    }
   ],
   "source": [
    "import glob\n",
    "import sys\n",
    "import warnings\n",
    "\n",
    "from scipy import stats\n",
    "import matplotlib.pyplot as plt\n",
    "import seaborn as sns\n",
    "import numpy as np\n",
    "import pandas as pd\n",
    "import torch\n",
    "import torch.nn.functional as F\n",
    "from torch import nn\n",
    "from tqdm.auto import tqdm\n",
    "import copy\n",
    "import time\n",
    "\n",
    "from IPython import display as ipd\n",
    "from PIL import Image\n",
    "\n",
    "from torch.utils.data import DataLoader, Dataset, Subset\n",
    "from torchvision import datasets, transforms\n",
    "from torchvision.datasets import ImageFolder,  DatasetFolder,VisionDataset\n",
    "from sklearn.model_selection import train_test_split\n",
    "from sklearn import metrics\n",
    "from sklearn.metrics import f1_score\n",
    "from sklearn.metrics import confusion_matrix\n",
    "import scikitplot as skplt\n",
    "import matplotlib.pyplot as plt\n",
    "import os\n",
    "import torchvision.models as models\n",
    "\n",
    "%matplotlib inline\n",
    "warnings.filterwarnings(\"ignore\")\n",
    "\n",
    "import torchaudio\n",
    "#from pydub import AudioSegment\n",
    "from IPython import display\n",
    "import random\n",
    "import wandb\n",
    "\n",
    "from scipy.optimize import brentq\n",
    "from scipy.interpolate import interp1d"
   ]
  },
  {
   "cell_type": "markdown",
   "metadata": {},
   "source": [
    "## Config"
   ]
  },
  {
   "cell_type": "code",
   "execution_count": 2,
   "metadata": {},
   "outputs": [],
   "source": [
    "class CFG:\n",
    "    JUST_PREDICT  = False\n",
    "    Kaggle        = False \n",
    "    DEBUG         = False\n",
    "    FULL_DATA     = True\n",
    "    wandb_on      = False\n",
    "    seed          = 101\n",
    "    MULTIMODEL    = False\n",
    "    weights       = 'imagenet'\n",
    "    backbone      = 'efficientnet-b1'\n",
    "    model_name    = 'MFCCModel'\n",
    "    archive_name  = 'Audio'\n",
    "    models        = []\n",
    "    optimizers    = []\n",
    "################################################### \n",
    "    num_of_models = 1\n",
    "    model_number  = 1\n",
    "    train_bs      = 32\n",
    "    valid_bs      = 32\n",
    "    width         = 300 # image width\n",
    "    mels          = 80  # height\n",
    "    SAMPLE_RATE   = 16000\n",
    "    NUM_SAMPLES   = 48000\n",
    "    num_item_all  = 1000 if DEBUG else 45235     #611829\n",
    "    num_test      = 10 if DEBUG else 301      # 1000\n",
    "    print_every   = 1  if DEBUG else 50      #500\n",
    "    epochs        = 25  if DEBUG else 30        #35\n",
    "    ###############################################\n",
    "    crop_koef     = 1\n",
    "    lr            = 0.002\n",
    "    num_workers   = 4 if Kaggle else 0\n",
    "    criterion     = nn.CrossEntropyLoss()\n",
    "    scheduler     = 'CosineAnnealingLR'\n",
    "    min_lr        = 1e-6\n",
    "    T_max         = int(30000/train_bs*epochs)+50\n",
    "    T_0           = 25\n",
    "    warmup_epochs = 0\n",
    "    wd            = 1e-6\n",
    "    n_accumulate  = max(1, 32//train_bs)\n",
    "    n_fold        = 5\n",
    "    num_classes   = 2\n",
    "    classes       = [0,1]\n",
    "    activation    = None #'softmax'\n",
    "    device        = torch.device(\"cuda\" if torch.cuda.is_available() else \"cpu\") \n",
    "    test_path     = \" \" if Kaggle else \"E:/Audio/ASV/clips/\"\n",
    "    save_path     = '../working/result/' if Kaggle else \"./result/\"\n",
    "    train_path    = \"E:/Audio/ASV/clips/\"\n",
    "    csv_path      = 'E:/Audio/ASV/equal_dataset' \n",
    "    best_model_w  = '../input/russian-railways-2/best_epoch_ofu-efficientnet-b4_v2.bin' if Kaggle else f'./best_epoch_ofu-{backbone}_v2.bin'\n"
   ]
  },
  {
   "cell_type": "code",
   "execution_count": 3,
   "metadata": {},
   "outputs": [
    {
     "name": "stderr",
     "output_type": "stream",
     "text": [
      "\u001b[34m\u001b[1mwandb\u001b[0m: Currently logged in as: \u001b[33milyamironov210202\u001b[0m (\u001b[33mkode-ai\u001b[0m). Use \u001b[1m`wandb login --relogin`\u001b[0m to force relogin\n",
      "\u001b[34m\u001b[1mwandb\u001b[0m: \u001b[33mWARNING\u001b[0m If you're specifying your api key in code, ensure this code is not shared publicly.\n",
      "\u001b[34m\u001b[1mwandb\u001b[0m: \u001b[33mWARNING\u001b[0m Consider setting the WANDB_API_KEY environment variable, or running `wandb login` from the command line.\n",
      "\u001b[34m\u001b[1mwandb\u001b[0m: Appending key for api.wandb.ai to your netrc file: C:\\Users\\79671/.netrc\n"
     ]
    }
   ],
   "source": [
    "try:\n",
    "    wandb.login(key='411cb1a6772ab39c9283d4f54778064f0be42b74')\n",
    "    #wandb login 411cb1a6772ab39c9283d4f54778064f0be42b74\n",
    "    anonymous = None\n",
    "except:\n",
    "    anonymous = \"must\"\n",
    "    print('To use your W&B account,\\nGo to Add-ons -> Secrets and provide your W&B access token. Use the Label name as WANDB. \\nGet your W&B access token from here: https://wandb.ai/authorize')"
   ]
  },
  {
   "cell_type": "code",
   "execution_count": 4,
   "metadata": {
    "execution": {
     "iopub.execute_input": "2022-07-13T22:09:49.069029Z",
     "iopub.status.busy": "2022-07-13T22:09:49.065209Z",
     "iopub.status.idle": "2022-07-13T22:09:49.171598Z",
     "shell.execute_reply": "2022-07-13T22:09:49.165850Z",
     "shell.execute_reply.started": "2022-07-13T22:09:49.068991Z"
    }
   },
   "outputs": [
    {
     "name": "stdout",
     "output_type": "stream",
     "text": [
      "cuda\n"
     ]
    }
   ],
   "source": [
    "print(CFG.device)"
   ]
  },
  {
   "cell_type": "code",
   "execution_count": 5,
   "metadata": {
    "execution": {
     "iopub.execute_input": "2022-07-13T22:09:49.214518Z",
     "iopub.status.busy": "2022-07-13T22:09:49.214144Z",
     "iopub.status.idle": "2022-07-13T22:09:49.225837Z",
     "shell.execute_reply": "2022-07-13T22:09:49.224029Z",
     "shell.execute_reply.started": "2022-07-13T22:09:49.214485Z"
    }
   },
   "outputs": [],
   "source": [
    "# Different classes dataset. \n",
    "classes = ('0','1')"
   ]
  },
  {
   "cell_type": "markdown",
   "metadata": {},
   "source": [
    "## Read data"
   ]
  },
  {
   "cell_type": "code",
   "execution_count": 6,
   "metadata": {
    "execution": {
     "iopub.execute_input": "2022-07-13T22:09:49.227391Z",
     "iopub.status.busy": "2022-07-13T22:09:49.226911Z",
     "iopub.status.idle": "2022-07-13T22:09:49.245425Z",
     "shell.execute_reply": "2022-07-13T22:09:49.243813Z",
     "shell.execute_reply.started": "2022-07-13T22:09:49.227332Z"
    }
   },
   "outputs": [],
   "source": [
    "\n",
    "data = pd.read_csv(CFG.csv_path, sep = '\\t' ) #pd.read_csv(CFG.csv_path, sep = '\\\\t', header=None)"
   ]
  },
  {
   "cell_type": "code",
   "execution_count": 7,
   "metadata": {},
   "outputs": [
    {
     "data": {
      "text/html": [
       "<div>\n",
       "<style scoped>\n",
       "    .dataframe tbody tr th:only-of-type {\n",
       "        vertical-align: middle;\n",
       "    }\n",
       "\n",
       "    .dataframe tbody tr th {\n",
       "        vertical-align: top;\n",
       "    }\n",
       "\n",
       "    .dataframe thead th {\n",
       "        text-align: right;\n",
       "    }\n",
       "</style>\n",
       "<table border=\"1\" class=\"dataframe\">\n",
       "  <thead>\n",
       "    <tr style=\"text-align: right;\">\n",
       "      <th></th>\n",
       "      <th>path</th>\n",
       "      <th>fake</th>\n",
       "    </tr>\n",
       "  </thead>\n",
       "  <tbody>\n",
       "    <tr>\n",
       "      <th>0</th>\n",
       "      <td>DF_E_2000053</td>\n",
       "      <td>0</td>\n",
       "    </tr>\n",
       "    <tr>\n",
       "      <th>1</th>\n",
       "      <td>DF_E_2000058</td>\n",
       "      <td>0</td>\n",
       "    </tr>\n",
       "    <tr>\n",
       "      <th>2</th>\n",
       "      <td>DF_E_2000079</td>\n",
       "      <td>0</td>\n",
       "    </tr>\n",
       "    <tr>\n",
       "      <th>3</th>\n",
       "      <td>DF_E_2000246</td>\n",
       "      <td>0</td>\n",
       "    </tr>\n",
       "    <tr>\n",
       "      <th>4</th>\n",
       "      <td>DF_E_2000503</td>\n",
       "      <td>0</td>\n",
       "    </tr>\n",
       "    <tr>\n",
       "      <th>5</th>\n",
       "      <td>DF_E_2000508</td>\n",
       "      <td>0</td>\n",
       "    </tr>\n",
       "    <tr>\n",
       "      <th>6</th>\n",
       "      <td>DF_E_2000531</td>\n",
       "      <td>0</td>\n",
       "    </tr>\n",
       "    <tr>\n",
       "      <th>7</th>\n",
       "      <td>DF_E_2000676</td>\n",
       "      <td>0</td>\n",
       "    </tr>\n",
       "    <tr>\n",
       "      <th>8</th>\n",
       "      <td>DF_E_2001149</td>\n",
       "      <td>0</td>\n",
       "    </tr>\n",
       "    <tr>\n",
       "      <th>9</th>\n",
       "      <td>DF_E_2001163</td>\n",
       "      <td>0</td>\n",
       "    </tr>\n",
       "  </tbody>\n",
       "</table>\n",
       "</div>"
      ],
      "text/plain": [
       "           path  fake\n",
       "0  DF_E_2000053     0\n",
       "1  DF_E_2000058     0\n",
       "2  DF_E_2000079     0\n",
       "3  DF_E_2000246     0\n",
       "4  DF_E_2000503     0\n",
       "5  DF_E_2000508     0\n",
       "6  DF_E_2000531     0\n",
       "7  DF_E_2000676     0\n",
       "8  DF_E_2001149     0\n",
       "9  DF_E_2001163     0"
      ]
     },
     "execution_count": 7,
     "metadata": {},
     "output_type": "execute_result"
    }
   ],
   "source": [
    "data.head(10)"
   ]
  },
  {
   "cell_type": "code",
   "execution_count": 8,
   "metadata": {
    "scrolled": true
   },
   "outputs": [
    {
     "data": {
      "text/plain": [
       "<AxesSubplot:xlabel='fake', ylabel='Count'>"
      ]
     },
     "execution_count": 8,
     "metadata": {},
     "output_type": "execute_result"
    },
    {
     "data": {
      "image/png": "[encoded data removed]",
      "text/plain": [
       "<Figure size 432x288 with 1 Axes>"
      ]
     },
     "metadata": {
      "needs_background": "light"
     },
     "output_type": "display_data"
    }
   ],
   "source": [
    "sns.histplot(data=data['fake'])"
   ]
  },
  {
   "cell_type": "code",
   "execution_count": 9,
   "metadata": {},
   "outputs": [
    {
     "data": {
      "text/plain": [
       "1    22618\n",
       "0    22617\n",
       "Name: fake, dtype: int64"
      ]
     },
     "execution_count": 9,
     "metadata": {},
     "output_type": "execute_result"
    }
   ],
   "source": [
    "data['fake'].value_counts()"
   ]
  },
  {
   "cell_type": "code",
   "execution_count": 10,
   "metadata": {},
   "outputs": [
    {
     "data": {
      "text/plain": [
       "(45235, 2)"
      ]
     },
     "execution_count": 10,
     "metadata": {},
     "output_type": "execute_result"
    }
   ],
   "source": [
    " data.shape"
   ]
  },
  {
   "cell_type": "code",
   "execution_count": 11,
   "metadata": {},
   "outputs": [
    {
     "data": {
      "text/plain": [
       "0"
      ]
     },
     "execution_count": 11,
     "metadata": {},
     "output_type": "execute_result"
    }
   ],
   "source": [
    "sum(data['fake'].isnull())"
   ]
  },
  {
   "cell_type": "code",
   "execution_count": 12,
   "metadata": {},
   "outputs": [],
   "source": [
    "#from torchaudio.io import StreamReader\n",
    "from IPython import display"
   ]
  },
  {
   "cell_type": "code",
   "execution_count": null,
   "metadata": {},
   "outputs": [],
   "source": []
  },
  {
   "cell_type": "markdown",
   "metadata": {},
   "source": [
    "## Audio Augmentations"
   ]
  },
  {
   "cell_type": "code",
   "execution_count": 13,
   "metadata": {},
   "outputs": [],
   "source": [
    "mel_spectrogram = torchaudio.transforms.MelSpectrogram(\n",
    "    sample_rate=CFG.SAMPLE_RATE,\n",
    "    n_fft=1024,\n",
    "    win_length = 1024,\n",
    "    hop_length=256,\n",
    "    n_mels= CFG.mels,\n",
    "    window_fn = torch.hann_window,\n",
    "    center=False\n",
    ")\n",
    "\n",
    "MFCC_spectrogram = torchaudio.transforms.MFCC(\n",
    "    sample_rate=CFG.SAMPLE_RATE,\n",
    "    n_mfcc = CFG.mels,\n",
    "    melkwargs={\n",
    "        \"n_fft\": 1024,\n",
    "        \"n_mels\": CFG.mels,\n",
    "        \"hop_length\": 256,\n",
    "        \"mel_scale\": \"htk\",\n",
    "        'win_length': 1024,\n",
    "        'window_fn': torch.hann_window,\n",
    "        'center':False\n",
    "    },\n",
    ")"
   ]
  },
  {
   "cell_type": "markdown",
   "metadata": {},
   "source": [
    "## Dataset class"
   ]
  },
  {
   "cell_type": "code",
   "execution_count": 14,
   "metadata": {},
   "outputs": [],
   "source": [
    "class UrbanSoundDataset(Dataset):\n",
    "\n",
    "    def __init__(self,\n",
    "                 annotations_file,\n",
    "                 audio_dir,\n",
    "                 transformation,\n",
    "                 target_sample_rate,\n",
    "                 num_samples,\n",
    "                lable = False):\n",
    "        self.annotations = annotations_file\n",
    "        self.audio_dir = audio_dir\n",
    "        self.transformation = transformation\n",
    "        self.target_sample_rate = target_sample_rate\n",
    "        self.num_samples = num_samples\n",
    "        self.lable = lable\n",
    "\n",
    "    def __len__(self):\n",
    "        return len(self.audio_dir)\n",
    "\n",
    "    def __getitem__(self, index):\n",
    "        #print(index)\n",
    "        audio_sample_path = self._get_audio_sample_path(index)\n",
    "        signal, sr = torchaudio.load(audio_sample_path)\n",
    "        signal = self.transformation(signal)\n",
    "        #signal = self._resample_if_necessary(signal, sr)\n",
    "        signal = self._cut_if_necessary(signal)\n",
    "        signal = self._right_pad_if_necessary(signal)\n",
    "        #signal = signal.repeat(3, 1, 1)\n",
    "        #signal = torch.squeeze(signal)\n",
    "        #signal = self.transformation(signal)\n",
    "        if self.lable == True: # WHEN WE TRAIN\n",
    "            label = self._get_audio_sample_label(index)\n",
    "            return signal, label\n",
    "        else: # WHEN WE PREDICT\n",
    "            return signal, torch.randint(0, 1, (1,))\n",
    "\n",
    "    def _cut_if_necessary(self, signal):\n",
    "        if signal.shape[2] > CFG.width:\n",
    "            signal = signal[:, :, 0:CFG.width]\n",
    "        return signal\n",
    "\n",
    "    def _right_pad_if_necessary(self, signal):\n",
    "        length_signal = signal.shape[2]\n",
    "        if length_signal < CFG.width:\n",
    "            num_missing_samples = CFG.width - length_signal\n",
    "            last_dim_padding = (0, num_missing_samples)\n",
    "            signal = torch.nn.functional.pad(signal, last_dim_padding)\n",
    "        return signal\n",
    "\n",
    "    def _resample_if_necessary(self, signal, sr):\n",
    "        if sr != self.target_sample_rate:\n",
    "            resampler = torchaudio.transforms.Resample(sr, self.target_sample_rate)\n",
    "            signal = resampler(signal)\n",
    "        return signal\n",
    "\n",
    "    def _mix_down_if_necessary(self, signal):\n",
    "        if signal.shape[0] > 1:\n",
    "            signal = torch.mean(signal, dim=0, keepdim=True)\n",
    "        return signal\n",
    "\n",
    "    def _get_audio_sample_path(self, index):\n",
    "        path = self.audio_dir[index]\n",
    "        if self.lable == True:\n",
    "            path = os.path.join(CFG.train_path,path)\n",
    "        else:\n",
    "            path = os.path.join(CFG.test_path,path)\n",
    "        path = path + '.flac'\n",
    "        return path\n",
    "\n",
    "    def _get_audio_sample_label(self, index):\n",
    "        path = self.audio_dir[index]\n",
    "        #print(path)\n",
    "        df = self.annotations\n",
    "        df = df.loc[lambda df: df['path'] == path]\n",
    "        #print(df.head())\n",
    "        num = list(df['fake'])\n",
    "        #print(num)\n",
    "        return torch.Tensor(num)\n",
    "\n",
    "\n"
   ]
  },
  {
   "cell_type": "code",
   "execution_count": 15,
   "metadata": {},
   "outputs": [],
   "source": [
    "def prepare_loaders():\n",
    "    audio_names = pd.read_csv(CFG.csv_path, sep = '\\t' )\n",
    "    audio_names = list(audio_names['path'])\n",
    "    #audio_names= [item_name.split('.')[0] for item_name in os.listdir(CFG.train_path)] #[os.path.join(\"./train/\",item_name)  for item_name in os.listdir(CFG.train_path)]\n",
    "    random.shuffle(audio_names)\n",
    "    audio_names = audio_names[:CFG.num_item_all]\n",
    "    print(f'Number of items we work with:{len(audio_names)}')\n",
    "    audio_train_valid, audio_test = train_test_split(audio_names, test_size=0.2 ,   random_state= CFG.seed)\n",
    "    audio_train, audio_valid = train_test_split(audio_train_valid, test_size=0.25 , random_state= CFG.seed)\n",
    "    #print(type(train_ids))\n",
    "    #print(valid_ids)\n",
    "    train_dataset = UrbanSoundDataset(data, audio_train, MFCC_spectrogram, CFG.SAMPLE_RATE, CFG.NUM_SAMPLES, True)\n",
    "    valid_dataset = UrbanSoundDataset(data, audio_valid, MFCC_spectrogram, CFG.SAMPLE_RATE, CFG.NUM_SAMPLES, True)\n",
    "    test_dataset  = UrbanSoundDataset(data, audio_test, MFCC_spectrogram, CFG.SAMPLE_RATE, CFG.NUM_SAMPLES, True)\n",
    "    \n",
    "    train_loader = DataLoader(train_dataset, batch_size=CFG.train_bs, num_workers=0, shuffle=True, pin_memory=True, drop_last=False)\n",
    "    valid_loader = DataLoader(valid_dataset, batch_size=CFG.valid_bs, num_workers=0, shuffle=False, pin_memory=True)\n",
    "    test_loader = DataLoader(test_dataset, batch_size=CFG.valid_bs, num_workers=0, shuffle=False, pin_memory=True)\n",
    "    return train_loader, valid_loader , test_loader"
   ]
  },
  {
   "cell_type": "markdown",
   "metadata": {},
   "source": [
    "## Visualization"
   ]
  },
  {
   "cell_type": "code",
   "execution_count": 16,
   "metadata": {},
   "outputs": [],
   "source": [
    "def Melspectrogram_visualize(array: torch.Tensor):\n",
    "    #print(array.shape)\n",
    "    plt.figure(figsize=(20, 5))\n",
    "    plt.imshow(array.squeeze().log())\n",
    "    plt.xlabel('Time', size=20)\n",
    "    plt.ylabel('Frequency (Hz)', size=20)\n",
    "    plt.show()\n",
    "\n",
    "    \n",
    "    \n",
    "def visualize_audio(wav: torch.Tensor, sr: int = 22050):\n",
    "    # Average all channels\n",
    "    if wav.dim() == 2:\n",
    "        # Any to mono audio convertion\n",
    "        wav = wav.mean(dim=0)\n",
    "    \n",
    "    plt.figure(figsize=(20, 5))\n",
    "    plt.plot(wav, alpha=.7, c='green')\n",
    "    plt.grid()\n",
    "    plt.xlabel('Time', size=20)\n",
    "    plt.ylabel('Amplitude', size=20)\n",
    "    plt.show()\n",
    "    \n",
    "    display.display(display.Audio(wav, rate=sr))"
   ]
  },
  {
   "cell_type": "code",
   "execution_count": 17,
   "metadata": {},
   "outputs": [],
   "source": [
    "from typing import List , Tuple"
   ]
  },
  {
   "cell_type": "code",
   "execution_count": null,
   "metadata": {},
   "outputs": [],
   "source": []
  },
  {
   "cell_type": "code",
   "execution_count": 18,
   "metadata": {},
   "outputs": [
    {
     "name": "stdout",
     "output_type": "stream",
     "text": [
      "Number of items we work with:45235\n"
     ]
    }
   ],
   "source": [
    "train_loader, valid_loader, test_loader = prepare_loaders()"
   ]
  },
  {
   "cell_type": "code",
   "execution_count": 19,
   "metadata": {},
   "outputs": [
    {
     "data": {
      "text/plain": [
       "(849, 283)"
      ]
     },
     "execution_count": 19,
     "metadata": {},
     "output_type": "execute_result"
    }
   ],
   "source": [
    "len(train_loader) , len(valid_loader)"
   ]
  },
  {
   "cell_type": "code",
   "execution_count": 20,
   "metadata": {},
   "outputs": [],
   "source": [
    "audio = next(iter(train_loader))\n",
    "#print(audio['wav'].shape)\n",
    "#print(Class)\n"
   ]
  },
  {
   "cell_type": "code",
   "execution_count": 21,
   "metadata": {},
   "outputs": [],
   "source": [
    "mel = audio[0][0]"
   ]
  },
  {
   "cell_type": "code",
   "execution_count": 22,
   "metadata": {},
   "outputs": [
    {
     "data": {
      "text/plain": [
       "torch.Size([1, 80, 300])"
      ]
     },
     "execution_count": 22,
     "metadata": {},
     "output_type": "execute_result"
    }
   ],
   "source": [
    "mel.shape"
   ]
  },
  {
   "cell_type": "code",
   "execution_count": 23,
   "metadata": {},
   "outputs": [
    {
     "data": {
      "image/png": "[encoded data removed]",
      "text/plain": [
       "<Figure size 1440x360 with 1 Axes>"
      ]
     },
     "metadata": {
      "needs_background": "light"
     },
     "output_type": "display_data"
    }
   ],
   "source": [
    "plt.figure(figsize=(20, 5))\n",
    "plt.imshow(mel.permute(1,2,0).squeeze().log())\n",
    "plt.xlabel('Time', size=20)\n",
    "plt.ylabel('Mels', size=20)\n",
    "plt.show()"
   ]
  },
  {
   "cell_type": "code",
   "execution_count": 24,
   "metadata": {},
   "outputs": [
    {
     "data": {
      "text/plain": [
       "torch.Size([1, 80, 300])"
      ]
     },
     "execution_count": 24,
     "metadata": {},
     "output_type": "execute_result"
    }
   ],
   "source": [
    "mel.shape"
   ]
  },
  {
   "cell_type": "code",
   "execution_count": 25,
   "metadata": {},
   "outputs": [],
   "source": [
    "#Melspectrogram_visualize(audio)"
   ]
  },
  {
   "cell_type": "code",
   "execution_count": 26,
   "metadata": {},
   "outputs": [],
   "source": [
    "#!pip install --upgrade efficientnet-pytorch"
   ]
  },
  {
   "cell_type": "code",
   "execution_count": 27,
   "metadata": {},
   "outputs": [],
   "source": [
    "class ResNetBlock(nn.Module):\n",
    "    def __init__(self, in_depth, depth, first=False):\n",
    "        super(ResNetBlock, self).__init__() # super(subclass) - we will inheritance fron superclass of subclass в данном случае можно было прсто написать super()\n",
    "        self.first = first\n",
    "        self.conv1 = nn.Conv2d(in_depth, depth, kernel_size=3, stride=1, padding=1)\n",
    "        self.bn1 = nn.BatchNorm2d(depth)\n",
    "        self.lrelu = nn.LeakyReLU(0.01)\n",
    "        self.dropout = nn.Dropout(0.5)\n",
    "        self.conv2 = nn.Conv2d(depth, depth, kernel_size=3, stride=3, padding=1)\n",
    "        self.conv11 = nn.Conv2d(in_depth, depth, kernel_size=3, stride=3, padding=1)\n",
    "        if not self.first :\n",
    "            self.pre_bn = nn.BatchNorm2d(in_depth)\n",
    "\n",
    "    def forward(self, x):\n",
    "        # x is (B x d_in x T)\n",
    "        prev = x\n",
    "        prev_mp =  self.conv11(x)\n",
    "        if not self.first:\n",
    "            out = self.pre_bn(x)\n",
    "            out = self.lrelu(out)\n",
    "        else:\n",
    "            out = x\n",
    "        out = self.conv1(x)\n",
    "        # out is (B x depth x T/2)\n",
    "        out = self.bn1(out)\n",
    "        out = self.lrelu(out)\n",
    "        out = self.dropout(out)\n",
    "        out = self.conv2(out)\n",
    "        # out is (B x depth x T/2)\n",
    "        out = out + prev_mp\n",
    "        return out\n",
    "    \n",
    "class MFCCModel(nn.Module):\n",
    "    def __init__(self):\n",
    "        super(MFCCModel, self).__init__()\n",
    "        self.conv1 = nn.Conv2d(1, 32, kernel_size=3, stride=1, padding=1)\n",
    "        self.block1 = ResNetBlock(32, 32,  True)\n",
    "        self.mp = nn.MaxPool2d(3, stride=3, padding=1)\n",
    "        self.block2 = ResNetBlock(32, 32,  False)\n",
    "        self.block3 = ResNetBlock(32, 32,  False)\n",
    "        self.block4= ResNetBlock(32, 32, False)\n",
    "        self.block5= ResNetBlock(32, 32, False)\n",
    "        self.block6 = ResNetBlock(32, 32, False)\n",
    "        self.block7 = ResNetBlock(32, 32, False)\n",
    "        self.block8 = ResNetBlock(32, 32, False)\n",
    "        self.block9 = ResNetBlock(32, 32, False)\n",
    "        self.lrelu = nn.LeakyReLU(0.01)\n",
    "        self.bn = nn.BatchNorm2d(32)\n",
    "        self.dropout = nn.Dropout(0.5)\n",
    "        self.logsoftmax = nn.LogSoftmax(dim=1)\n",
    "        self.fc1 = nn.Linear(32, 128)\n",
    "        self.fc2 = nn.Linear(128, 2)\n",
    "    \n",
    "    def forward(self, x):\n",
    "        batch_size = x.size(0)\n",
    "        x = x.unsqueeze(dim=1)\n",
    "        out = self.conv1(x)\n",
    "        out = self.block1(out)\n",
    "        out = self.block2(out)\n",
    "        out = self.block3(out)\n",
    "        out = self.mp(out)\n",
    "        out = self.block4(out)\n",
    "        out = self.block5(out)\n",
    "        out = self.block6(out)\n",
    "        out = self.mp(out)\n",
    "        out = self.block7(out)\n",
    "        out = self.block8(out)\n",
    "        out = self.block9(out)\n",
    "        out = self.bn(out)\n",
    "        out = self.lrelu(out)\n",
    "        out = self.mp(out)\n",
    "        out = out.view(batch_size, -1)\n",
    "        out = self.dropout(out)\n",
    "        out = self.fc1(out)\n",
    "        out = self.lrelu(out)\n",
    "        out = self.fc2(out)\n",
    "        out = self.logsoftmax(out)\n",
    "        return out\n",
    "    \n",
    "#############################################################################################################################\n",
    "####################################################### BILSTM MODEL ########################################################\n",
    "#############################################################################################################################\n",
    "\n",
    "    "
   ]
  },
  {
   "cell_type": "code",
   "execution_count": 28,
   "metadata": {},
   "outputs": [],
   "source": [
    "device = CFG.device\n",
    "\n",
    "#from efficientnet_pytorch import EfficientNet\n",
    "#model_name = 'efficientnet-b1'\n",
    "#model = EfficientNet.from_pretrained(model_name).to(device)  #, num_classes=3\n",
    "\n",
    "# for param in model.parameters():\n",
    "#     param.requires_grad = False \n",
    "# model._fc = torch.nn.Sequential(\n",
    "#     nn.Linear(in_features=1280, out_features=625, bias=True),\n",
    "#     nn.ReLU(inplace=True),\n",
    "#     nn.Dropout(p=0.5, inplace=False),\n",
    "#     nn.Linear(in_features=625, out_features=256, bias=True),\n",
    "#     nn.ReLU(inplace=True),\n",
    "#     nn.Linear(in_features=256, out_features=2, bias=True))\n",
    "\n",
    "model = MFCCModel().to(device)\n",
    "#featurizer = Featurizer().to(device)\n",
    "model.eval()\n",
    "model.to(device)\n",
    "optimizer = torch.optim.Adam(model.parameters(), lr=0.003)\n",
    "#optimizer = torch.optim.Adam(model._fc.parameters(), lr=0.003)\n",
    "criterion = nn.CrossEntropyLoss()"
   ]
  },
  {
   "cell_type": "code",
   "execution_count": 29,
   "metadata": {},
   "outputs": [
    {
     "data": {
      "text/plain": [
       "MFCCModel(\n",
       "  (conv1): Conv2d(1, 32, kernel_size=(3, 3), stride=(1, 1), padding=(1, 1))\n",
       "  (block1): ResNetBlock(\n",
       "    (conv1): Conv2d(32, 32, kernel_size=(3, 3), stride=(1, 1), padding=(1, 1))\n",
       "    (bn1): BatchNorm2d(32, eps=1e-05, momentum=0.1, affine=True, track_running_stats=True)\n",
       "    (lrelu): LeakyReLU(negative_slope=0.01)\n",
       "    (dropout): Dropout(p=0.5, inplace=False)\n",
       "    (conv2): Conv2d(32, 32, kernel_size=(3, 3), stride=(3, 3), padding=(1, 1))\n",
       "    (conv11): Conv2d(32, 32, kernel_size=(3, 3), stride=(3, 3), padding=(1, 1))\n",
       "  )\n",
       "  (mp): MaxPool2d(kernel_size=3, stride=3, padding=1, dilation=1, ceil_mode=False)\n",
       "  (block2): ResNetBlock(\n",
       "    (conv1): Conv2d(32, 32, kernel_size=(3, 3), stride=(1, 1), padding=(1, 1))\n",
       "    (bn1): BatchNorm2d(32, eps=1e-05, momentum=0.1, affine=True, track_running_stats=True)\n",
       "    (lrelu): LeakyReLU(negative_slope=0.01)\n",
       "    (dropout): Dropout(p=0.5, inplace=False)\n",
       "    (conv2): Conv2d(32, 32, kernel_size=(3, 3), stride=(3, 3), padding=(1, 1))\n",
       "    (conv11): Conv2d(32, 32, kernel_size=(3, 3), stride=(3, 3), padding=(1, 1))\n",
       "    (pre_bn): BatchNorm2d(32, eps=1e-05, momentum=0.1, affine=True, track_running_stats=True)\n",
       "  )\n",
       "  (block3): ResNetBlock(\n",
       "    (conv1): Conv2d(32, 32, kernel_size=(3, 3), stride=(1, 1), padding=(1, 1))\n",
       "    (bn1): BatchNorm2d(32, eps=1e-05, momentum=0.1, affine=True, track_running_stats=True)\n",
       "    (lrelu): LeakyReLU(negative_slope=0.01)\n",
       "    (dropout): Dropout(p=0.5, inplace=False)\n",
       "    (conv2): Conv2d(32, 32, kernel_size=(3, 3), stride=(3, 3), padding=(1, 1))\n",
       "    (conv11): Conv2d(32, 32, kernel_size=(3, 3), stride=(3, 3), padding=(1, 1))\n",
       "    (pre_bn): BatchNorm2d(32, eps=1e-05, momentum=0.1, affine=True, track_running_stats=True)\n",
       "  )\n",
       "  (block4): ResNetBlock(\n",
       "    (conv1): Conv2d(32, 32, kernel_size=(3, 3), stride=(1, 1), padding=(1, 1))\n",
       "    (bn1): BatchNorm2d(32, eps=1e-05, momentum=0.1, affine=True, track_running_stats=True)\n",
       "    (lrelu): LeakyReLU(negative_slope=0.01)\n",
       "    (dropout): Dropout(p=0.5, inplace=False)\n",
       "    (conv2): Conv2d(32, 32, kernel_size=(3, 3), stride=(3, 3), padding=(1, 1))\n",
       "    (conv11): Conv2d(32, 32, kernel_size=(3, 3), stride=(3, 3), padding=(1, 1))\n",
       "    (pre_bn): BatchNorm2d(32, eps=1e-05, momentum=0.1, affine=True, track_running_stats=True)\n",
       "  )\n",
       "  (block5): ResNetBlock(\n",
       "    (conv1): Conv2d(32, 32, kernel_size=(3, 3), stride=(1, 1), padding=(1, 1))\n",
       "    (bn1): BatchNorm2d(32, eps=1e-05, momentum=0.1, affine=True, track_running_stats=True)\n",
       "    (lrelu): LeakyReLU(negative_slope=0.01)\n",
       "    (dropout): Dropout(p=0.5, inplace=False)\n",
       "    (conv2): Conv2d(32, 32, kernel_size=(3, 3), stride=(3, 3), padding=(1, 1))\n",
       "    (conv11): Conv2d(32, 32, kernel_size=(3, 3), stride=(3, 3), padding=(1, 1))\n",
       "    (pre_bn): BatchNorm2d(32, eps=1e-05, momentum=0.1, affine=True, track_running_stats=True)\n",
       "  )\n",
       "  (block6): ResNetBlock(\n",
       "    (conv1): Conv2d(32, 32, kernel_size=(3, 3), stride=(1, 1), padding=(1, 1))\n",
       "    (bn1): BatchNorm2d(32, eps=1e-05, momentum=0.1, affine=True, track_running_stats=True)\n",
       "    (lrelu): LeakyReLU(negative_slope=0.01)\n",
       "    (dropout): Dropout(p=0.5, inplace=False)\n",
       "    (conv2): Conv2d(32, 32, kernel_size=(3, 3), stride=(3, 3), padding=(1, 1))\n",
       "    (conv11): Conv2d(32, 32, kernel_size=(3, 3), stride=(3, 3), padding=(1, 1))\n",
       "    (pre_bn): BatchNorm2d(32, eps=1e-05, momentum=0.1, affine=True, track_running_stats=True)\n",
       "  )\n",
       "  (block7): ResNetBlock(\n",
       "    (conv1): Conv2d(32, 32, kernel_size=(3, 3), stride=(1, 1), padding=(1, 1))\n",
       "    (bn1): BatchNorm2d(32, eps=1e-05, momentum=0.1, affine=True, track_running_stats=True)\n",
       "    (lrelu): LeakyReLU(negative_slope=0.01)\n",
       "    (dropout): Dropout(p=0.5, inplace=False)\n",
       "    (conv2): Conv2d(32, 32, kernel_size=(3, 3), stride=(3, 3), padding=(1, 1))\n",
       "    (conv11): Conv2d(32, 32, kernel_size=(3, 3), stride=(3, 3), padding=(1, 1))\n",
       "    (pre_bn): BatchNorm2d(32, eps=1e-05, momentum=0.1, affine=True, track_running_stats=True)\n",
       "  )\n",
       "  (block8): ResNetBlock(\n",
       "    (conv1): Conv2d(32, 32, kernel_size=(3, 3), stride=(1, 1), padding=(1, 1))\n",
       "    (bn1): BatchNorm2d(32, eps=1e-05, momentum=0.1, affine=True, track_running_stats=True)\n",
       "    (lrelu): LeakyReLU(negative_slope=0.01)\n",
       "    (dropout): Dropout(p=0.5, inplace=False)\n",
       "    (conv2): Conv2d(32, 32, kernel_size=(3, 3), stride=(3, 3), padding=(1, 1))\n",
       "    (conv11): Conv2d(32, 32, kernel_size=(3, 3), stride=(3, 3), padding=(1, 1))\n",
       "    (pre_bn): BatchNorm2d(32, eps=1e-05, momentum=0.1, affine=True, track_running_stats=True)\n",
       "  )\n",
       "  (block9): ResNetBlock(\n",
       "    (conv1): Conv2d(32, 32, kernel_size=(3, 3), stride=(1, 1), padding=(1, 1))\n",
       "    (bn1): BatchNorm2d(32, eps=1e-05, momentum=0.1, affine=True, track_running_stats=True)\n",
       "    (lrelu): LeakyReLU(negative_slope=0.01)\n",
       "    (dropout): Dropout(p=0.5, inplace=False)\n",
       "    (conv2): Conv2d(32, 32, kernel_size=(3, 3), stride=(3, 3), padding=(1, 1))\n",
       "    (conv11): Conv2d(32, 32, kernel_size=(3, 3), stride=(3, 3), padding=(1, 1))\n",
       "    (pre_bn): BatchNorm2d(32, eps=1e-05, momentum=0.1, affine=True, track_running_stats=True)\n",
       "  )\n",
       "  (lrelu): LeakyReLU(negative_slope=0.01)\n",
       "  (bn): BatchNorm2d(32, eps=1e-05, momentum=0.1, affine=True, track_running_stats=True)\n",
       "  (dropout): Dropout(p=0.5, inplace=False)\n",
       "  (logsoftmax): LogSoftmax(dim=1)\n",
       "  (fc1): Linear(in_features=32, out_features=128, bias=True)\n",
       "  (fc2): Linear(in_features=128, out_features=2, bias=True)\n",
       ")"
      ]
     },
     "execution_count": 29,
     "metadata": {},
     "output_type": "execute_result"
    }
   ],
   "source": [
    "model"
   ]
  },
  {
   "cell_type": "markdown",
   "metadata": {},
   "source": [
    "## Class for counting metrics"
   ]
  },
  {
   "cell_type": "code",
   "execution_count": 30,
   "metadata": {},
   "outputs": [],
   "source": [
    "class AverageMeter(object):\n",
    "    \"\"\"\n",
    "    Computes and stores the average and current value\n",
    "    \"\"\"\n",
    "    \n",
    "    def __init__(self):\n",
    "        self.reset()\n",
    "\n",
    "    def reset(self):\n",
    "        self.val = 0\n",
    "        self.avg = 0\n",
    "        self.sum = 0\n",
    "        self.count = 0\n",
    "\n",
    "    def update(self, val, n=1):\n",
    "        self.val = val\n",
    "        self.sum += val * n\n",
    "        self.count += n\n",
    "        self.avg = self.sum / self.count"
   ]
  },
  {
   "cell_type": "markdown",
   "metadata": {},
   "source": [
    "## Create directory for results"
   ]
  },
  {
   "cell_type": "code",
   "execution_count": 31,
   "metadata": {},
   "outputs": [
    {
     "name": "stdout",
     "output_type": "stream",
     "text": [
      "PC DIR CREATED\n"
     ]
    }
   ],
   "source": [
    "import shutil, os\n",
    "\n",
    "try:\n",
    "    if CFG.Kaggle:\n",
    "        os.mkdir('../working/result')\n",
    "        print('KAGGLE DIR CREATED')\n",
    "    else:\n",
    "        #shutil.rmtree('./result')\n",
    "        local_time = time.ctime().replace(' ', '_').replace(':', '.')\n",
    "        directory = f'../results/result_{CFG.model_name}_{local_time}'\n",
    "        os.mkdir(directory)\n",
    "        print('PC DIR CREATED')\n",
    "except Exception:\n",
    "    print(\"DIR NOT CREATED\")\n",
    "    pass"
   ]
  },
  {
   "cell_type": "code",
   "execution_count": 32,
   "metadata": {},
   "outputs": [],
   "source": [
    "from collections import defaultdict"
   ]
  },
  {
   "cell_type": "code",
   "execution_count": 33,
   "metadata": {},
   "outputs": [],
   "source": [
    "storage = defaultdict(list)"
   ]
  },
  {
   "cell_type": "markdown",
   "metadata": {},
   "source": [
    "## EER CODE"
   ]
  },
  {
   "cell_type": "code",
   "execution_count": 34,
   "metadata": {},
   "outputs": [],
   "source": [
    "def compute_det_curve(target_scores, nontarget_scores):\n",
    "\n",
    "    n_scores = target_scores.size + nontarget_scores.size # sum of sizes \n",
    "    all_scores = np.concatenate((target_scores, nontarget_scores)) # vector of scores\n",
    "    labels = np.concatenate((np.ones(target_scores.size), np.zeros(nontarget_scores.size))) # vextor of labels\n",
    "    # Sort labels based on scores\n",
    "    indices = np.argsort(all_scores, kind='mergesort') # retern indexes of sorted array of zeros and ones\n",
    "    labels = labels[indices] # and sort labels like (zeros and ones) for all 0 in both arrays and (zeros + ones) of 1 in both arrays\n",
    "\n",
    "    # Compute false rejection and false acceptance rates\n",
    "    tar_trial_sums = np.cumsum(labels) # array with max element N\n",
    "    # (np.arange(1, n_scores + 1, step = 1) - tar_trial_sums | gives array of element with max el = N\n",
    "    nontarget_trial_sums = nontarget_scores.size - (np.arange(1, n_scores + 1, step = 1) - tar_trial_sums)\n",
    "\n",
    "    frr = np.concatenate((np.atleast_1d(0), tar_trial_sums / target_scores.size))  # false rejection rates\n",
    "    far = np.concatenate((np.atleast_1d(1), nontarget_trial_sums / nontarget_scores.size))  # false acceptance rates\n",
    "    thresholds = np.concatenate((np.atleast_1d(all_scores[indices[0]] - 0.001), all_scores[indices]))  # Thresholds are the sorted scores\n",
    "\n",
    "    return frr, far, thresholds\n",
    "\n",
    "def compute_eer(target_scores, nontarget_scores):\n",
    "    \"\"\" Returns equal error rate (EER) and the corresponding threshold. \"\"\"\n",
    "    frr, far, thresholds = compute_det_curve(target_scores, nontarget_scores)\n",
    "    abs_diffs = np.abs(frr - far)\n",
    "    min_index = np.argmin(abs_diffs) # return index of min element\n",
    "    eer = np.mean((frr[min_index], far[min_index]))\n",
    "    return eer, thresholds[min_index]\n",
    "\n",
    "def minDCF(confusion_matrix):\n",
    "# 0 -Real | 1 - Sintesized\n",
    "# FAR - поставили 0 вместо 1\n",
    "# FRR - поставили 1 вместо 0\n",
    "    Pfar =  confusion_matrix[1][0] /(confusion_matrix[1][0] + confusion_matrix[0][1] + confusion_matrix[0][0] + confusion_matrix[1][1])\n",
    "    Pfrr =  confusion_matrix[0][1] /(confusion_matrix[1][0] + confusion_matrix[0][1] + confusion_matrix[0][0] + confusion_matrix[1][1])\n",
    "    mDCF = (0.01 * Pfar + 0.1 * Pfrr) * 100\n",
    "    return mDCF"
   ]
  },
  {
   "cell_type": "markdown",
   "metadata": {},
   "source": [
    "\n",
    "## Создание файла для ведения статистики"
   ]
  },
  {
   "cell_type": "code",
   "execution_count": 35,
   "metadata": {},
   "outputs": [],
   "source": [
    "f = open(f'{directory}/Stats', 'w')"
   ]
  },
  {
   "cell_type": "code",
   "execution_count": 36,
   "metadata": {},
   "outputs": [],
   "source": [
    "#f.write('\\n\\n\\n')"
   ]
  },
  {
   "cell_type": "markdown",
   "metadata": {},
   "source": [
    "# Wandb"
   ]
  },
  {
   "cell_type": "code",
   "execution_count": 37,
   "metadata": {},
   "outputs": [
    {
     "data": {
      "text/html": [
       "Tracking run with wandb version 0.13.5"
      ],
      "text/plain": [
       "<IPython.core.display.HTML object>"
      ]
     },
     "metadata": {},
     "output_type": "display_data"
    },
    {
     "data": {
      "text/html": [
       "Run data is saved locally in <code>C:\\Users\\79671\\Desktop\\ML\\Deep_Fake\\Notebooks\\wandb\\run-20221205_163737-m8ygjjxb</code>"
      ],
      "text/plain": [
       "<IPython.core.display.HTML object>"
      ]
     },
     "metadata": {},
     "output_type": "display_data"
    },
    {
     "data": {
      "text/html": [
       "Syncing run <strong><a href=\"https://wandb.ai/kode-ai/MFCCModel_training/runs/m8ygjjxb\" target=\"_blank\">model-MFCCModel, Epochs: 30, Samples: 45235 </a></strong> to <a href=\"https://wandb.ai/kode-ai/MFCCModel_training\" target=\"_blank\">Weights & Biases</a> (<a href=\"https://wandb.me/run\" target=\"_blank\">docs</a>)<br/>"
      ],
      "text/plain": [
       "<IPython.core.display.HTML object>"
      ]
     },
     "metadata": {},
     "output_type": "display_data"
    }
   ],
   "source": [
    "\n",
    "\n",
    "run = wandb.init(project='MFCCModel_training',                      \n",
    "                      anonymous=anonymous,\n",
    "                      name=f\"model-{CFG.model_name}, Epochs: {CFG.epochs}, Samples: {CFG.num_item_all} \",                  \n",
    "                     )\n",
    "\n",
    "wandb.config.epochs = CFG.epochs\n",
    "wandb.config.train_batch_size = CFG.train_bs\n",
    "wandb.config.valid_batch_sizw = CFG.valid_bs\n",
    "wandb.config.samples = CFG.num_item_all\n",
    "wandb.config.Debug = CFG.DEBUG\n",
    "wandb.config.sr = CFG.SAMPLE_RATE\n",
    "wandb.config.lr = CFG.lr\n",
    "\n"
   ]
  },
  {
   "cell_type": "markdown",
   "metadata": {},
   "source": [
    "# Training of model"
   ]
  },
  {
   "cell_type": "code",
   "execution_count": 62,
   "metadata": {},
   "outputs": [
    {
     "name": "stdout",
     "output_type": "stream",
     "text": [
      "Epoch: 1/30\n"
     ]
    },
    {
     "ename": "ValueError",
     "evalue": "I/O operation on closed file.",
     "output_type": "error",
     "traceback": [
      "\u001b[1;31m---------------------------------------------------------------------------\u001b[0m",
      "\u001b[1;31mValueError\u001b[0m                                Traceback (most recent call last)",
      "Input \u001b[1;32mIn [62]\u001b[0m, in \u001b[0;36m<cell line: 2>\u001b[1;34m()\u001b[0m\n\u001b[0;32m      2\u001b[0m \u001b[38;5;28;01mfor\u001b[39;00m epoch \u001b[38;5;129;01min\u001b[39;00m \u001b[38;5;28mrange\u001b[39m(\u001b[38;5;241m1\u001b[39m, CFG\u001b[38;5;241m.\u001b[39mepochs \u001b[38;5;241m+\u001b[39m \u001b[38;5;241m1\u001b[39m):\n\u001b[0;32m      3\u001b[0m     \u001b[38;5;28mprint\u001b[39m(\u001b[38;5;124mf\u001b[39m\u001b[38;5;124m'\u001b[39m\u001b[38;5;124mEpoch: \u001b[39m\u001b[38;5;132;01m{\u001b[39;00mepoch\u001b[38;5;132;01m}\u001b[39;00m\u001b[38;5;124m/\u001b[39m\u001b[38;5;132;01m{\u001b[39;00mCFG\u001b[38;5;241m.\u001b[39mepochs\u001b[38;5;132;01m}\u001b[39;00m\u001b[38;5;124m'\u001b[39m)\n\u001b[1;32m----> 4\u001b[0m     \u001b[43mf\u001b[49m\u001b[38;5;241;43m.\u001b[39;49m\u001b[43mwrite\u001b[49m\u001b[43m(\u001b[49m\u001b[38;5;124;43mf\u001b[39;49m\u001b[38;5;124;43m'\u001b[39;49m\u001b[38;5;124;43mEpoch: \u001b[39;49m\u001b[38;5;132;43;01m{\u001b[39;49;00m\u001b[43mepoch\u001b[49m\u001b[38;5;132;43;01m}\u001b[39;49;00m\u001b[38;5;124;43m'\u001b[39;49m\u001b[43m)\u001b[49m\n\u001b[0;32m      5\u001b[0m     f\u001b[38;5;241m.\u001b[39mwrite(\u001b[38;5;124m'\u001b[39m\u001b[38;5;130;01m\\n\u001b[39;00m\u001b[38;5;124m'\u001b[39m)\n\u001b[0;32m      6\u001b[0m     train_loss_meter \u001b[38;5;241m=\u001b[39m AverageMeter()\n",
      "\u001b[1;31mValueError\u001b[0m: I/O operation on closed file."
     ]
    }
   ],
   "source": [
    "best_accuracy = 0\n",
    "for epoch in range(1, CFG.epochs + 1):\n",
    "    print(f'Epoch: {epoch}/{CFG.epochs}')\n",
    "    f.write(f'Epoch: {epoch}')\n",
    "    f.write('\\n')\n",
    "    train_loss_meter = AverageMeter()\n",
    "    model.train()\n",
    "####################################################################################################################\n",
    "################################################## TRAINING ########################################################\n",
    "####################################################################################################################\n",
    "\n",
    "\n",
    "    for i, batch in enumerate(tqdm(train_loader)):\n",
    "        # Move batch to device if device != 'cpu'\n",
    "        wav = batch[0].to(device)\n",
    "        #length = batch['length'].to(device)\n",
    "        label = batch[1].to(device)\n",
    "        label = label.reshape(len(label))\n",
    "        label = torch.tensor(label).long()\n",
    "        #print(f'label:{label}')\n",
    "        wav = wav.squeeze()\n",
    "        #print(wav.shape)\n",
    "        #mel, mel_length = featurizer(wav, length)\n",
    "        output = model(wav)\n",
    "        #print(output.shape)\n",
    "        #print(f'output :{output.argmax(dim=-1).shape}')\n",
    "        \n",
    "        #print(f'label: {label.shape}')\n",
    "        loss = criterion(output, label) # need class probabitities\n",
    "        \n",
    "        loss.backward()\n",
    "        optimizer.step()\n",
    "        optimizer.zero_grad()\n",
    "        train_loss_meter.update(loss.item())\n",
    "        \n",
    "    storage['train_loss'].append(train_loss_meter.avg)\n",
    "    \n",
    "    \n",
    "###################################################################################################################\n",
    "#############################################  Validation  ########################################################\n",
    "###################################################################################################################\n",
    "    full_vec = []\n",
    "    full_labels = []\n",
    "    validation_loss_meter = AverageMeter()\n",
    "    validation_accuracy_meter = AverageMeter()\n",
    "    validation_f1_meter = AverageMeter()\n",
    "    validation_EER_meter = AverageMeter()\n",
    "    validation_MinDCF_meter = AverageMeter()\n",
    "    all_matrix = [[0,0],[0,0]]\n",
    "    model.eval()\n",
    "    for i, batch in enumerate(tqdm(valid_loader)):\n",
    "        # Move batch to device if device != 'cpu'\n",
    "        wav = batch[0].to(device)\n",
    "        #length = batch['length'].to(device)\n",
    "        label = batch[1].to(device)\n",
    "        label = label.reshape(len(label))\n",
    "        label = torch.tensor(label).long()\n",
    "        wav = wav.squeeze()\n",
    "        with torch.no_grad():\n",
    "            output = model(wav)\n",
    "            loss = criterion(output, label)\n",
    "            out2 = output.softmax(dim=1)\n",
    "            out2 = out2.transpose(0,1)\n",
    "            out2 = out2[1][:]\n",
    "            out2 = out2.cpu().numpy()\n",
    "            out = output.argmax(dim=-1).cpu().numpy()\n",
    "            labels = label.cpu().numpy()\n",
    "            full_vec.extend(out2)\n",
    "            full_labels.extend(labels)\n",
    "        #print(f'output :{output.argmax(dim=-1)}, label : {label}')\n",
    "        \n",
    "        matches = (output.argmax(dim=-1) == label).float().mean()\n",
    "        f1 = f1_score(output.argmax(dim=-1).cpu(), label.cpu(), average= 'weighted')\n",
    "        #print(f'Vallid:{matches.item()}')\n",
    "        \n",
    "        validation_loss_meter.update(loss.item(),        len(batch[0]))\n",
    "        validation_accuracy_meter.update(matches.item(), len(batch[0]))\n",
    "        #validation_EER_meter.update(eer[0],              len(batch[0]))\n",
    "        validation_f1_meter.update(f1,                   len(batch[0]))\n",
    "        \n",
    "        \n",
    "        matrix = confusion_matrix(labels,out)\n",
    "        all_matrix+=matrix\n",
    "        #print(f'F1 :{f1} , EER: {eer}')\n",
    "        #print(f'Confusion Matrix of all:{all_matrix}')\\\n",
    "######################################## SAVE MODEL ###########################################################################\n",
    "\n",
    "    if validation_accuracy_meter.avg > best_accuracy:\n",
    "        print(f'Validation_accuracy improved from {best_accuracy} ---> {validation_accuracy_meter.avg} !')\n",
    "        PATH = f\"{directory}/Best_epoch_of_{CFG.model_name}.bin\"\n",
    "        torch.save(model.state_dict(), PATH)\n",
    "        best_accuracy = validation_accuracy_meter.avg\n",
    " ###############################################################################################################################        \n",
    "\n",
    "\n",
    "    \n",
    "    #display.clear_output()\n",
    "    mDCF = minDCF(all_matrix)\n",
    "    validation_MinDCF_meter.update(mDCF)\n",
    "    \n",
    "    \n",
    "    print(f'Confusion Matrix of all:{all_matrix}')\n",
    "    print(f'minDCF : {mDCF}% ')\n",
    "    plt.title('ROC CURVE WITH EER')\n",
    "    fpr, tpr, _ = metrics.roc_curve(full_labels,  full_vec)\n",
    "    EER = brentq(lambda x : 1. - x - interp1d(fpr, tpr)(x), 0., 1.) * 100\n",
    "    print(f'EER : {EER}%')\n",
    "    \n",
    "    auc = metrics.roc_auc_score(full_labels,  full_vec)\n",
    "    plt.plot(fpr,tpr,label = 'AUC = %0.3f' % auc) #\"AUC=%0.2f' %\"+str(auc)+ '%')\n",
    "    plt.ylabel('True Positive Rate')\n",
    "    plt.xlabel('False Positive Rate')\n",
    "    plt.plot([0, 1], [1, 0],'r--', label = 'EER')\n",
    "    plt.plot([0, 1], [0, 1],'p--', label = 'Random Classifier')\n",
    "    plt.legend(loc=4)\n",
    "    plt.show()\n",
    "    \n",
    "    \n",
    "    storage['validation_loss'].append(validation_loss_meter.avg)\n",
    "    storage['validation_accuracy'].append(validation_accuracy_meter.avg)\n",
    "    storage['validation_F1_score'].append(validation_f1_meter.avg)\n",
    "    storage['validation_EER'].append(EER)\n",
    "    f.write('Validation_Loss: '+ str(validation_loss_meter.avg) + '\\n')\n",
    "    f.write('Validation accuracy: ' + str(validation_accuracy_meter.avg) + '\\n')\n",
    "    f.write('Validation_f1: '+str(validation_f1_meter.avg) + '\\n')\n",
    "    f.write('Validation_EER: '+str(EER) + '\\n')\n",
    "    f.write('Validation_MinDCF: '+ str(validation_MinDCF_meter.avg) + '%\\n')\n",
    "    f.write('\\n\\n')\n",
    "    \n",
    "    \n",
    "    wandb.log({\"Train Loss\": train_loss_meter.avg, \n",
    "            \"Valid Loss\": validation_loss_meter.avg,\n",
    "            \"Valid Accuracy\": validation_accuracy_meter.avg,\n",
    "            \"Validation F1 score\": validation_f1_meter.avg,\n",
    "            \"Validation EER\": EER,\n",
    "            \"Valiation mDCF\":validation_MinDCF_meter.avg,\n",
    "            \"EER\" : EER })  \n",
    "############################################## PLOT ###################################################################### \n",
    "    fig, axes = plt.subplots(1, 5, figsize=(20, 5))\n",
    "\n",
    "    axes[0].plot(storage['train_loss'], label='train_loss')\n",
    "    axes[1].plot(storage['validation_loss'], label='validation_loss')\n",
    "    axes[2].plot(storage['validation_accuracy'], label='validation_accuracy')\n",
    "    axes[3].plot(storage['validation_F1_score'], label='validation_F1_score')\n",
    "    axes[4].plot(storage['validation_EER'], label='EER')\n",
    "    for i in range(5):\n",
    "        axes[i].grid()\n",
    "        axes[i].legend()\n",
    "\n",
    "    plt.show()\n",
    "################### Save Last Epoch ##########################################\n",
    "best_model_wts = copy.deepcopy(model.state_dict())\n",
    "PATH = f\"./{directory}/Last_epoch_of_{CFG.model_name}.bin\"\n",
    "torch.save(model.state_dict(), PATH)"
   ]
  },
  {
   "cell_type": "code",
   "execution_count": 52,
   "metadata": {},
   "outputs": [
    {
     "data": {
      "text/html": [
       "Waiting for W&B process to finish... <strong style=\"color:green\">(success).</strong>"
      ],
      "text/plain": [
       "<IPython.core.display.HTML object>"
      ]
     },
     "metadata": {},
     "output_type": "display_data"
    },
    {
     "data": {
      "application/vnd.jupyter.widget-view+json": {
       "model_id": "68470c86ad8b418fa4b04c934c48db78",
       "version_major": 2,
       "version_minor": 0
      },
      "text/plain": [
       "VBox(children=(Label(value='0.001 MB of 0.001 MB uploaded (0.000 MB deduped)\\r'), FloatProgress(value=1.0, max…"
      ]
     },
     "metadata": {},
     "output_type": "display_data"
    },
    {
     "data": {
      "text/html": [
       "<style>\n",
       "    table.wandb td:nth-child(1) { padding: 0 10px; text-align: left ; width: auto;} td:nth-child(2) {text-align: left ; width: 100%}\n",
       "    .wandb-row { display: flex; flex-direction: row; flex-wrap: wrap; justify-content: flex-start; width: 100% }\n",
       "    .wandb-col { display: flex; flex-direction: column; flex-basis: 100%; flex: 1; padding: 10px; }\n",
       "    </style>\n",
       "<div class=\"wandb-row\"><div class=\"wandb-col\"><h3>Run history:</h3><br/><table class=\"wandb\"><tr><td>EER</td><td>█▆▅▄▅▃▃▃▃▂▂▂▂▂▁▂▂▁▁▂▂▁▁▁▁▁▁▁▁▁</td></tr><tr><td>Train Loss</td><td>█▇▆▅▄▄▄▃▃▃▂▂▂▂▂▂▂▂▁▁▁▁▁▁▁▁▁▁▁▁</td></tr><tr><td>Valiation mDCF</td><td>█▅▆▂▄▂▃▂▂▂▂▁▂▁▁▁▁▁▂▁▂▁▁▂▂▁▁▁▁▁</td></tr><tr><td>Valid Accuracy</td><td>▁▂▃▃▄▃▆▆▆▇▇▆▇▇▇▇▇█▇▇▇█▇▇███▇██</td></tr><tr><td>Valid Loss</td><td>█▇▆▅▅▅▃▃▃▃▂▃▂▂▂▂▂▂▂▂▂▁▁▂▁▂▁▂▁▁</td></tr><tr><td>Validation EER</td><td>▁▁▁▁▁▁▁▁▁▁▁▁▁▁▁▁▁▁▁▁▁▁▁▁▁▁▁▁▁▁</td></tr><tr><td>Validation F1 score</td><td>▁▂▃▃▄▃▆▆▆▆▇▆▇▇▇▇▇█▇▇▇█▇▇███▇██</td></tr></table><br/></div><div class=\"wandb-col\"><h3>Run summary:</h3><br/><table class=\"wandb\"><tr><td>EER</td><td>0.03739</td></tr><tr><td>Train Loss</td><td>0.04244</td></tr><tr><td>Valiation mDCF</td><td>0.10423</td></tr><tr><td>Valid Accuracy</td><td>0.96341</td></tr><tr><td>Valid Loss</td><td>0.11098</td></tr><tr><td>Validation EER</td><td>0</td></tr><tr><td>Validation F1 score</td><td>0.96348</td></tr></table><br/></div></div>"
      ],
      "text/plain": [
       "<IPython.core.display.HTML object>"
      ]
     },
     "metadata": {},
     "output_type": "display_data"
    },
    {
     "data": {
      "text/html": [
       "Synced <strong style=\"color:#cdcd00\">model-MFCCModel, Epochs: 30, Samples: 45235 </strong>: <a href=\"https://wandb.ai/kode-ai/MFCCModel_training/runs/m8ygjjxb\" target=\"_blank\">https://wandb.ai/kode-ai/MFCCModel_training/runs/m8ygjjxb</a><br/>Synced 6 W&B file(s), 0 media file(s), 0 artifact file(s) and 0 other file(s)"
      ],
      "text/plain": [
       "<IPython.core.display.HTML object>"
      ]
     },
     "metadata": {},
     "output_type": "display_data"
    },
    {
     "data": {
      "text/html": [
       "Find logs at: <code>.\\wandb\\run-20221205_163737-m8ygjjxb\\logs</code>"
      ],
      "text/plain": [
       "<IPython.core.display.HTML object>"
      ]
     },
     "metadata": {},
     "output_type": "display_data"
    }
   ],
   "source": [
    "run.finish()"
   ]
  },
  {
   "cell_type": "code",
   "execution_count": 53,
   "metadata": {},
   "outputs": [],
   "source": [
    "best_model_wts = copy.deepcopy(model.state_dict())\n",
    "PATH = f\"./result/Last_epoch_of_{CFG.model_name}.bin\"\n",
    "torch.save(model.state_dict(), PATH)"
   ]
  },
  {
   "cell_type": "markdown",
   "metadata": {},
   "source": [
    "# Test trained Model"
   ]
  },
  {
   "cell_type": "code",
   "execution_count": 63,
   "metadata": {},
   "outputs": [
    {
     "data": {
      "application/vnd.jupyter.widget-view+json": {
       "model_id": "7c9ad7975ba74c8d9c24c282f5d70bb1",
       "version_major": 2,
       "version_minor": 0
      },
      "text/plain": [
       "  0%|          | 0/283 [00:00<?, ?it/s]"
      ]
     },
     "metadata": {},
     "output_type": "display_data"
    },
    {
     "name": "stdout",
     "output_type": "stream",
     "text": [
      "Test:0.96875\n",
      "Test:0.90625\n",
      "Test:0.96875\n",
      "Test:0.96875\n",
      "Test:0.96875\n",
      "Test:0.9375\n",
      "Test:0.96875\n",
      "Test:0.96875\n",
      "Test:0.96875\n",
      "Test:0.9375\n",
      "Test:0.96875\n",
      "Test:0.84375\n",
      "Test:0.96875\n",
      "Test:0.90625\n",
      "Test:0.9375\n",
      "Test:1.0\n",
      "Test:0.90625\n",
      "Test:1.0\n",
      "Test:1.0\n",
      "Test:1.0\n",
      "Test:0.9375\n",
      "Test:1.0\n",
      "Test:0.96875\n",
      "Test:0.9375\n",
      "Test:0.96875\n",
      "Test:0.96875\n",
      "Test:0.90625\n",
      "Test:0.9375\n",
      "Test:0.96875\n",
      "Test:0.96875\n",
      "Test:0.96875\n",
      "Test:0.96875\n",
      "Test:0.9375\n",
      "Test:1.0\n",
      "Test:0.9375\n",
      "Test:0.9375\n",
      "Test:0.96875\n",
      "Test:0.96875\n",
      "Test:0.96875\n",
      "Test:1.0\n",
      "Test:0.96875\n",
      "Test:1.0\n",
      "Test:0.90625\n",
      "Test:0.96875\n",
      "Test:0.96875\n",
      "Test:0.96875\n",
      "Test:0.9375\n",
      "Test:0.9375\n",
      "Test:0.96875\n",
      "Test:1.0\n",
      "Test:1.0\n",
      "Test:0.96875\n",
      "Test:0.96875\n",
      "Test:0.96875\n",
      "Test:1.0\n",
      "Test:0.96875\n",
      "Test:1.0\n",
      "Test:0.9375\n",
      "Test:0.9375\n",
      "Test:1.0\n",
      "Test:0.9375\n",
      "Test:0.9375\n",
      "Test:0.9375\n",
      "Test:0.9375\n",
      "Test:0.9375\n",
      "Test:1.0\n",
      "Test:1.0\n",
      "Test:0.96875\n",
      "Test:0.96875\n",
      "Test:0.96875\n",
      "Test:0.96875\n",
      "Test:0.84375\n",
      "Test:0.96875\n",
      "Test:0.96875\n",
      "Test:0.96875\n",
      "Test:1.0\n",
      "Test:1.0\n",
      "Test:0.90625\n",
      "Test:0.96875\n",
      "Test:0.9375\n",
      "Test:0.96875\n",
      "Test:0.96875\n",
      "Test:1.0\n",
      "Test:0.9375\n",
      "Test:1.0\n",
      "Test:0.96875\n",
      "Test:1.0\n",
      "Test:1.0\n",
      "Test:0.9375\n",
      "Test:0.96875\n",
      "Test:0.96875\n",
      "Test:1.0\n",
      "Test:0.96875\n",
      "Test:0.96875\n",
      "Test:0.96875\n",
      "Test:0.96875\n",
      "Test:1.0\n",
      "Test:0.9375\n",
      "Test:1.0\n",
      "Test:1.0\n",
      "Test:0.875\n",
      "Test:1.0\n",
      "Test:1.0\n",
      "Test:0.96875\n",
      "Test:0.9375\n",
      "Test:1.0\n",
      "Test:1.0\n",
      "Test:1.0\n",
      "Test:0.96875\n",
      "Test:1.0\n",
      "Test:0.96875\n",
      "Test:0.9375\n",
      "Test:0.96875\n",
      "Test:0.96875\n",
      "Test:1.0\n",
      "Test:1.0\n",
      "Test:0.9375\n",
      "Test:0.90625\n",
      "Test:1.0\n",
      "Test:1.0\n",
      "Test:0.875\n",
      "Test:0.9375\n",
      "Test:1.0\n",
      "Test:1.0\n",
      "Test:0.96875\n",
      "Test:0.96875\n",
      "Test:1.0\n",
      "Test:0.9375\n",
      "Test:0.90625\n",
      "Test:0.90625\n",
      "Test:0.90625\n",
      "Test:1.0\n",
      "Test:0.9375\n",
      "Test:0.90625\n",
      "Test:0.96875\n",
      "Test:1.0\n",
      "Test:1.0\n",
      "Test:1.0\n",
      "Test:0.9375\n",
      "Test:1.0\n",
      "Test:0.96875\n",
      "Test:0.96875\n",
      "Test:1.0\n",
      "Test:1.0\n",
      "Test:0.96875\n",
      "Test:0.9375\n",
      "Test:1.0\n",
      "Test:0.9375\n",
      "Test:0.90625\n",
      "Test:0.875\n",
      "Test:0.9375\n",
      "Test:0.9375\n",
      "Test:0.96875\n",
      "Test:0.9375\n",
      "Test:0.9375\n",
      "Test:1.0\n",
      "Test:0.9375\n",
      "Test:1.0\n",
      "Test:0.96875\n",
      "Test:1.0\n",
      "Test:0.9375\n",
      "Test:1.0\n",
      "Test:0.9375\n",
      "Test:0.9375\n",
      "Test:0.96875\n",
      "Test:0.96875\n",
      "Test:0.90625\n",
      "Test:1.0\n",
      "Test:0.96875\n",
      "Test:1.0\n",
      "Test:0.9375\n",
      "Test:1.0\n",
      "Test:0.9375\n",
      "Test:0.9375\n",
      "Test:0.96875\n",
      "Test:1.0\n",
      "Test:0.9375\n",
      "Test:0.90625\n",
      "Test:0.875\n",
      "Test:1.0\n",
      "Test:1.0\n",
      "Test:0.9375\n",
      "Test:0.96875\n",
      "Test:0.96875\n",
      "Test:0.96875\n",
      "Test:1.0\n",
      "Test:1.0\n",
      "Test:0.9375\n",
      "Test:1.0\n",
      "Test:0.96875\n",
      "Test:0.9375\n",
      "Test:1.0\n",
      "Test:1.0\n",
      "Test:0.96875\n",
      "Test:1.0\n",
      "Test:1.0\n",
      "Test:0.96875\n",
      "Test:0.96875\n",
      "Test:0.96875\n",
      "Test:0.96875\n",
      "Test:0.96875\n",
      "Test:0.84375\n",
      "Test:0.96875\n",
      "Test:1.0\n",
      "Test:0.96875\n",
      "Test:0.96875\n",
      "Test:0.96875\n",
      "Test:1.0\n",
      "Test:0.96875\n",
      "Test:0.9375\n",
      "Test:1.0\n",
      "Test:0.9375\n",
      "Test:0.9375\n",
      "Test:1.0\n",
      "Test:0.9375\n",
      "Test:0.96875\n",
      "Test:1.0\n",
      "Test:0.84375\n",
      "Test:0.90625\n",
      "Test:1.0\n",
      "Test:0.96875\n",
      "Test:0.96875\n",
      "Test:0.9375\n",
      "Test:0.96875\n",
      "Test:0.9375\n",
      "Test:0.96875\n",
      "Test:1.0\n",
      "Test:0.96875\n",
      "Test:0.9375\n",
      "Test:0.96875\n",
      "Test:0.96875\n",
      "Test:1.0\n",
      "Test:1.0\n",
      "Test:0.96875\n",
      "Test:1.0\n",
      "Test:0.96875\n",
      "Test:1.0\n",
      "Test:0.9375\n",
      "Test:0.96875\n",
      "Test:0.9375\n",
      "Test:0.96875\n",
      "Test:0.96875\n",
      "Test:1.0\n",
      "Test:0.96875\n",
      "Test:0.9375\n",
      "Test:0.96875\n",
      "Test:0.96875\n",
      "Test:1.0\n",
      "Test:0.96875\n",
      "Test:0.96875\n",
      "Test:1.0\n",
      "Test:0.96875\n",
      "Test:0.96875\n",
      "Test:1.0\n",
      "Test:0.96875\n",
      "Test:0.96875\n",
      "Test:0.9375\n",
      "Test:0.9375\n",
      "Test:0.9375\n",
      "Test:0.96875\n",
      "Test:0.96875\n",
      "Test:1.0\n",
      "Test:0.96875\n",
      "Test:1.0\n",
      "Test:1.0\n",
      "Test:1.0\n",
      "Test:0.9375\n",
      "Test:1.0\n",
      "Test:0.96875\n",
      "Test:1.0\n",
      "Test:0.96875\n",
      "Test:1.0\n",
      "Test:0.96875\n",
      "Test:0.96875\n",
      "Test:0.9375\n",
      "Test:0.9375\n",
      "Test:0.96875\n",
      "Test:0.9375\n",
      "Test:0.96875\n",
      "Test:1.0\n",
      "Test:1.0\n",
      "Test:1.0\n",
      "Test:0.95652174949646\n",
      "Confusion Matrix of all:[[4461   88]\n",
      " [ 228 4270]]\n",
      "minDCF : 0.1224715375262518% \n",
      "EER : 3.468208092489047%\n"
     ]
    },
    {
     "data": {
      "image/png": "[encoded data removed]",
      "text/plain": [
       "<Figure size 432x288 with 1 Axes>"
      ]
     },
     "metadata": {
      "needs_background": "light"
     },
     "output_type": "display_data"
    },
    {
     "ename": "ValueError",
     "evalue": "I/O operation on closed file.",
     "output_type": "error",
     "traceback": [
      "\u001b[1;31m---------------------------------------------------------------------------\u001b[0m",
      "\u001b[1;31mValueError\u001b[0m                                Traceback (most recent call last)",
      "Input \u001b[1;32mIn [63]\u001b[0m, in \u001b[0;36m<cell line: 65>\u001b[1;34m()\u001b[0m\n\u001b[0;32m     61\u001b[0m plt\u001b[38;5;241m.\u001b[39mlegend(loc\u001b[38;5;241m=\u001b[39m\u001b[38;5;241m4\u001b[39m)\n\u001b[0;32m     62\u001b[0m plt\u001b[38;5;241m.\u001b[39mshow()\n\u001b[1;32m---> 65\u001b[0m \u001b[43mf\u001b[49m\u001b[38;5;241;43m.\u001b[39;49m\u001b[43mwrite\u001b[49m\u001b[43m(\u001b[49m\u001b[38;5;124;43m'\u001b[39;49m\u001b[38;5;124;43mtest_Loss: \u001b[39;49m\u001b[38;5;124;43m'\u001b[39;49m\u001b[38;5;241;43m+\u001b[39;49m\u001b[43m \u001b[49m\u001b[38;5;28;43mstr\u001b[39;49m\u001b[43m(\u001b[49m\u001b[43mtest_loss_meter\u001b[49m\u001b[38;5;241;43m.\u001b[39;49m\u001b[43mavg\u001b[49m\u001b[43m)\u001b[49m\u001b[43m \u001b[49m\u001b[38;5;241;43m+\u001b[39;49m\u001b[43m \u001b[49m\u001b[38;5;124;43m'\u001b[39;49m\u001b[38;5;130;43;01m\\n\u001b[39;49;00m\u001b[38;5;124;43m'\u001b[39;49m\u001b[43m)\u001b[49m\n\u001b[0;32m     66\u001b[0m f\u001b[38;5;241m.\u001b[39mwrite(\u001b[38;5;124m'\u001b[39m\u001b[38;5;124mtest accuracy: \u001b[39m\u001b[38;5;124m'\u001b[39m \u001b[38;5;241m+\u001b[39m \u001b[38;5;28mstr\u001b[39m(test_accuracy_meter\u001b[38;5;241m.\u001b[39mavg) \u001b[38;5;241m+\u001b[39m \u001b[38;5;124m'\u001b[39m\u001b[38;5;130;01m\\n\u001b[39;00m\u001b[38;5;124m'\u001b[39m)\n\u001b[0;32m     67\u001b[0m f\u001b[38;5;241m.\u001b[39mwrite(\u001b[38;5;124m'\u001b[39m\u001b[38;5;124mtest_f1: \u001b[39m\u001b[38;5;124m'\u001b[39m\u001b[38;5;241m+\u001b[39m\u001b[38;5;28mstr\u001b[39m(test_f1_meter\u001b[38;5;241m.\u001b[39mavg) \u001b[38;5;241m+\u001b[39m \u001b[38;5;124m'\u001b[39m\u001b[38;5;130;01m\\n\u001b[39;00m\u001b[38;5;124m'\u001b[39m)\n",
      "\u001b[1;31mValueError\u001b[0m: I/O operation on closed file."
     ]
    }
   ],
   "source": [
    "test_loss_meter = AverageMeter()\n",
    "test_accuracy_meter = AverageMeter()\n",
    "test_f1_meter = AverageMeter()\n",
    "test_EER_meter = AverageMeter()\n",
    "all_matrix = [[0,0],[0,0]]\n",
    "full_vec = []\n",
    "full_labels = []\n",
    "for i, batch in enumerate(tqdm(test_loader)):\n",
    "        # Move batch to device if device != 'cpu'\n",
    "        wav = batch[0].to(device)\n",
    "        #length = batch['length'].to(device)\n",
    "        label = batch[1].to(device)\n",
    "        label = label.reshape(len(label))\n",
    "        label = torch.tensor(label).long()\n",
    "        wav = wav.squeeze()\n",
    "        with torch.no_grad():\n",
    "            output = model(wav)\n",
    "            out = output.argmax(dim=-1).cpu().numpy()\n",
    "            out2 = output.softmax(dim=1)\n",
    "            out2 = out2.transpose(0,1)\n",
    "            out2 = out2[1][:]\n",
    "            out2 = out2.cpu().numpy()\n",
    "            labels = label.cpu().numpy()\n",
    "            full_vec.extend(out2)\n",
    "            full_labels.extend(labels)\n",
    "        #print(f'output :{output.argmax(dim=-1)}, label : {label}')\n",
    "        \n",
    "        matches = (output.argmax(dim=-1) == label).float().mean()\n",
    "        f1 = f1_score(output.argmax(dim=-1).cpu(), label.cpu(), average= 'weighted')\n",
    "        eer = compute_eer(labels,out)\n",
    "        #print(f'Test:{matches.item()}')\n",
    "        \n",
    "        test_loss_meter.update(loss.item(),        len(batch[0]))\n",
    "        test_accuracy_meter.update(matches.item(), len(batch[0]))\n",
    "        #test_EER_meter.update(eer[0],              len(batch[0]))\n",
    "        test_f1_meter.update(f1,                   len(batch[0]))\n",
    "        \n",
    "        \n",
    "        matrix = confusion_matrix(labels,out)\n",
    "        all_matrix+=matrix\n",
    "        #print(f'F1 :{f1} , EER: {eer}')\n",
    "        #print(f'Confusion Matrix of all:{all_matrix}')\\\n",
    "        \n",
    "mDCF = minDCF(all_matrix)\n",
    "validation_MinDCF_meter.update(mDCF)\n",
    "\n",
    "\n",
    "print(f'Confusion Matrix of all:{all_matrix}')\n",
    "print(f'minDCF : {mDCF}% ')\n",
    "plt.title('ROC CURVE WITH EER')\n",
    "fpr, tpr, _ = metrics.roc_curve(full_labels,  full_vec)\n",
    "EER = brentq(lambda x : 1. - x - interp1d(fpr, tpr)(x), 0., 1.) * 100\n",
    "print(f'EER : {EER}%')\n",
    "\n",
    "auc = metrics.roc_auc_score(full_labels,  full_vec)\n",
    "plt.plot(fpr,tpr,label = 'AUC = %0.3f' % auc) #\"AUC=%0.2f' %\"+str(auc)+ '%')\n",
    "plt.ylabel('True Positive Rate')\n",
    "plt.xlabel('False Positive Rate')\n",
    "plt.plot([0, 1], [1, 0],'r--', label = 'EER')\n",
    "plt.plot([0, 1], [0, 1],'p--', label = 'Random Classifier')\n",
    "plt.legend(loc=4)\n",
    "plt.show()\n",
    "\n",
    "\n",
    "f.write('test_Loss: '+ str(test_loss_meter.avg) + '\\n')\n",
    "f.write('test accuracy: ' + str(test_accuracy_meter.avg) + '\\n')\n",
    "f.write('test_f1: '+str(test_f1_meter.avg) + '\\n')\n",
    "f.write('test_EER: '+str(EER) + '\\n')\n",
    "f.write('Validation_MinDCF: '+ str(validation_MinDCF_meter.avg) + '%\\n')\n",
    "f.write('\\n\\n')\n",
    "#display.clear_output()\n",
    "print(f'Confusion Matrix of all:{all_matrix}')\n",
    "print(f'Accuracy on Test Dataset:{test_accuracy_meter.avg} !')"
   ]
  },
  {
   "cell_type": "code",
   "execution_count": 55,
   "metadata": {},
   "outputs": [],
   "source": [
    "f.close()"
   ]
  },
  {
   "cell_type": "code",
   "execution_count": 56,
   "metadata": {},
   "outputs": [
    {
     "data": {
      "text/plain": [
       "array([[10,  0],\n",
       "       [ 1, 12]], dtype=int64)"
      ]
     },
     "execution_count": 56,
     "metadata": {},
     "output_type": "execute_result"
    }
   ],
   "source": [
    "matrix"
   ]
  },
  {
   "cell_type": "code",
   "execution_count": 57,
   "metadata": {},
   "outputs": [],
   "source": [
    "all_matrix = [[0,0],[0,0]]"
   ]
  },
  {
   "cell_type": "code",
   "execution_count": 58,
   "metadata": {},
   "outputs": [],
   "source": [
    "all_matrix+=matrix"
   ]
  },
  {
   "cell_type": "code",
   "execution_count": 59,
   "metadata": {},
   "outputs": [
    {
     "data": {
      "text/plain": [
       "array([[10,  0],\n",
       "       [ 1, 12]], dtype=int64)"
      ]
     },
     "execution_count": 59,
     "metadata": {},
     "output_type": "execute_result"
    }
   ],
   "source": [
    "all_matrix\n"
   ]
  },
  {
   "cell_type": "code",
   "execution_count": 60,
   "metadata": {},
   "outputs": [
    {
     "data": {
      "text/plain": [
       "[0.8172198038229957,\n",
       " 0.8469848190921747,\n",
       " 0.860869252537074,\n",
       " 0.8649591795714426,\n",
       " 0.8778346152223309,\n",
       " 0.8613908512577068,\n",
       " 0.9184698411360708,\n",
       " 0.9235933841025048,\n",
       " 0.9286046972608732,\n",
       " 0.932719287316565,\n",
       " 0.9405686669843903,\n",
       " 0.9301151820968078,\n",
       " 0.9447162613398463,\n",
       " 0.9485779229097177,\n",
       " 0.9485285296961375,\n",
       " 0.9537304126916984,\n",
       " 0.9488008414387281,\n",
       " 0.9575594225487354,\n",
       " 0.9523205666353637,\n",
       " 0.953235151398728,\n",
       " 0.9489975350124646,\n",
       " 0.9619839029427025,\n",
       " 0.9513154168004967,\n",
       " 0.9528082045946956,\n",
       " 0.9566412978027881,\n",
       " 0.9577332071758691,\n",
       " 0.9647561967251921,\n",
       " 0.9347152991803855,\n",
       " 0.9589923791576879,\n",
       " 0.9634796864050984]"
      ]
     },
     "execution_count": 60,
     "metadata": {},
     "output_type": "execute_result"
    }
   ],
   "source": [
    "storage['validation_F1_score']\n",
    "    "
   ]
  },
  {
   "cell_type": "code",
   "execution_count": 61,
   "metadata": {},
   "outputs": [
    {
     "ename": "AttributeError",
     "evalue": "'numpy.ndarray' object has no attribute 'cpu'",
     "output_type": "error",
     "traceback": [
      "\u001b[1;31m---------------------------------------------------------------------------\u001b[0m",
      "\u001b[1;31mAttributeError\u001b[0m                            Traceback (most recent call last)",
      "Input \u001b[1;32mIn [61]\u001b[0m, in \u001b[0;36m<cell line: 1>\u001b[1;34m()\u001b[0m\n\u001b[1;32m----> 1\u001b[0m f1_score(\u001b[43mout\u001b[49m\u001b[38;5;241;43m.\u001b[39;49m\u001b[43mcpu\u001b[49m(),label\u001b[38;5;241m.\u001b[39mcpu(),average\u001b[38;5;241m=\u001b[39m\u001b[38;5;124m'\u001b[39m\u001b[38;5;124mweighted\u001b[39m\u001b[38;5;124m'\u001b[39m)\n",
      "\u001b[1;31mAttributeError\u001b[0m: 'numpy.ndarray' object has no attribute 'cpu'"
     ]
    }
   ],
   "source": [
    "f1_score(out.cpu(),label.cpu(),average='weighted')"
   ]
  },
  {
   "cell_type": "code",
   "execution_count": null,
   "metadata": {
    "execution": {
     "iopub.execute_input": "2022-07-13T22:11:13.108463Z",
     "iopub.status.busy": "2022-07-13T22:11:13.107767Z",
     "iopub.status.idle": "2022-07-13T22:27:41.170460Z",
     "shell.execute_reply": "2022-07-13T22:27:41.169446Z",
     "shell.execute_reply.started": "2022-07-13T22:11:13.108421Z"
    }
   },
   "outputs": [],
   "source": [
    "#fit(model, CFG.epochs , train_loader, valid_loader, optimizer, CFG.criterion, CFG.device)"
   ]
  },
  {
   "cell_type": "markdown",
   "metadata": {},
   "source": [
    "## Efficcient_net predict"
   ]
  },
  {
   "cell_type": "code",
   "execution_count": null,
   "metadata": {
    "execution": {
     "iopub.execute_input": "2022-07-13T22:27:41.922371Z",
     "iopub.status.busy": "2022-07-13T22:27:41.921713Z",
     "iopub.status.idle": "2022-07-13T22:27:45.531639Z",
     "shell.execute_reply": "2022-07-13T22:27:45.530687Z",
     "shell.execute_reply.started": "2022-07-13T22:27:41.922318Z"
    }
   },
   "outputs": [],
   "source": [
    "#test = []\n",
    "'./test/'\n",
    "items_names= [item_name.split('.')[0] for item_name in os.listdir(CFG.test_path)]#os.path.join(\"./test\",item_name)\n",
    "test_dataset = UrbanSoundDataset(data, items_names, mel_spectrogram, CFG.SAMPLE_RATE, CFG.NUM_SAMPLES, False)\n",
    "test_loader = DataLoader(test_dataset, batch_size=1, num_workers=0, shuffle=False, pin_memory=True, drop_last=False,collate_fn=Collator())\n"
   ]
  },
  {
   "cell_type": "code",
   "execution_count": null,
   "metadata": {},
   "outputs": [],
   "source": [
    "test = []\n",
    "for i, batch in enumerate(tqdm(test_loader)):\n",
    "        # Move batch to device if device != 'cpu'\n",
    "        wav = batch['wav'].to(device)\n",
    "        length = batch['length'].to(device)\n",
    "        label = batch['label'].to(device)\n",
    "\n",
    "        with torch.no_grad():\n",
    "\n",
    "            mel, mel_length = featurizer(wav, length)\n",
    "            output = model(mel, mel_length)\n",
    "            #print(output)\n",
    "            _, pred = torch.max(output, 1) # Return values and indices\n",
    "            #m = nn.Softmax(dim=1)\n",
    "            #pred = m(output)\n",
    "            #print(pred)\n",
    "            #print(pred.item())\n",
    "            #df\n",
    "            test.append(classes[pred.item()])\n",
    "#print(test)"
   ]
  },
  {
   "cell_type": "code",
   "execution_count": null,
   "metadata": {},
   "outputs": [],
   "source": [
    "print(len(test))"
   ]
  },
  {
   "cell_type": "code",
   "execution_count": null,
   "metadata": {},
   "outputs": [],
   "source": [
    "items_names= [item_name.split('.')[0] for item_name in os.listdir(CFG.test_path)]"
   ]
  },
  {
   "cell_type": "code",
   "execution_count": null,
   "metadata": {
    "execution": {
     "iopub.execute_input": "2022-07-13T22:29:38.581683Z",
     "iopub.status.busy": "2022-07-13T22:29:38.581326Z",
     "iopub.status.idle": "2022-07-13T22:29:38.588448Z",
     "shell.execute_reply": "2022-07-13T22:29:38.585882Z",
     "shell.execute_reply.started": "2022-07-13T22:29:38.581655Z"
    }
   },
   "outputs": [],
   "source": [
    "df = pd.DataFrame({\"id\" :items_names,\n",
    "                   \"eff\": test\n",
    "        \n",
    "                  })"
   ]
  },
  {
   "cell_type": "code",
   "execution_count": null,
   "metadata": {},
   "outputs": [],
   "source": [
    "df.head(2)"
   ]
  },
  {
   "cell_type": "code",
   "execution_count": null,
   "metadata": {
    "execution": {
     "iopub.status.busy": "2022-07-13T22:27:45.747598Z",
     "iopub.status.idle": "2022-07-13T22:27:45.748300Z",
     "shell.execute_reply": "2022-07-13T22:27:45.748059Z",
     "shell.execute_reply.started": "2022-07-13T22:27:45.748035Z"
    }
   },
   "outputs": [],
   "source": [
    "\n",
    "ansamble_pred = df['eff'].to_numpy()"
   ]
  },
  {
   "cell_type": "code",
   "execution_count": null,
   "metadata": {},
   "outputs": [],
   "source": [
    "#df.to_csv?"
   ]
  },
  {
   "cell_type": "code",
   "execution_count": null,
   "metadata": {},
   "outputs": [],
   "source": [
    "print('Generating submission file...')\n",
    "#os.chdir(\"./\")\n",
    "df.to_csv('answers.tsv',index=False, sep = '\\t',header = False)"
   ]
  },
  {
   "cell_type": "code",
   "execution_count": null,
   "metadata": {
    "execution": {
     "iopub.status.busy": "2022-07-13T22:27:45.749586Z",
     "iopub.status.idle": "2022-07-13T22:27:45.750270Z",
     "shell.execute_reply": "2022-07-13T22:27:45.750041Z",
     "shell.execute_reply.started": "2022-07-13T22:27:45.750017Z"
    }
   },
   "outputs": [],
   "source": [
    "# df = pd.DataFrame({\"id\" : range(1,250),\n",
    "#                    \"class\": ansamble_pred\n",
    "# #                   }"
   ]
  },
  {
   "cell_type": "code",
   "execution_count": null,
   "metadata": {
    "execution": {
     "iopub.status.busy": "2022-07-13T22:27:45.751572Z",
     "iopub.status.idle": "2022-07-13T22:27:45.752256Z",
     "shell.execute_reply": "2022-07-13T22:27:45.752029Z",
     "shell.execute_reply.started": "2022-07-13T22:27:45.752006Z"
    }
   },
   "outputs": [],
   "source": [
    "# df = pd.DataFrame({\"id\" : range(1,250),\n",
    "#                    \"class\": test\n",
    "#                   })"
   ]
  },
  {
   "cell_type": "code",
   "execution_count": null,
   "metadata": {
    "execution": {
     "iopub.status.busy": "2022-07-13T22:27:45.754037Z",
     "iopub.status.idle": "2022-07-13T22:27:45.754749Z",
     "shell.execute_reply": "2022-07-13T22:27:45.754517Z",
     "shell.execute_reply.started": "2022-07-13T22:27:45.754493Z"
    }
   },
   "outputs": [],
   "source": [
    "# df[\"class\"]"
   ]
  },
  {
   "cell_type": "code",
   "execution_count": null,
   "metadata": {
    "execution": {
     "iopub.status.busy": "2022-07-13T22:27:45.756008Z",
     "iopub.status.idle": "2022-07-13T22:27:45.756719Z",
     "shell.execute_reply": "2022-07-13T22:27:45.756489Z",
     "shell.execute_reply.started": "2022-07-13T22:27:45.756465Z"
    }
   },
   "outputs": [],
   "source": [
    "# df.tail(50)"
   ]
  },
  {
   "cell_type": "code",
   "execution_count": null,
   "metadata": {
    "execution": {
     "iopub.status.busy": "2022-07-13T22:27:45.757997Z",
     "iopub.status.idle": "2022-07-13T22:27:45.758717Z",
     "shell.execute_reply": "2022-07-13T22:27:45.758484Z",
     "shell.execute_reply.started": "2022-07-13T22:27:45.758460Z"
    }
   },
   "outputs": [],
   "source": [
    "# df_full.tail(50)"
   ]
  },
  {
   "cell_type": "code",
   "execution_count": null,
   "metadata": {
    "execution": {
     "iopub.status.busy": "2022-07-13T22:27:45.760001Z",
     "iopub.status.idle": "2022-07-13T22:27:45.760725Z",
     "shell.execute_reply": "2022-07-13T22:27:45.760495Z",
     "shell.execute_reply.started": "2022-07-13T22:27:45.760471Z"
    }
   },
   "outputs": [],
   "source": [
    "# print('Generating submission file...')\n",
    "#os.chdir(\"./\")\n",
    "# df.to_csv('submission_audio.csv',index=False)"
   ]
  },
  {
   "cell_type": "code",
   "execution_count": null,
   "metadata": {
    "execution": {
     "iopub.status.busy": "2022-07-13T22:27:45.761988Z",
     "iopub.status.idle": "2022-07-13T22:27:45.762720Z",
     "shell.execute_reply": "2022-07-13T22:27:45.762480Z",
     "shell.execute_reply.started": "2022-07-13T22:27:45.762456Z"
    }
   },
   "outputs": [],
   "source": [
    "# df_full.to_csv('submission_effnet7new2.csv',index=False)"
   ]
  }
 ],
 "metadata": {
  "kernelspec": {
   "display_name": "Python 3 (ipykernel)",
   "language": "python",
   "name": "python3"
  },
  "language_info": {
   "codemirror_mode": {
    "name": "ipython",
    "version": 3
   },
   "file_extension": ".py",
   "mimetype": "text/x-python",
   "name": "python",
   "nbconvert_exporter": "python",
   "pygments_lexer": "ipython3",
   "version": "3.9.12"
  }
 },
 "nbformat": 4,
 "nbformat_minor": 4
}
