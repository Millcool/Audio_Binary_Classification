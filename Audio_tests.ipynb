{
 "cells": [
  {
   "cell_type": "code",
   "execution_count": 1,
   "id": "35c7401b",
   "metadata": {},
   "outputs": [
    {
     "name": "stderr",
     "output_type": "stream",
     "text": [
      "C:\\Users\\79671\\anaconda3\\lib\\site-packages\\numpy\\_distributor_init.py:30: UserWarning: loaded more than 1 DLL from .libs:\n",
      "C:\\Users\\79671\\anaconda3\\lib\\site-packages\\numpy\\.libs\\libopenblas.FB5AE2TYXYH2IJRDKGDGQ3XBKLKTF43H.gfortran-win_amd64.dll\n",
      "C:\\Users\\79671\\anaconda3\\lib\\site-packages\\numpy\\.libs\\libopenblas.XWYDX2IKJW2NMTWSFYNGFUWKQU3LYTCZ.gfortran-win_amd64.dll\n",
      "  warnings.warn(\"loaded more than 1 DLL from .libs:\"\n"
     ]
    }
   ],
   "source": [
    "import pandas as pd\n",
    "import numpy as np\n",
    "from scipy.io import wavfile"
   ]
  },
  {
   "cell_type": "code",
   "execution_count": 2,
   "id": "35e4e4f3",
   "metadata": {},
   "outputs": [],
   "source": [
    "d = {'Name': ['Ilia','Anya','Victoriya'], 'Value': [1,2,3]}"
   ]
  },
  {
   "cell_type": "code",
   "execution_count": 3,
   "id": "64aa9ce3",
   "metadata": {},
   "outputs": [],
   "source": [
    "df = pd.DataFrame(d)"
   ]
  },
  {
   "cell_type": "code",
   "execution_count": 4,
   "id": "d9cb1187",
   "metadata": {},
   "outputs": [
    {
     "data": {
      "text/html": [
       "<div>\n",
       "<style scoped>\n",
       "    .dataframe tbody tr th:only-of-type {\n",
       "        vertical-align: middle;\n",
       "    }\n",
       "\n",
       "    .dataframe tbody tr th {\n",
       "        vertical-align: top;\n",
       "    }\n",
       "\n",
       "    .dataframe thead th {\n",
       "        text-align: right;\n",
       "    }\n",
       "</style>\n",
       "<table border=\"1\" class=\"dataframe\">\n",
       "  <thead>\n",
       "    <tr style=\"text-align: right;\">\n",
       "      <th></th>\n",
       "      <th>Name</th>\n",
       "      <th>Value</th>\n",
       "    </tr>\n",
       "  </thead>\n",
       "  <tbody>\n",
       "    <tr>\n",
       "      <th>0</th>\n",
       "      <td>Ilia</td>\n",
       "      <td>1</td>\n",
       "    </tr>\n",
       "    <tr>\n",
       "      <th>1</th>\n",
       "      <td>Anya</td>\n",
       "      <td>2</td>\n",
       "    </tr>\n",
       "    <tr>\n",
       "      <th>2</th>\n",
       "      <td>Victoriya</td>\n",
       "      <td>3</td>\n",
       "    </tr>\n",
       "  </tbody>\n",
       "</table>\n",
       "</div>"
      ],
      "text/plain": [
       "        Name  Value\n",
       "0       Ilia      1\n",
       "1       Anya      2\n",
       "2  Victoriya      3"
      ]
     },
     "execution_count": 4,
     "metadata": {},
     "output_type": "execute_result"
    }
   ],
   "source": [
    "df"
   ]
  },
  {
   "cell_type": "code",
   "execution_count": 5,
   "id": "66fac7d8",
   "metadata": {},
   "outputs": [],
   "source": [
    "name = 'Ilya'"
   ]
  },
  {
   "cell_type": "code",
   "execution_count": 6,
   "id": "748631fd",
   "metadata": {},
   "outputs": [
    {
     "name": "stdout",
     "output_type": "stream",
     "text": [
      "[1]\n"
     ]
    }
   ],
   "source": [
    "df = df.loc[lambda df: df['Name'] == 'Ilia']\n",
    "num = list(df['Value'])\n",
    "print(num)"
   ]
  },
  {
   "cell_type": "code",
   "execution_count": 7,
   "id": "33a48337",
   "metadata": {},
   "outputs": [],
   "source": [
    "def _get_audio_sample_label(path):\n",
    "    df = df.loc[lambda df: df['Name'] == path]\n",
    "    num = list(df['Tatget'])"
   ]
  },
  {
   "cell_type": "code",
   "execution_count": null,
   "id": "ff5e96c8",
   "metadata": {},
   "outputs": [],
   "source": []
  },
  {
   "cell_type": "code",
   "execution_count": 8,
   "id": "5575d793",
   "metadata": {},
   "outputs": [
    {
     "name": "stdout",
     "output_type": "stream",
     "text": [
      "Object `torchaudio.load` not found.\n"
     ]
    }
   ],
   "source": [
    "torchaudio.load?"
   ]
  },
  {
   "cell_type": "code",
   "execution_count": 9,
   "id": "01fa7058",
   "metadata": {},
   "outputs": [
    {
     "name": "stdout",
     "output_type": "stream",
     "text": [
      "Requirement already satisfied: librosa in c:\\users\\79671\\anaconda3\\lib\\site-packages (0.9.2)\n",
      "Requirement already satisfied: resampy>=0.2.2 in c:\\users\\79671\\anaconda3\\lib\\site-packages (from librosa) (0.4.2)\n",
      "Requirement already satisfied: scikit-learn>=0.19.1 in c:\\users\\79671\\anaconda3\\lib\\site-packages (from librosa) (1.0.2)\n",
      "Requirement already satisfied: numba>=0.45.1 in c:\\users\\79671\\anaconda3\\lib\\site-packages (from librosa) (0.55.1)\n",
      "Requirement already satisfied: audioread>=2.1.9 in c:\\users\\79671\\anaconda3\\lib\\site-packages (from librosa) (3.0.0)\n",
      "Requirement already satisfied: soundfile>=0.10.2 in c:\\users\\79671\\anaconda3\\lib\\site-packages (from librosa) (0.11.0)\n",
      "Requirement already satisfied: numpy>=1.17.0 in c:\\users\\79671\\anaconda3\\lib\\site-packages (from librosa) (1.21.6)\n",
      "Requirement already satisfied: joblib>=0.14 in c:\\users\\79671\\anaconda3\\lib\\site-packages (from librosa) (1.1.0)\n",
      "Requirement already satisfied: packaging>=20.0 in c:\\users\\79671\\anaconda3\\lib\\site-packages (from librosa) (21.3)\n",
      "Requirement already satisfied: pooch>=1.0 in c:\\users\\79671\\anaconda3\\lib\\site-packages (from librosa) (1.6.0)\n",
      "Requirement already satisfied: decorator>=4.0.10 in c:\\users\\79671\\anaconda3\\lib\\site-packages (from librosa) (5.1.1)\n",
      "Requirement already satisfied: scipy>=1.2.0 in c:\\users\\79671\\anaconda3\\lib\\site-packages (from librosa) (1.8.1)"
     ]
    },
    {
     "name": "stderr",
     "output_type": "stream",
     "text": [
      "WARNING: Ignoring invalid distribution -rotobuf (c:\\users\\79671\\anaconda3\\lib\\site-packages)\n",
      "WARNING: Ignoring invalid distribution -orch (c:\\users\\79671\\anaconda3\\lib\\site-packages)\n",
      "WARNING: Ignoring invalid distribution -rotobuf (c:\\users\\79671\\anaconda3\\lib\\site-packages)\n",
      "WARNING: Ignoring invalid distribution -orch (c:\\users\\79671\\anaconda3\\lib\\site-packages)\n",
      "WARNING: Ignoring invalid distribution -rotobuf (c:\\users\\79671\\anaconda3\\lib\\site-packages)\n",
      "WARNING: Ignoring invalid distribution -orch (c:\\users\\79671\\anaconda3\\lib\\site-packages)\n",
      "WARNING: Ignoring invalid distribution -rotobuf (c:\\users\\79671\\anaconda3\\lib\\site-packages)\n",
      "WARNING: Ignoring invalid distribution -orch (c:\\users\\79671\\anaconda3\\lib\\site-packages)\n",
      "WARNING: Ignoring invalid distribution -rotobuf (c:\\users\\79671\\anaconda3\\lib\\site-packages)\n",
      "WARNING: Ignoring invalid distribution -orch (c:\\users\\79671\\anaconda3\\lib\\site-packages)\n",
      "WARNING: Ignoring invalid distribution -rotobuf (c:\\users\\79671\\anaconda3\\lib\\site-packages)\n",
      "WARNING: Ignoring invalid distribution -orch (c:\\users\\79671\\anaconda3\\lib\\site-packages)\n"
     ]
    },
    {
     "name": "stdout",
     "output_type": "stream",
     "text": [
      "\n",
      "Requirement already satisfied: setuptools in c:\\users\\79671\\anaconda3\\lib\\site-packages (from numba>=0.45.1->librosa) (63.2.0)\n",
      "Requirement already satisfied: llvmlite<0.39,>=0.38.0rc1 in c:\\users\\79671\\anaconda3\\lib\\site-packages (from numba>=0.45.1->librosa) (0.38.0)\n",
      "Requirement already satisfied: pyparsing!=3.0.5,>=2.0.2 in c:\\users\\79671\\anaconda3\\lib\\site-packages (from packaging>=20.0->librosa) (3.0.4)\n",
      "Requirement already satisfied: appdirs>=1.3.0 in c:\\users\\79671\\anaconda3\\lib\\site-packages (from pooch>=1.0->librosa) (1.4.4)\n",
      "Requirement already satisfied: requests>=2.19.0 in c:\\users\\79671\\anaconda3\\lib\\site-packages (from pooch>=1.0->librosa) (2.28.1)\n",
      "Requirement already satisfied: threadpoolctl>=2.0.0 in c:\\users\\79671\\anaconda3\\lib\\site-packages (from scikit-learn>=0.19.1->librosa) (2.2.0)\n",
      "Requirement already satisfied: cffi>=1.0 in c:\\users\\79671\\anaconda3\\lib\\site-packages (from soundfile>=0.10.2->librosa) (1.15.0)\n",
      "Requirement already satisfied: pycparser in c:\\users\\79671\\anaconda3\\lib\\site-packages (from cffi>=1.0->soundfile>=0.10.2->librosa) (2.21)\n",
      "Requirement already satisfied: charset-normalizer<3,>=2 in c:\\users\\79671\\anaconda3\\lib\\site-packages (from requests>=2.19.0->pooch>=1.0->librosa) (2.0.4)\n",
      "Requirement already satisfied: urllib3<1.27,>=1.21.1 in c:\\users\\79671\\anaconda3\\lib\\site-packages (from requests>=2.19.0->pooch>=1.0->librosa) (1.26.9)\n",
      "Requirement already satisfied: idna<4,>=2.5 in c:\\users\\79671\\anaconda3\\lib\\site-packages (from requests>=2.19.0->pooch>=1.0->librosa) (3.3)\n",
      "Requirement already satisfied: certifi>=2017.4.17 in c:\\users\\79671\\anaconda3\\lib\\site-packages (from requests>=2.19.0->pooch>=1.0->librosa) (2022.6.15)\n"
     ]
    }
   ],
   "source": [
    "!pip install librosa"
   ]
  },
  {
   "cell_type": "code",
   "execution_count": 2,
   "id": "6c650cd8",
   "metadata": {},
   "outputs": [
    {
     "name": "stderr",
     "output_type": "stream",
     "text": [
      "C:\\Users\\79671\\anaconda3\\lib\\site-packages\\paramiko\\transport.py:219: CryptographyDeprecationWarning: Blowfish has been deprecated\n",
      "  \"class\": algorithms.Blowfish,\n"
     ]
    }
   ],
   "source": [
    "from matplotlib import pyplot as plt\n",
    "from IPython import display\n",
    "\n",
    "import torch\n",
    "import torchaudio\n",
    "from scipy.io import wavfile\n",
    "import librosa as lb\n",
    "import numpy as np"
   ]
  },
  {
   "cell_type": "code",
   "execution_count": 3,
   "id": "bc338d19",
   "metadata": {},
   "outputs": [],
   "source": [
    "#data = pd.read_csv(\"E:/Audio/ASV/ASVspoof2021_DF_eval_part00/ASVspoof2021_DF_eval/ASVspoof2021.DF.cm.eval.trl.txt\", header= None)"
   ]
  },
  {
   "cell_type": "markdown",
   "id": "5b07beab",
   "metadata": {},
   "source": [
    "## Dataset preporation"
   ]
  },
  {
   "cell_type": "code",
   "execution_count": 4,
   "id": "f6f9e595",
   "metadata": {},
   "outputs": [],
   "source": [
    "data2 = pd.read_csv(\"E:/Audio/ASV/trial_metadata.txt\", sep = ' ', header= None)"
   ]
  },
  {
   "cell_type": "code",
   "execution_count": 5,
   "id": "c5ce4ffa",
   "metadata": {},
   "outputs": [
    {
     "data": {
      "text/html": [
       "<div>\n",
       "<style scoped>\n",
       "    .dataframe tbody tr th:only-of-type {\n",
       "        vertical-align: middle;\n",
       "    }\n",
       "\n",
       "    .dataframe tbody tr th {\n",
       "        vertical-align: top;\n",
       "    }\n",
       "\n",
       "    .dataframe thead th {\n",
       "        text-align: right;\n",
       "    }\n",
       "</style>\n",
       "<table border=\"1\" class=\"dataframe\">\n",
       "  <thead>\n",
       "    <tr style=\"text-align: right;\">\n",
       "      <th></th>\n",
       "      <th>0</th>\n",
       "      <th>1</th>\n",
       "      <th>2</th>\n",
       "      <th>3</th>\n",
       "      <th>4</th>\n",
       "      <th>5</th>\n",
       "      <th>6</th>\n",
       "      <th>7</th>\n",
       "      <th>8</th>\n",
       "      <th>9</th>\n",
       "      <th>10</th>\n",
       "      <th>11</th>\n",
       "      <th>12</th>\n",
       "    </tr>\n",
       "  </thead>\n",
       "  <tbody>\n",
       "    <tr>\n",
       "      <th>0</th>\n",
       "      <td>LA_0023</td>\n",
       "      <td>DF_E_2000011</td>\n",
       "      <td>nocodec</td>\n",
       "      <td>asvspoof</td>\n",
       "      <td>A14</td>\n",
       "      <td>spoof</td>\n",
       "      <td>notrim</td>\n",
       "      <td>progress</td>\n",
       "      <td>traditional_vocoder</td>\n",
       "      <td>-</td>\n",
       "      <td>-</td>\n",
       "      <td>-</td>\n",
       "      <td>-</td>\n",
       "    </tr>\n",
       "    <tr>\n",
       "      <th>1</th>\n",
       "      <td>TEF2</td>\n",
       "      <td>DF_E_2000013</td>\n",
       "      <td>low_m4a</td>\n",
       "      <td>vcc2020</td>\n",
       "      <td>Task1-team20</td>\n",
       "      <td>spoof</td>\n",
       "      <td>notrim</td>\n",
       "      <td>eval</td>\n",
       "      <td>neural_vocoder_nonautoregressive</td>\n",
       "      <td>Task1</td>\n",
       "      <td>team20</td>\n",
       "      <td>FF</td>\n",
       "      <td>E</td>\n",
       "    </tr>\n",
       "    <tr>\n",
       "      <th>2</th>\n",
       "      <td>TGF1</td>\n",
       "      <td>DF_E_2000024</td>\n",
       "      <td>mp3m4a</td>\n",
       "      <td>vcc2020</td>\n",
       "      <td>Task2-team12</td>\n",
       "      <td>spoof</td>\n",
       "      <td>notrim</td>\n",
       "      <td>eval</td>\n",
       "      <td>traditional_vocoder</td>\n",
       "      <td>Task2</td>\n",
       "      <td>team12</td>\n",
       "      <td>FF</td>\n",
       "      <td>G</td>\n",
       "    </tr>\n",
       "    <tr>\n",
       "      <th>3</th>\n",
       "      <td>LA_0043</td>\n",
       "      <td>DF_E_2000026</td>\n",
       "      <td>mp3m4a</td>\n",
       "      <td>asvspoof</td>\n",
       "      <td>A09</td>\n",
       "      <td>spoof</td>\n",
       "      <td>notrim</td>\n",
       "      <td>eval</td>\n",
       "      <td>traditional_vocoder</td>\n",
       "      <td>-</td>\n",
       "      <td>-</td>\n",
       "      <td>-</td>\n",
       "      <td>-</td>\n",
       "    </tr>\n",
       "    <tr>\n",
       "      <th>4</th>\n",
       "      <td>LA_0021</td>\n",
       "      <td>DF_E_2000027</td>\n",
       "      <td>mp3m4a</td>\n",
       "      <td>asvspoof</td>\n",
       "      <td>A12</td>\n",
       "      <td>spoof</td>\n",
       "      <td>notrim</td>\n",
       "      <td>eval</td>\n",
       "      <td>neural_vocoder_autoregressive</td>\n",
       "      <td>-</td>\n",
       "      <td>-</td>\n",
       "      <td>-</td>\n",
       "      <td>-</td>\n",
       "    </tr>\n",
       "    <tr>\n",
       "      <th>5</th>\n",
       "      <td>VCC2TM2</td>\n",
       "      <td>DF_E_2000028</td>\n",
       "      <td>low_mp3</td>\n",
       "      <td>vcc2018</td>\n",
       "      <td>SPO-N12</td>\n",
       "      <td>spoof</td>\n",
       "      <td>notrim</td>\n",
       "      <td>eval</td>\n",
       "      <td>traditional_vocoder</td>\n",
       "      <td>SPO</td>\n",
       "      <td>N12</td>\n",
       "      <td>FM</td>\n",
       "      <td>-</td>\n",
       "    </tr>\n",
       "    <tr>\n",
       "      <th>6</th>\n",
       "      <td>LA_0025</td>\n",
       "      <td>DF_E_2000031</td>\n",
       "      <td>high_m4a</td>\n",
       "      <td>asvspoof</td>\n",
       "      <td>A10</td>\n",
       "      <td>spoof</td>\n",
       "      <td>notrim</td>\n",
       "      <td>eval</td>\n",
       "      <td>neural_vocoder_autoregressive</td>\n",
       "      <td>-</td>\n",
       "      <td>-</td>\n",
       "      <td>-</td>\n",
       "      <td>-</td>\n",
       "    </tr>\n",
       "    <tr>\n",
       "      <th>7</th>\n",
       "      <td>TMF1</td>\n",
       "      <td>DF_E_2000032</td>\n",
       "      <td>high_m4a</td>\n",
       "      <td>vcc2020</td>\n",
       "      <td>Task2-team29</td>\n",
       "      <td>spoof</td>\n",
       "      <td>notrim</td>\n",
       "      <td>eval</td>\n",
       "      <td>neural_vocoder_autoregressive</td>\n",
       "      <td>Task2</td>\n",
       "      <td>team29</td>\n",
       "      <td>MF</td>\n",
       "      <td>M</td>\n",
       "    </tr>\n",
       "    <tr>\n",
       "      <th>8</th>\n",
       "      <td>VCC2TM1</td>\n",
       "      <td>DF_E_2000040</td>\n",
       "      <td>low_m4a</td>\n",
       "      <td>vcc2018</td>\n",
       "      <td>SPO-B01</td>\n",
       "      <td>spoof</td>\n",
       "      <td>notrim</td>\n",
       "      <td>eval</td>\n",
       "      <td>traditional_vocoder</td>\n",
       "      <td>SPO</td>\n",
       "      <td>B01</td>\n",
       "      <td>MM</td>\n",
       "      <td>-</td>\n",
       "    </tr>\n",
       "    <tr>\n",
       "      <th>9</th>\n",
       "      <td>VCC2TM2</td>\n",
       "      <td>DF_E_2000042</td>\n",
       "      <td>low_m4a</td>\n",
       "      <td>vcc2018</td>\n",
       "      <td>HUB-N06</td>\n",
       "      <td>spoof</td>\n",
       "      <td>notrim</td>\n",
       "      <td>eval</td>\n",
       "      <td>traditional_vocoder</td>\n",
       "      <td>HUB</td>\n",
       "      <td>N06</td>\n",
       "      <td>FM</td>\n",
       "      <td>-</td>\n",
       "    </tr>\n",
       "    <tr>\n",
       "      <th>10</th>\n",
       "      <td>TEM2</td>\n",
       "      <td>DF_E_2000044</td>\n",
       "      <td>nocodec</td>\n",
       "      <td>vcc2020</td>\n",
       "      <td>Task1-team09</td>\n",
       "      <td>spoof</td>\n",
       "      <td>notrim</td>\n",
       "      <td>eval</td>\n",
       "      <td>neural_vocoder_nonautoregressive</td>\n",
       "      <td>Task1</td>\n",
       "      <td>team09</td>\n",
       "      <td>MM</td>\n",
       "      <td>E</td>\n",
       "    </tr>\n",
       "    <tr>\n",
       "      <th>11</th>\n",
       "      <td>VCC2TM1</td>\n",
       "      <td>DF_E_2000048</td>\n",
       "      <td>high_m4a</td>\n",
       "      <td>vcc2018</td>\n",
       "      <td>SPO-N10</td>\n",
       "      <td>spoof</td>\n",
       "      <td>notrim</td>\n",
       "      <td>eval</td>\n",
       "      <td>neural_vocoder_autoregressive</td>\n",
       "      <td>SPO</td>\n",
       "      <td>N10</td>\n",
       "      <td>FM</td>\n",
       "      <td>-</td>\n",
       "    </tr>\n",
       "    <tr>\n",
       "      <th>12</th>\n",
       "      <td>LA_0032</td>\n",
       "      <td>DF_E_2000049</td>\n",
       "      <td>mp3m4a</td>\n",
       "      <td>asvspoof</td>\n",
       "      <td>A10</td>\n",
       "      <td>spoof</td>\n",
       "      <td>notrim</td>\n",
       "      <td>eval</td>\n",
       "      <td>neural_vocoder_autoregressive</td>\n",
       "      <td>-</td>\n",
       "      <td>-</td>\n",
       "      <td>-</td>\n",
       "      <td>-</td>\n",
       "    </tr>\n",
       "    <tr>\n",
       "      <th>13</th>\n",
       "      <td>VCC2TM2</td>\n",
       "      <td>DF_E_2000053</td>\n",
       "      <td>mp3m4a</td>\n",
       "      <td>vcc2018</td>\n",
       "      <td>-</td>\n",
       "      <td>bonafide</td>\n",
       "      <td>notrim</td>\n",
       "      <td>eval</td>\n",
       "      <td>bonafide</td>\n",
       "      <td>-</td>\n",
       "      <td>-</td>\n",
       "      <td>-</td>\n",
       "      <td>-</td>\n",
       "    </tr>\n",
       "    <tr>\n",
       "      <th>14</th>\n",
       "      <td>LA_0036</td>\n",
       "      <td>DF_E_2000055</td>\n",
       "      <td>high_ogg</td>\n",
       "      <td>asvspoof</td>\n",
       "      <td>A17</td>\n",
       "      <td>spoof</td>\n",
       "      <td>notrim</td>\n",
       "      <td>eval</td>\n",
       "      <td>traditional_vocoder</td>\n",
       "      <td>-</td>\n",
       "      <td>-</td>\n",
       "      <td>-</td>\n",
       "      <td>-</td>\n",
       "    </tr>\n",
       "    <tr>\n",
       "      <th>15</th>\n",
       "      <td>LA_0048</td>\n",
       "      <td>DF_E_2000058</td>\n",
       "      <td>mp3m4a</td>\n",
       "      <td>asvspoof</td>\n",
       "      <td>-</td>\n",
       "      <td>bonafide</td>\n",
       "      <td>notrim</td>\n",
       "      <td>eval</td>\n",
       "      <td>bonafide</td>\n",
       "      <td>-</td>\n",
       "      <td>-</td>\n",
       "      <td>-</td>\n",
       "      <td>-</td>\n",
       "    </tr>\n",
       "    <tr>\n",
       "      <th>16</th>\n",
       "      <td>TEM2</td>\n",
       "      <td>DF_E_2000072</td>\n",
       "      <td>high_ogg</td>\n",
       "      <td>vcc2020</td>\n",
       "      <td>Task1-team11</td>\n",
       "      <td>spoof</td>\n",
       "      <td>notrim</td>\n",
       "      <td>eval</td>\n",
       "      <td>neural_vocoder_autoregressive</td>\n",
       "      <td>Task1</td>\n",
       "      <td>team11</td>\n",
       "      <td>MM</td>\n",
       "      <td>E</td>\n",
       "    </tr>\n",
       "    <tr>\n",
       "      <th>17</th>\n",
       "      <td>LA_0046</td>\n",
       "      <td>DF_E_2000075</td>\n",
       "      <td>high_m4a</td>\n",
       "      <td>asvspoof</td>\n",
       "      <td>A18</td>\n",
       "      <td>spoof</td>\n",
       "      <td>notrim</td>\n",
       "      <td>progress</td>\n",
       "      <td>traditional_vocoder</td>\n",
       "      <td>-</td>\n",
       "      <td>-</td>\n",
       "      <td>-</td>\n",
       "      <td>-</td>\n",
       "    </tr>\n",
       "    <tr>\n",
       "      <th>18</th>\n",
       "      <td>TEM2</td>\n",
       "      <td>DF_E_2000079</td>\n",
       "      <td>high_m4a</td>\n",
       "      <td>vcc2020</td>\n",
       "      <td>-</td>\n",
       "      <td>bonafide</td>\n",
       "      <td>notrim</td>\n",
       "      <td>eval</td>\n",
       "      <td>bonafide</td>\n",
       "      <td>-</td>\n",
       "      <td>-</td>\n",
       "      <td>-</td>\n",
       "      <td>-</td>\n",
       "    </tr>\n",
       "    <tr>\n",
       "      <th>19</th>\n",
       "      <td>VCC2TM2</td>\n",
       "      <td>DF_E_2000080</td>\n",
       "      <td>nocodec</td>\n",
       "      <td>vcc2018</td>\n",
       "      <td>HUB-N12</td>\n",
       "      <td>spoof</td>\n",
       "      <td>notrim</td>\n",
       "      <td>eval</td>\n",
       "      <td>traditional_vocoder</td>\n",
       "      <td>HUB</td>\n",
       "      <td>N12</td>\n",
       "      <td>FM</td>\n",
       "      <td>-</td>\n",
       "    </tr>\n",
       "    <tr>\n",
       "      <th>20</th>\n",
       "      <td>TGF1</td>\n",
       "      <td>DF_E_2000091</td>\n",
       "      <td>low_m4a</td>\n",
       "      <td>vcc2020</td>\n",
       "      <td>Task2-team16</td>\n",
       "      <td>spoof</td>\n",
       "      <td>notrim</td>\n",
       "      <td>eval</td>\n",
       "      <td>neural_vocoder_nonautoregressive</td>\n",
       "      <td>Task2</td>\n",
       "      <td>team16</td>\n",
       "      <td>MF</td>\n",
       "      <td>G</td>\n",
       "    </tr>\n",
       "    <tr>\n",
       "      <th>21</th>\n",
       "      <td>VCC2TF1</td>\n",
       "      <td>DF_E_2000096</td>\n",
       "      <td>high_ogg</td>\n",
       "      <td>vcc2018</td>\n",
       "      <td>SPO-N11</td>\n",
       "      <td>spoof</td>\n",
       "      <td>notrim</td>\n",
       "      <td>eval</td>\n",
       "      <td>traditional_vocoder</td>\n",
       "      <td>SPO</td>\n",
       "      <td>N11</td>\n",
       "      <td>FF</td>\n",
       "      <td>-</td>\n",
       "    </tr>\n",
       "    <tr>\n",
       "      <th>22</th>\n",
       "      <td>TEM2</td>\n",
       "      <td>DF_E_2000100</td>\n",
       "      <td>high_m4a</td>\n",
       "      <td>vcc2020</td>\n",
       "      <td>Task1-team18</td>\n",
       "      <td>spoof</td>\n",
       "      <td>notrim</td>\n",
       "      <td>eval</td>\n",
       "      <td>unknown</td>\n",
       "      <td>Task1</td>\n",
       "      <td>team18</td>\n",
       "      <td>FM</td>\n",
       "      <td>E</td>\n",
       "    </tr>\n",
       "    <tr>\n",
       "      <th>23</th>\n",
       "      <td>LA_0026</td>\n",
       "      <td>DF_E_2000102</td>\n",
       "      <td>high_m4a</td>\n",
       "      <td>asvspoof</td>\n",
       "      <td>A09</td>\n",
       "      <td>spoof</td>\n",
       "      <td>notrim</td>\n",
       "      <td>eval</td>\n",
       "      <td>traditional_vocoder</td>\n",
       "      <td>-</td>\n",
       "      <td>-</td>\n",
       "      <td>-</td>\n",
       "      <td>-</td>\n",
       "    </tr>\n",
       "    <tr>\n",
       "      <th>24</th>\n",
       "      <td>LA_0008</td>\n",
       "      <td>DF_E_2000106</td>\n",
       "      <td>low_ogg</td>\n",
       "      <td>asvspoof</td>\n",
       "      <td>A10</td>\n",
       "      <td>spoof</td>\n",
       "      <td>notrim</td>\n",
       "      <td>eval</td>\n",
       "      <td>neural_vocoder_autoregressive</td>\n",
       "      <td>-</td>\n",
       "      <td>-</td>\n",
       "      <td>-</td>\n",
       "      <td>-</td>\n",
       "    </tr>\n",
       "    <tr>\n",
       "      <th>25</th>\n",
       "      <td>LA_0028</td>\n",
       "      <td>DF_E_2000115</td>\n",
       "      <td>mp3m4a</td>\n",
       "      <td>asvspoof</td>\n",
       "      <td>A08</td>\n",
       "      <td>spoof</td>\n",
       "      <td>notrim</td>\n",
       "      <td>eval</td>\n",
       "      <td>neural_vocoder_nonautoregressive</td>\n",
       "      <td>-</td>\n",
       "      <td>-</td>\n",
       "      <td>-</td>\n",
       "      <td>-</td>\n",
       "    </tr>\n",
       "    <tr>\n",
       "      <th>26</th>\n",
       "      <td>TEF1</td>\n",
       "      <td>DF_E_2000117</td>\n",
       "      <td>oggm4a</td>\n",
       "      <td>vcc2020</td>\n",
       "      <td>Task1-team33</td>\n",
       "      <td>spoof</td>\n",
       "      <td>notrim</td>\n",
       "      <td>eval</td>\n",
       "      <td>neural_vocoder_nonautoregressive</td>\n",
       "      <td>Task1</td>\n",
       "      <td>team33</td>\n",
       "      <td>FF</td>\n",
       "      <td>E</td>\n",
       "    </tr>\n",
       "    <tr>\n",
       "      <th>27</th>\n",
       "      <td>VCC2TF2</td>\n",
       "      <td>DF_E_2000123</td>\n",
       "      <td>nocodec</td>\n",
       "      <td>vcc2018</td>\n",
       "      <td>HUB-D04</td>\n",
       "      <td>spoof</td>\n",
       "      <td>notrim</td>\n",
       "      <td>eval</td>\n",
       "      <td>traditional_vocoder</td>\n",
       "      <td>HUB</td>\n",
       "      <td>D04</td>\n",
       "      <td>FF</td>\n",
       "      <td>-</td>\n",
       "    </tr>\n",
       "    <tr>\n",
       "      <th>28</th>\n",
       "      <td>TMM1</td>\n",
       "      <td>DF_E_2000125</td>\n",
       "      <td>nocodec</td>\n",
       "      <td>vcc2020</td>\n",
       "      <td>Task2-team24</td>\n",
       "      <td>spoof</td>\n",
       "      <td>notrim</td>\n",
       "      <td>eval</td>\n",
       "      <td>neural_vocoder_autoregressive</td>\n",
       "      <td>Task2</td>\n",
       "      <td>team24</td>\n",
       "      <td>MM</td>\n",
       "      <td>M</td>\n",
       "    </tr>\n",
       "    <tr>\n",
       "      <th>29</th>\n",
       "      <td>TGM1</td>\n",
       "      <td>DF_E_2000126</td>\n",
       "      <td>high_mp3</td>\n",
       "      <td>vcc2020</td>\n",
       "      <td>Task2-team07</td>\n",
       "      <td>spoof</td>\n",
       "      <td>notrim</td>\n",
       "      <td>eval</td>\n",
       "      <td>neural_vocoder_autoregressive</td>\n",
       "      <td>Task2</td>\n",
       "      <td>team07</td>\n",
       "      <td>FM</td>\n",
       "      <td>G</td>\n",
       "    </tr>\n",
       "    <tr>\n",
       "      <th>30</th>\n",
       "      <td>LA_0046</td>\n",
       "      <td>DF_E_2000127</td>\n",
       "      <td>mp3m4a</td>\n",
       "      <td>asvspoof</td>\n",
       "      <td>A09</td>\n",
       "      <td>spoof</td>\n",
       "      <td>notrim</td>\n",
       "      <td>eval</td>\n",
       "      <td>traditional_vocoder</td>\n",
       "      <td>-</td>\n",
       "      <td>-</td>\n",
       "      <td>-</td>\n",
       "      <td>-</td>\n",
       "    </tr>\n",
       "    <tr>\n",
       "      <th>31</th>\n",
       "      <td>VCC2TM2</td>\n",
       "      <td>DF_E_2000128</td>\n",
       "      <td>nocodec</td>\n",
       "      <td>vcc2018</td>\n",
       "      <td>HUB-D04</td>\n",
       "      <td>spoof</td>\n",
       "      <td>notrim</td>\n",
       "      <td>eval</td>\n",
       "      <td>traditional_vocoder</td>\n",
       "      <td>HUB</td>\n",
       "      <td>D04</td>\n",
       "      <td>MM</td>\n",
       "      <td>-</td>\n",
       "    </tr>\n",
       "    <tr>\n",
       "      <th>32</th>\n",
       "      <td>TMF1</td>\n",
       "      <td>DF_E_2000132</td>\n",
       "      <td>low_mp3</td>\n",
       "      <td>vcc2020</td>\n",
       "      <td>Task2-team02</td>\n",
       "      <td>spoof</td>\n",
       "      <td>notrim</td>\n",
       "      <td>eval</td>\n",
       "      <td>neural_vocoder_nonautoregressive</td>\n",
       "      <td>Task2</td>\n",
       "      <td>team02</td>\n",
       "      <td>MF</td>\n",
       "      <td>M</td>\n",
       "    </tr>\n",
       "    <tr>\n",
       "      <th>33</th>\n",
       "      <td>LA_0018</td>\n",
       "      <td>DF_E_2000137</td>\n",
       "      <td>oggm4a</td>\n",
       "      <td>asvspoof</td>\n",
       "      <td>A17</td>\n",
       "      <td>spoof</td>\n",
       "      <td>notrim</td>\n",
       "      <td>eval</td>\n",
       "      <td>traditional_vocoder</td>\n",
       "      <td>-</td>\n",
       "      <td>-</td>\n",
       "      <td>-</td>\n",
       "      <td>-</td>\n",
       "    </tr>\n",
       "    <tr>\n",
       "      <th>34</th>\n",
       "      <td>VCC2TM1</td>\n",
       "      <td>DF_E_2000142</td>\n",
       "      <td>oggm4a</td>\n",
       "      <td>vcc2018</td>\n",
       "      <td>HUB-N11</td>\n",
       "      <td>spoof</td>\n",
       "      <td>notrim</td>\n",
       "      <td>eval</td>\n",
       "      <td>traditional_vocoder</td>\n",
       "      <td>HUB</td>\n",
       "      <td>N11</td>\n",
       "      <td>FM</td>\n",
       "      <td>-</td>\n",
       "    </tr>\n",
       "    <tr>\n",
       "      <th>35</th>\n",
       "      <td>LA_0034</td>\n",
       "      <td>DF_E_2000143</td>\n",
       "      <td>low_mp3</td>\n",
       "      <td>asvspoof</td>\n",
       "      <td>A11</td>\n",
       "      <td>spoof</td>\n",
       "      <td>notrim</td>\n",
       "      <td>progress</td>\n",
       "      <td>traditional_vocoder</td>\n",
       "      <td>-</td>\n",
       "      <td>-</td>\n",
       "      <td>-</td>\n",
       "      <td>-</td>\n",
       "    </tr>\n",
       "    <tr>\n",
       "      <th>36</th>\n",
       "      <td>VCC2TF2</td>\n",
       "      <td>DF_E_2000147</td>\n",
       "      <td>nocodec</td>\n",
       "      <td>vcc2018</td>\n",
       "      <td>SPO-N03</td>\n",
       "      <td>spoof</td>\n",
       "      <td>notrim</td>\n",
       "      <td>eval</td>\n",
       "      <td>unknown</td>\n",
       "      <td>SPO</td>\n",
       "      <td>N03</td>\n",
       "      <td>MF</td>\n",
       "      <td>-</td>\n",
       "    </tr>\n",
       "    <tr>\n",
       "      <th>37</th>\n",
       "      <td>TEM2</td>\n",
       "      <td>DF_E_2000151</td>\n",
       "      <td>low_mp3</td>\n",
       "      <td>vcc2020</td>\n",
       "      <td>Task1-team20</td>\n",
       "      <td>spoof</td>\n",
       "      <td>notrim</td>\n",
       "      <td>eval</td>\n",
       "      <td>neural_vocoder_nonautoregressive</td>\n",
       "      <td>Task1</td>\n",
       "      <td>team20</td>\n",
       "      <td>MM</td>\n",
       "      <td>E</td>\n",
       "    </tr>\n",
       "    <tr>\n",
       "      <th>38</th>\n",
       "      <td>VCC2TF1</td>\n",
       "      <td>DF_E_2000154</td>\n",
       "      <td>high_ogg</td>\n",
       "      <td>vcc2018</td>\n",
       "      <td>HUB-N10</td>\n",
       "      <td>spoof</td>\n",
       "      <td>notrim</td>\n",
       "      <td>eval</td>\n",
       "      <td>neural_vocoder_autoregressive</td>\n",
       "      <td>HUB</td>\n",
       "      <td>N10</td>\n",
       "      <td>MF</td>\n",
       "      <td>-</td>\n",
       "    </tr>\n",
       "    <tr>\n",
       "      <th>39</th>\n",
       "      <td>TMF1</td>\n",
       "      <td>DF_E_2000160</td>\n",
       "      <td>nocodec</td>\n",
       "      <td>vcc2020</td>\n",
       "      <td>Task2-team09</td>\n",
       "      <td>spoof</td>\n",
       "      <td>notrim</td>\n",
       "      <td>eval</td>\n",
       "      <td>neural_vocoder_nonautoregressive</td>\n",
       "      <td>Task2</td>\n",
       "      <td>team09</td>\n",
       "      <td>MF</td>\n",
       "      <td>M</td>\n",
       "    </tr>\n",
       "    <tr>\n",
       "      <th>40</th>\n",
       "      <td>VCC2TF2</td>\n",
       "      <td>DF_E_2000162</td>\n",
       "      <td>mp3m4a</td>\n",
       "      <td>vcc2018</td>\n",
       "      <td>HUB-N18</td>\n",
       "      <td>spoof</td>\n",
       "      <td>notrim</td>\n",
       "      <td>eval</td>\n",
       "      <td>traditional_vocoder</td>\n",
       "      <td>HUB</td>\n",
       "      <td>N18</td>\n",
       "      <td>MF</td>\n",
       "      <td>-</td>\n",
       "    </tr>\n",
       "    <tr>\n",
       "      <th>41</th>\n",
       "      <td>TEM1</td>\n",
       "      <td>DF_E_2000165</td>\n",
       "      <td>mp3m4a</td>\n",
       "      <td>vcc2020</td>\n",
       "      <td>Task1-team19</td>\n",
       "      <td>spoof</td>\n",
       "      <td>notrim</td>\n",
       "      <td>eval</td>\n",
       "      <td>neural_vocoder_nonautoregressive</td>\n",
       "      <td>Task1</td>\n",
       "      <td>team19</td>\n",
       "      <td>FM</td>\n",
       "      <td>E</td>\n",
       "    </tr>\n",
       "    <tr>\n",
       "      <th>42</th>\n",
       "      <td>TMF1</td>\n",
       "      <td>DF_E_2000177</td>\n",
       "      <td>low_ogg</td>\n",
       "      <td>vcc2020</td>\n",
       "      <td>Task2-team12</td>\n",
       "      <td>spoof</td>\n",
       "      <td>notrim</td>\n",
       "      <td>eval</td>\n",
       "      <td>traditional_vocoder</td>\n",
       "      <td>Task2</td>\n",
       "      <td>team12</td>\n",
       "      <td>FF</td>\n",
       "      <td>M</td>\n",
       "    </tr>\n",
       "    <tr>\n",
       "      <th>43</th>\n",
       "      <td>LA_0023</td>\n",
       "      <td>DF_E_2000179</td>\n",
       "      <td>nocodec</td>\n",
       "      <td>asvspoof</td>\n",
       "      <td>A19</td>\n",
       "      <td>spoof</td>\n",
       "      <td>notrim</td>\n",
       "      <td>progress</td>\n",
       "      <td>traditional_vocoder</td>\n",
       "      <td>-</td>\n",
       "      <td>-</td>\n",
       "      <td>-</td>\n",
       "      <td>-</td>\n",
       "    </tr>\n",
       "    <tr>\n",
       "      <th>44</th>\n",
       "      <td>LA_0040</td>\n",
       "      <td>DF_E_2000180</td>\n",
       "      <td>high_m4a</td>\n",
       "      <td>asvspoof</td>\n",
       "      <td>A16</td>\n",
       "      <td>spoof</td>\n",
       "      <td>notrim</td>\n",
       "      <td>eval</td>\n",
       "      <td>waveform_concatenation</td>\n",
       "      <td>-</td>\n",
       "      <td>-</td>\n",
       "      <td>-</td>\n",
       "      <td>-</td>\n",
       "    </tr>\n",
       "    <tr>\n",
       "      <th>45</th>\n",
       "      <td>TEM2</td>\n",
       "      <td>DF_E_2000182</td>\n",
       "      <td>high_m4a</td>\n",
       "      <td>vcc2020</td>\n",
       "      <td>Task1-team23</td>\n",
       "      <td>spoof</td>\n",
       "      <td>notrim</td>\n",
       "      <td>eval</td>\n",
       "      <td>neural_vocoder_nonautoregressive</td>\n",
       "      <td>Task1</td>\n",
       "      <td>team23</td>\n",
       "      <td>MM</td>\n",
       "      <td>E</td>\n",
       "    </tr>\n",
       "    <tr>\n",
       "      <th>46</th>\n",
       "      <td>VCC2TF2</td>\n",
       "      <td>DF_E_2000183</td>\n",
       "      <td>high_mp3</td>\n",
       "      <td>vcc2018</td>\n",
       "      <td>HUB-N10</td>\n",
       "      <td>spoof</td>\n",
       "      <td>notrim</td>\n",
       "      <td>eval</td>\n",
       "      <td>neural_vocoder_autoregressive</td>\n",
       "      <td>HUB</td>\n",
       "      <td>N10</td>\n",
       "      <td>MF</td>\n",
       "      <td>-</td>\n",
       "    </tr>\n",
       "    <tr>\n",
       "      <th>47</th>\n",
       "      <td>VCC2TM2</td>\n",
       "      <td>DF_E_2000193</td>\n",
       "      <td>low_ogg</td>\n",
       "      <td>vcc2018</td>\n",
       "      <td>SPO-N18</td>\n",
       "      <td>spoof</td>\n",
       "      <td>notrim</td>\n",
       "      <td>eval</td>\n",
       "      <td>traditional_vocoder</td>\n",
       "      <td>SPO</td>\n",
       "      <td>N18</td>\n",
       "      <td>FM</td>\n",
       "      <td>-</td>\n",
       "    </tr>\n",
       "    <tr>\n",
       "      <th>48</th>\n",
       "      <td>VCC2TM1</td>\n",
       "      <td>DF_E_2000199</td>\n",
       "      <td>high_mp3</td>\n",
       "      <td>vcc2018</td>\n",
       "      <td>SPO-N06</td>\n",
       "      <td>spoof</td>\n",
       "      <td>notrim</td>\n",
       "      <td>eval</td>\n",
       "      <td>traditional_vocoder</td>\n",
       "      <td>SPO</td>\n",
       "      <td>N06</td>\n",
       "      <td>MM</td>\n",
       "      <td>-</td>\n",
       "    </tr>\n",
       "    <tr>\n",
       "      <th>49</th>\n",
       "      <td>VCC2TM1</td>\n",
       "      <td>DF_E_2000200</td>\n",
       "      <td>low_m4a</td>\n",
       "      <td>vcc2018</td>\n",
       "      <td>HUB-N10</td>\n",
       "      <td>spoof</td>\n",
       "      <td>notrim</td>\n",
       "      <td>eval</td>\n",
       "      <td>neural_vocoder_autoregressive</td>\n",
       "      <td>HUB</td>\n",
       "      <td>N10</td>\n",
       "      <td>FM</td>\n",
       "      <td>-</td>\n",
       "    </tr>\n",
       "  </tbody>\n",
       "</table>\n",
       "</div>"
      ],
      "text/plain": [
       "         0             1         2         3             4         5       6   \\\n",
       "0   LA_0023  DF_E_2000011   nocodec  asvspoof           A14     spoof  notrim   \n",
       "1      TEF2  DF_E_2000013   low_m4a   vcc2020  Task1-team20     spoof  notrim   \n",
       "2      TGF1  DF_E_2000024    mp3m4a   vcc2020  Task2-team12     spoof  notrim   \n",
       "3   LA_0043  DF_E_2000026    mp3m4a  asvspoof           A09     spoof  notrim   \n",
       "4   LA_0021  DF_E_2000027    mp3m4a  asvspoof           A12     spoof  notrim   \n",
       "5   VCC2TM2  DF_E_2000028   low_mp3   vcc2018       SPO-N12     spoof  notrim   \n",
       "6   LA_0025  DF_E_2000031  high_m4a  asvspoof           A10     spoof  notrim   \n",
       "7      TMF1  DF_E_2000032  high_m4a   vcc2020  Task2-team29     spoof  notrim   \n",
       "8   VCC2TM1  DF_E_2000040   low_m4a   vcc2018       SPO-B01     spoof  notrim   \n",
       "9   VCC2TM2  DF_E_2000042   low_m4a   vcc2018       HUB-N06     spoof  notrim   \n",
       "10     TEM2  DF_E_2000044   nocodec   vcc2020  Task1-team09     spoof  notrim   \n",
       "11  VCC2TM1  DF_E_2000048  high_m4a   vcc2018       SPO-N10     spoof  notrim   \n",
       "12  LA_0032  DF_E_2000049    mp3m4a  asvspoof           A10     spoof  notrim   \n",
       "13  VCC2TM2  DF_E_2000053    mp3m4a   vcc2018             -  bonafide  notrim   \n",
       "14  LA_0036  DF_E_2000055  high_ogg  asvspoof           A17     spoof  notrim   \n",
       "15  LA_0048  DF_E_2000058    mp3m4a  asvspoof             -  bonafide  notrim   \n",
       "16     TEM2  DF_E_2000072  high_ogg   vcc2020  Task1-team11     spoof  notrim   \n",
       "17  LA_0046  DF_E_2000075  high_m4a  asvspoof           A18     spoof  notrim   \n",
       "18     TEM2  DF_E_2000079  high_m4a   vcc2020             -  bonafide  notrim   \n",
       "19  VCC2TM2  DF_E_2000080   nocodec   vcc2018       HUB-N12     spoof  notrim   \n",
       "20     TGF1  DF_E_2000091   low_m4a   vcc2020  Task2-team16     spoof  notrim   \n",
       "21  VCC2TF1  DF_E_2000096  high_ogg   vcc2018       SPO-N11     spoof  notrim   \n",
       "22     TEM2  DF_E_2000100  high_m4a   vcc2020  Task1-team18     spoof  notrim   \n",
       "23  LA_0026  DF_E_2000102  high_m4a  asvspoof           A09     spoof  notrim   \n",
       "24  LA_0008  DF_E_2000106   low_ogg  asvspoof           A10     spoof  notrim   \n",
       "25  LA_0028  DF_E_2000115    mp3m4a  asvspoof           A08     spoof  notrim   \n",
       "26     TEF1  DF_E_2000117    oggm4a   vcc2020  Task1-team33     spoof  notrim   \n",
       "27  VCC2TF2  DF_E_2000123   nocodec   vcc2018       HUB-D04     spoof  notrim   \n",
       "28     TMM1  DF_E_2000125   nocodec   vcc2020  Task2-team24     spoof  notrim   \n",
       "29     TGM1  DF_E_2000126  high_mp3   vcc2020  Task2-team07     spoof  notrim   \n",
       "30  LA_0046  DF_E_2000127    mp3m4a  asvspoof           A09     spoof  notrim   \n",
       "31  VCC2TM2  DF_E_2000128   nocodec   vcc2018       HUB-D04     spoof  notrim   \n",
       "32     TMF1  DF_E_2000132   low_mp3   vcc2020  Task2-team02     spoof  notrim   \n",
       "33  LA_0018  DF_E_2000137    oggm4a  asvspoof           A17     spoof  notrim   \n",
       "34  VCC2TM1  DF_E_2000142    oggm4a   vcc2018       HUB-N11     spoof  notrim   \n",
       "35  LA_0034  DF_E_2000143   low_mp3  asvspoof           A11     spoof  notrim   \n",
       "36  VCC2TF2  DF_E_2000147   nocodec   vcc2018       SPO-N03     spoof  notrim   \n",
       "37     TEM2  DF_E_2000151   low_mp3   vcc2020  Task1-team20     spoof  notrim   \n",
       "38  VCC2TF1  DF_E_2000154  high_ogg   vcc2018       HUB-N10     spoof  notrim   \n",
       "39     TMF1  DF_E_2000160   nocodec   vcc2020  Task2-team09     spoof  notrim   \n",
       "40  VCC2TF2  DF_E_2000162    mp3m4a   vcc2018       HUB-N18     spoof  notrim   \n",
       "41     TEM1  DF_E_2000165    mp3m4a   vcc2020  Task1-team19     spoof  notrim   \n",
       "42     TMF1  DF_E_2000177   low_ogg   vcc2020  Task2-team12     spoof  notrim   \n",
       "43  LA_0023  DF_E_2000179   nocodec  asvspoof           A19     spoof  notrim   \n",
       "44  LA_0040  DF_E_2000180  high_m4a  asvspoof           A16     spoof  notrim   \n",
       "45     TEM2  DF_E_2000182  high_m4a   vcc2020  Task1-team23     spoof  notrim   \n",
       "46  VCC2TF2  DF_E_2000183  high_mp3   vcc2018       HUB-N10     spoof  notrim   \n",
       "47  VCC2TM2  DF_E_2000193   low_ogg   vcc2018       SPO-N18     spoof  notrim   \n",
       "48  VCC2TM1  DF_E_2000199  high_mp3   vcc2018       SPO-N06     spoof  notrim   \n",
       "49  VCC2TM1  DF_E_2000200   low_m4a   vcc2018       HUB-N10     spoof  notrim   \n",
       "\n",
       "          7                                 8      9       10  11 12  \n",
       "0   progress               traditional_vocoder      -       -   -  -  \n",
       "1       eval  neural_vocoder_nonautoregressive  Task1  team20  FF  E  \n",
       "2       eval               traditional_vocoder  Task2  team12  FF  G  \n",
       "3       eval               traditional_vocoder      -       -   -  -  \n",
       "4       eval     neural_vocoder_autoregressive      -       -   -  -  \n",
       "5       eval               traditional_vocoder    SPO     N12  FM  -  \n",
       "6       eval     neural_vocoder_autoregressive      -       -   -  -  \n",
       "7       eval     neural_vocoder_autoregressive  Task2  team29  MF  M  \n",
       "8       eval               traditional_vocoder    SPO     B01  MM  -  \n",
       "9       eval               traditional_vocoder    HUB     N06  FM  -  \n",
       "10      eval  neural_vocoder_nonautoregressive  Task1  team09  MM  E  \n",
       "11      eval     neural_vocoder_autoregressive    SPO     N10  FM  -  \n",
       "12      eval     neural_vocoder_autoregressive      -       -   -  -  \n",
       "13      eval                          bonafide      -       -   -  -  \n",
       "14      eval               traditional_vocoder      -       -   -  -  \n",
       "15      eval                          bonafide      -       -   -  -  \n",
       "16      eval     neural_vocoder_autoregressive  Task1  team11  MM  E  \n",
       "17  progress               traditional_vocoder      -       -   -  -  \n",
       "18      eval                          bonafide      -       -   -  -  \n",
       "19      eval               traditional_vocoder    HUB     N12  FM  -  \n",
       "20      eval  neural_vocoder_nonautoregressive  Task2  team16  MF  G  \n",
       "21      eval               traditional_vocoder    SPO     N11  FF  -  \n",
       "22      eval                           unknown  Task1  team18  FM  E  \n",
       "23      eval               traditional_vocoder      -       -   -  -  \n",
       "24      eval     neural_vocoder_autoregressive      -       -   -  -  \n",
       "25      eval  neural_vocoder_nonautoregressive      -       -   -  -  \n",
       "26      eval  neural_vocoder_nonautoregressive  Task1  team33  FF  E  \n",
       "27      eval               traditional_vocoder    HUB     D04  FF  -  \n",
       "28      eval     neural_vocoder_autoregressive  Task2  team24  MM  M  \n",
       "29      eval     neural_vocoder_autoregressive  Task2  team07  FM  G  \n",
       "30      eval               traditional_vocoder      -       -   -  -  \n",
       "31      eval               traditional_vocoder    HUB     D04  MM  -  \n",
       "32      eval  neural_vocoder_nonautoregressive  Task2  team02  MF  M  \n",
       "33      eval               traditional_vocoder      -       -   -  -  \n",
       "34      eval               traditional_vocoder    HUB     N11  FM  -  \n",
       "35  progress               traditional_vocoder      -       -   -  -  \n",
       "36      eval                           unknown    SPO     N03  MF  -  \n",
       "37      eval  neural_vocoder_nonautoregressive  Task1  team20  MM  E  \n",
       "38      eval     neural_vocoder_autoregressive    HUB     N10  MF  -  \n",
       "39      eval  neural_vocoder_nonautoregressive  Task2  team09  MF  M  \n",
       "40      eval               traditional_vocoder    HUB     N18  MF  -  \n",
       "41      eval  neural_vocoder_nonautoregressive  Task1  team19  FM  E  \n",
       "42      eval               traditional_vocoder  Task2  team12  FF  M  \n",
       "43  progress               traditional_vocoder      -       -   -  -  \n",
       "44      eval            waveform_concatenation      -       -   -  -  \n",
       "45      eval  neural_vocoder_nonautoregressive  Task1  team23  MM  E  \n",
       "46      eval     neural_vocoder_autoregressive    HUB     N10  MF  -  \n",
       "47      eval               traditional_vocoder    SPO     N18  FM  -  \n",
       "48      eval               traditional_vocoder    SPO     N06  MM  -  \n",
       "49      eval     neural_vocoder_autoregressive    HUB     N10  FM  -  "
      ]
     },
     "execution_count": 5,
     "metadata": {},
     "output_type": "execute_result"
    }
   ],
   "source": [
    "data2.head(5)"
   ]
  },
  {
   "cell_type": "code",
   "execution_count": 7,
   "id": "6c3d34e0",
   "metadata": {},
   "outputs": [],
   "source": [
    "data = pd.concat([data2[1] , data2[5]] , axis = 1)"
   ]
  },
  {
   "cell_type": "code",
   "execution_count": 8,
   "id": "d2de9b59",
   "metadata": {},
   "outputs": [
    {
     "data": {
      "text/html": [
       "<div>\n",
       "<style scoped>\n",
       "    .dataframe tbody tr th:only-of-type {\n",
       "        vertical-align: middle;\n",
       "    }\n",
       "\n",
       "    .dataframe tbody tr th {\n",
       "        vertical-align: top;\n",
       "    }\n",
       "\n",
       "    .dataframe thead th {\n",
       "        text-align: right;\n",
       "    }\n",
       "</style>\n",
       "<table border=\"1\" class=\"dataframe\">\n",
       "  <thead>\n",
       "    <tr style=\"text-align: right;\">\n",
       "      <th></th>\n",
       "      <th>1</th>\n",
       "      <th>5</th>\n",
       "    </tr>\n",
       "  </thead>\n",
       "  <tbody>\n",
       "    <tr>\n",
       "      <th>0</th>\n",
       "      <td>DF_E_2000011</td>\n",
       "      <td>spoof</td>\n",
       "    </tr>\n",
       "    <tr>\n",
       "      <th>1</th>\n",
       "      <td>DF_E_2000013</td>\n",
       "      <td>spoof</td>\n",
       "    </tr>\n",
       "    <tr>\n",
       "      <th>2</th>\n",
       "      <td>DF_E_2000024</td>\n",
       "      <td>spoof</td>\n",
       "    </tr>\n",
       "    <tr>\n",
       "      <th>3</th>\n",
       "      <td>DF_E_2000026</td>\n",
       "      <td>spoof</td>\n",
       "    </tr>\n",
       "    <tr>\n",
       "      <th>4</th>\n",
       "      <td>DF_E_2000027</td>\n",
       "      <td>spoof</td>\n",
       "    </tr>\n",
       "  </tbody>\n",
       "</table>\n",
       "</div>"
      ],
      "text/plain": [
       "              1      5\n",
       "0  DF_E_2000011  spoof\n",
       "1  DF_E_2000013  spoof\n",
       "2  DF_E_2000024  spoof\n",
       "3  DF_E_2000026  spoof\n",
       "4  DF_E_2000027  spoof"
      ]
     },
     "execution_count": 8,
     "metadata": {},
     "output_type": "execute_result"
    }
   ],
   "source": [
    "data.head()"
   ]
  },
  {
   "cell_type": "code",
   "execution_count": 9,
   "id": "db1bfd9e",
   "metadata": {},
   "outputs": [],
   "source": [
    "data = data.rename(columns={1:'path', 5:'values'})"
   ]
  },
  {
   "cell_type": "code",
   "execution_count": 10,
   "id": "d2446b06",
   "metadata": {},
   "outputs": [],
   "source": [
    "data['values'] = data['values'].map({'spoof': 1, 'bonafide': 0})"
   ]
  },
  {
   "cell_type": "code",
   "execution_count": 11,
   "id": "eaacdf63",
   "metadata": {},
   "outputs": [],
   "source": [
    "data.to_csv('E:/Audio/ASV/valid', index=False, sep = '\\t')"
   ]
  },
  {
   "cell_type": "code",
   "execution_count": 27,
   "id": "90580f89",
   "metadata": {},
   "outputs": [
    {
     "data": {
      "text/plain": [
       "0    22617\n",
       "Name: values, dtype: int64"
      ]
     },
     "execution_count": 27,
     "metadata": {},
     "output_type": "execute_result"
    }
   ],
   "source": [
    "data['values'].value_counts()"
   ]
  },
  {
   "cell_type": "code",
   "execution_count": 13,
   "id": "299ff5c0",
   "metadata": {},
   "outputs": [],
   "source": [
    "i=0\n",
    "if i < 566595:\n",
    "    data = data.drop(data[data['values'] == 1].index)\n",
    "    i+=1"
   ]
  },
  {
   "cell_type": "code",
   "execution_count": 14,
   "id": "69157d11",
   "metadata": {},
   "outputs": [],
   "source": [
    "data2 = pd.read_csv(\"E:/Audio/ASV/trial_metadata.txt\", sep = ' ', header= None)"
   ]
  },
  {
   "cell_type": "code",
   "execution_count": 15,
   "id": "35f4cfa2",
   "metadata": {},
   "outputs": [],
   "source": [
    "data3 = pd.concat([data2[1] , data2[5]] , axis = 1)"
   ]
  },
  {
   "cell_type": "code",
   "execution_count": 16,
   "id": "31b0e354",
   "metadata": {},
   "outputs": [],
   "source": [
    "data3 = data3.rename(columns={1:'path', 5:'values'})"
   ]
  },
  {
   "cell_type": "code",
   "execution_count": 17,
   "id": "a802cd23",
   "metadata": {},
   "outputs": [],
   "source": [
    "data3['values'] = data3['values'].map({'spoof': 1, 'bonafide': 0})"
   ]
  },
  {
   "cell_type": "code",
   "execution_count": 18,
   "id": "bc25a1fc",
   "metadata": {},
   "outputs": [],
   "source": [
    "i=0\n",
    "if i < 566595:\n",
    "    data3 = data3.drop(data[data['values'] == 0].index)\n",
    "    i+=1"
   ]
  },
  {
   "cell_type": "code",
   "execution_count": 26,
   "id": "f4618910",
   "metadata": {},
   "outputs": [
    {
     "data": {
      "text/plain": [
       "1    22618\n",
       "Name: values, dtype: int64"
      ]
     },
     "execution_count": 26,
     "metadata": {},
     "output_type": "execute_result"
    }
   ],
   "source": [
    "data3['values'].value_counts()"
   ]
  },
  {
   "cell_type": "code",
   "execution_count": 24,
   "id": "d069d4a5",
   "metadata": {},
   "outputs": [],
   "source": [
    "data3 = data3.reset_index()"
   ]
  },
  {
   "cell_type": "code",
   "execution_count": 25,
   "id": "6c5e5931",
   "metadata": {},
   "outputs": [],
   "source": [
    "data3 = data3.drop(labels = range(1,566595), axis=0)"
   ]
  },
  {
   "cell_type": "code",
   "execution_count": 37,
   "id": "2d0a3758",
   "metadata": {},
   "outputs": [
    {
     "data": {
      "text/html": [
       "<div>\n",
       "<style scoped>\n",
       "    .dataframe tbody tr th:only-of-type {\n",
       "        vertical-align: middle;\n",
       "    }\n",
       "\n",
       "    .dataframe tbody tr th {\n",
       "        vertical-align: top;\n",
       "    }\n",
       "\n",
       "    .dataframe thead th {\n",
       "        text-align: right;\n",
       "    }\n",
       "</style>\n",
       "<table border=\"1\" class=\"dataframe\">\n",
       "  <thead>\n",
       "    <tr style=\"text-align: right;\">\n",
       "      <th></th>\n",
       "      <th>path</th>\n",
       "      <th>values</th>\n",
       "    </tr>\n",
       "  </thead>\n",
       "  <tbody>\n",
       "    <tr>\n",
       "      <th>0</th>\n",
       "      <td>DF_E_2000011</td>\n",
       "      <td>1</td>\n",
       "    </tr>\n",
       "    <tr>\n",
       "      <th>2</th>\n",
       "      <td>DF_E_2000024</td>\n",
       "      <td>1</td>\n",
       "    </tr>\n",
       "    <tr>\n",
       "      <th>3</th>\n",
       "      <td>DF_E_2000026</td>\n",
       "      <td>1</td>\n",
       "    </tr>\n",
       "    <tr>\n",
       "      <th>4</th>\n",
       "      <td>DF_E_2000027</td>\n",
       "      <td>1</td>\n",
       "    </tr>\n",
       "    <tr>\n",
       "      <th>5</th>\n",
       "      <td>DF_E_2000028</td>\n",
       "      <td>1</td>\n",
       "    </tr>\n",
       "  </tbody>\n",
       "</table>\n",
       "</div>"
      ],
      "text/plain": [
       "           path  values\n",
       "0  DF_E_2000011       1\n",
       "2  DF_E_2000024       1\n",
       "3  DF_E_2000026       1\n",
       "4  DF_E_2000027       1\n",
       "5  DF_E_2000028       1"
      ]
     },
     "execution_count": 37,
     "metadata": {},
     "output_type": "execute_result"
    }
   ],
   "source": [
    "data3.head()"
   ]
  },
  {
   "cell_type": "code",
   "execution_count": 28,
   "id": "7b05cee7",
   "metadata": {},
   "outputs": [],
   "source": [
    "data2 = pd.concat([data , data3], axis = 0)"
   ]
  },
  {
   "cell_type": "code",
   "execution_count": 35,
   "id": "a5c4e382",
   "metadata": {},
   "outputs": [
    {
     "data": {
      "text/html": [
       "<div>\n",
       "<style scoped>\n",
       "    .dataframe tbody tr th:only-of-type {\n",
       "        vertical-align: middle;\n",
       "    }\n",
       "\n",
       "    .dataframe tbody tr th {\n",
       "        vertical-align: top;\n",
       "    }\n",
       "\n",
       "    .dataframe thead th {\n",
       "        text-align: right;\n",
       "    }\n",
       "</style>\n",
       "<table border=\"1\" class=\"dataframe\">\n",
       "  <thead>\n",
       "    <tr style=\"text-align: right;\">\n",
       "      <th></th>\n",
       "      <th>path</th>\n",
       "      <th>values</th>\n",
       "    </tr>\n",
       "  </thead>\n",
       "  <tbody>\n",
       "    <tr>\n",
       "      <th>13</th>\n",
       "      <td>DF_E_2000053</td>\n",
       "      <td>0</td>\n",
       "    </tr>\n",
       "    <tr>\n",
       "      <th>15</th>\n",
       "      <td>DF_E_2000058</td>\n",
       "      <td>0</td>\n",
       "    </tr>\n",
       "    <tr>\n",
       "      <th>18</th>\n",
       "      <td>DF_E_2000079</td>\n",
       "      <td>0</td>\n",
       "    </tr>\n",
       "    <tr>\n",
       "      <th>61</th>\n",
       "      <td>DF_E_2000246</td>\n",
       "      <td>0</td>\n",
       "    </tr>\n",
       "    <tr>\n",
       "      <th>113</th>\n",
       "      <td>DF_E_2000503</td>\n",
       "      <td>0</td>\n",
       "    </tr>\n",
       "  </tbody>\n",
       "</table>\n",
       "</div>"
      ],
      "text/plain": [
       "             path  values\n",
       "13   DF_E_2000053       0\n",
       "15   DF_E_2000058       0\n",
       "18   DF_E_2000079       0\n",
       "61   DF_E_2000246       0\n",
       "113  DF_E_2000503       0"
      ]
     },
     "execution_count": 35,
     "metadata": {},
     "output_type": "execute_result"
    }
   ],
   "source": [
    "data2.head()"
   ]
  },
  {
   "cell_type": "code",
   "execution_count": 34,
   "id": "d8bff292",
   "metadata": {},
   "outputs": [],
   "source": [
    "data2 = data2.drop(columns='index')"
   ]
  },
  {
   "cell_type": "code",
   "execution_count": 37,
   "id": "9a3151eb",
   "metadata": {},
   "outputs": [
    {
     "data": {
      "text/plain": [
       "1    22618\n",
       "0    22617\n",
       "Name: values, dtype: int64"
      ]
     },
     "execution_count": 37,
     "metadata": {},
     "output_type": "execute_result"
    }
   ],
   "source": [
    "data2['values'].value_counts()"
   ]
  },
  {
   "cell_type": "code",
   "execution_count": 39,
   "id": "b1805f6c",
   "metadata": {},
   "outputs": [],
   "source": [
    "data2 = data2.rename(columns={1:'path', 'values':'fake'})"
   ]
  },
  {
   "cell_type": "code",
   "execution_count": 40,
   "id": "b38760ac",
   "metadata": {},
   "outputs": [],
   "source": [
    "data2.to_csv('E:/Audio/ASV/equal_dataset', index=False, sep = '\\t')"
   ]
  },
  {
   "cell_type": "code",
   "execution_count": null,
   "id": "4e1ce2ed",
   "metadata": {},
   "outputs": [],
   "source": []
  },
  {
   "cell_type": "code",
   "execution_count": 64,
   "id": "c8fabdae",
   "metadata": {},
   "outputs": [
    {
     "data": {
      "text/plain": [
       "611829"
      ]
     },
     "execution_count": 64,
     "metadata": {},
     "output_type": "execute_result"
    }
   ],
   "source": [
    "names = list(data['Name'])\n",
    "len(names)"
   ]
  },
  {
   "cell_type": "code",
   "execution_count": 54,
   "id": "df1914fd",
   "metadata": {},
   "outputs": [],
   "source": [
    "import os"
   ]
  },
  {
   "cell_type": "code",
   "execution_count": 63,
   "id": "0f2d59ad",
   "metadata": {},
   "outputs": [],
   "source": [
    "# for name in names:\n",
    "#     try:\n",
    "#         os.replace(f'E:/Audio/ASV/ASVspoof2021_DF_eval_part03/ASVspoof2021_DF_eval/flac/{name}.flac',f'E:/Audio/ASV/clips/{name}.flac')\n",
    "#     except Exception:\n",
    "#         pass"
   ]
  },
  {
   "cell_type": "code",
   "execution_count": null,
   "id": "70c57fdd",
   "metadata": {},
   "outputs": [],
   "source": []
  },
  {
   "cell_type": "code",
   "execution_count": null,
   "id": "306b0549",
   "metadata": {},
   "outputs": [],
   "source": []
  },
  {
   "cell_type": "code",
   "execution_count": null,
   "id": "6fe2cc22",
   "metadata": {},
   "outputs": [],
   "source": []
  },
  {
   "cell_type": "code",
   "execution_count": 11,
   "id": "4bc3ca35",
   "metadata": {},
   "outputs": [],
   "source": [
    "filename = lb.example('nutcracker')"
   ]
  },
  {
   "cell_type": "code",
   "execution_count": 12,
   "id": "77184c0a",
   "metadata": {},
   "outputs": [
    {
     "name": "stderr",
     "output_type": "stream",
     "text": [
      "C:\\Users\\79671\\anaconda3\\lib\\site-packages\\librosa\\util\\decorators.py:88: UserWarning: PySoundFile failed. Trying audioread instead.\n",
      "  return f(*args, **kwargs)\n"
     ]
    },
    {
     "ename": "FileNotFoundError",
     "evalue": "[Errno 2] No such file or directory: '../../Deep Fake/archive/Version1/clips/voice_1.wav'",
     "output_type": "error",
     "traceback": [
      "\u001b[1;31m---------------------------------------------------------------------------\u001b[0m",
      "\u001b[1;31mLibsndfileError\u001b[0m                           Traceback (most recent call last)",
      "File \u001b[1;32m~\\anaconda3\\lib\\site-packages\\librosa\\core\\audio.py:164\u001b[0m, in \u001b[0;36mload\u001b[1;34m(path, sr, mono, offset, duration, dtype, res_type)\u001b[0m\n\u001b[0;32m    163\u001b[0m \u001b[38;5;28;01mtry\u001b[39;00m:\n\u001b[1;32m--> 164\u001b[0m     y, sr_native \u001b[38;5;241m=\u001b[39m \u001b[43m__soundfile_load\u001b[49m\u001b[43m(\u001b[49m\u001b[43mpath\u001b[49m\u001b[43m,\u001b[49m\u001b[43m \u001b[49m\u001b[43moffset\u001b[49m\u001b[43m,\u001b[49m\u001b[43m \u001b[49m\u001b[43mduration\u001b[49m\u001b[43m,\u001b[49m\u001b[43m \u001b[49m\u001b[43mdtype\u001b[49m\u001b[43m)\u001b[49m\n\u001b[0;32m    166\u001b[0m \u001b[38;5;28;01mexcept\u001b[39;00m \u001b[38;5;167;01mRuntimeError\u001b[39;00m \u001b[38;5;28;01mas\u001b[39;00m exc:\n\u001b[0;32m    167\u001b[0m     \u001b[38;5;66;03m# If soundfile failed, try audioread instead\u001b[39;00m\n",
      "File \u001b[1;32m~\\anaconda3\\lib\\site-packages\\librosa\\core\\audio.py:195\u001b[0m, in \u001b[0;36m__soundfile_load\u001b[1;34m(path, offset, duration, dtype)\u001b[0m\n\u001b[0;32m    193\u001b[0m \u001b[38;5;28;01melse\u001b[39;00m:\n\u001b[0;32m    194\u001b[0m     \u001b[38;5;66;03m# Otherwise, create the soundfile object\u001b[39;00m\n\u001b[1;32m--> 195\u001b[0m     context \u001b[38;5;241m=\u001b[39m \u001b[43msf\u001b[49m\u001b[38;5;241;43m.\u001b[39;49m\u001b[43mSoundFile\u001b[49m\u001b[43m(\u001b[49m\u001b[43mpath\u001b[49m\u001b[43m)\u001b[49m\n\u001b[0;32m    197\u001b[0m \u001b[38;5;28;01mwith\u001b[39;00m context \u001b[38;5;28;01mas\u001b[39;00m sf_desc:\n",
      "File \u001b[1;32m~\\anaconda3\\lib\\site-packages\\soundfile.py:655\u001b[0m, in \u001b[0;36mSoundFile.__init__\u001b[1;34m(self, file, mode, samplerate, channels, subtype, endian, format, closefd)\u001b[0m\n\u001b[0;32m    653\u001b[0m \u001b[38;5;28mself\u001b[39m\u001b[38;5;241m.\u001b[39m_info \u001b[38;5;241m=\u001b[39m _create_info_struct(file, mode, samplerate, channels,\n\u001b[0;32m    654\u001b[0m                                  \u001b[38;5;28mformat\u001b[39m, subtype, endian)\n\u001b[1;32m--> 655\u001b[0m \u001b[38;5;28mself\u001b[39m\u001b[38;5;241m.\u001b[39m_file \u001b[38;5;241m=\u001b[39m \u001b[38;5;28;43mself\u001b[39;49m\u001b[38;5;241;43m.\u001b[39;49m\u001b[43m_open\u001b[49m\u001b[43m(\u001b[49m\u001b[43mfile\u001b[49m\u001b[43m,\u001b[49m\u001b[43m \u001b[49m\u001b[43mmode_int\u001b[49m\u001b[43m,\u001b[49m\u001b[43m \u001b[49m\u001b[43mclosefd\u001b[49m\u001b[43m)\u001b[49m\n\u001b[0;32m    656\u001b[0m \u001b[38;5;28;01mif\u001b[39;00m \u001b[38;5;28mset\u001b[39m(mode)\u001b[38;5;241m.\u001b[39missuperset(\u001b[38;5;124m'\u001b[39m\u001b[38;5;124mr+\u001b[39m\u001b[38;5;124m'\u001b[39m) \u001b[38;5;129;01mand\u001b[39;00m \u001b[38;5;28mself\u001b[39m\u001b[38;5;241m.\u001b[39mseekable():\n\u001b[0;32m    657\u001b[0m     \u001b[38;5;66;03m# Move write position to 0 (like in Python file objects)\u001b[39;00m\n",
      "File \u001b[1;32m~\\anaconda3\\lib\\site-packages\\soundfile.py:1213\u001b[0m, in \u001b[0;36mSoundFile._open\u001b[1;34m(self, file, mode_int, closefd)\u001b[0m\n\u001b[0;32m   1212\u001b[0m     err \u001b[38;5;241m=\u001b[39m _snd\u001b[38;5;241m.\u001b[39msf_error(file_ptr)\n\u001b[1;32m-> 1213\u001b[0m     \u001b[38;5;28;01mraise\u001b[39;00m LibsndfileError(err, prefix\u001b[38;5;241m=\u001b[39m\u001b[38;5;124m\"\u001b[39m\u001b[38;5;124mError opening \u001b[39m\u001b[38;5;132;01m{0!r}\u001b[39;00m\u001b[38;5;124m: \u001b[39m\u001b[38;5;124m\"\u001b[39m\u001b[38;5;241m.\u001b[39mformat(\u001b[38;5;28mself\u001b[39m\u001b[38;5;241m.\u001b[39mname))\n\u001b[0;32m   1214\u001b[0m \u001b[38;5;28;01mif\u001b[39;00m mode_int \u001b[38;5;241m==\u001b[39m _snd\u001b[38;5;241m.\u001b[39mSFM_WRITE:\n\u001b[0;32m   1215\u001b[0m     \u001b[38;5;66;03m# Due to a bug in libsndfile version <= 1.0.25, frames != 0\u001b[39;00m\n\u001b[0;32m   1216\u001b[0m     \u001b[38;5;66;03m# when opening a named pipe in SFM_WRITE mode.\u001b[39;00m\n\u001b[0;32m   1217\u001b[0m     \u001b[38;5;66;03m# See http://github.com/erikd/libsndfile/issues/77.\u001b[39;00m\n",
      "\u001b[1;31mLibsndfileError\u001b[0m: Error opening '../../Deep Fake/archive/Version1/clips/voice_1.wav': System error.",
      "\nDuring handling of the above exception, another exception occurred:\n",
      "\u001b[1;31mFileNotFoundError\u001b[0m                         Traceback (most recent call last)",
      "Input \u001b[1;32mIn [12]\u001b[0m, in \u001b[0;36m<cell line: 1>\u001b[1;34m()\u001b[0m\n\u001b[1;32m----> 1\u001b[0m wav, sample_rate \u001b[38;5;241m=\u001b[39m \u001b[43mlb\u001b[49m\u001b[38;5;241;43m.\u001b[39;49m\u001b[43mload\u001b[49m\u001b[43m(\u001b[49m\u001b[38;5;124;43m\"\u001b[39;49m\u001b[38;5;124;43m../../Deep Fake/archive/Version1/clips/voice_1.wav\u001b[39;49m\u001b[38;5;124;43m\"\u001b[39;49m\u001b[43m)\u001b[49m\n",
      "File \u001b[1;32m~\\anaconda3\\lib\\site-packages\\librosa\\util\\decorators.py:88\u001b[0m, in \u001b[0;36mdeprecate_positional_args.<locals>._inner_deprecate_positional_args.<locals>.inner_f\u001b[1;34m(*args, **kwargs)\u001b[0m\n\u001b[0;32m     86\u001b[0m extra_args \u001b[38;5;241m=\u001b[39m \u001b[38;5;28mlen\u001b[39m(args) \u001b[38;5;241m-\u001b[39m \u001b[38;5;28mlen\u001b[39m(all_args)\n\u001b[0;32m     87\u001b[0m \u001b[38;5;28;01mif\u001b[39;00m extra_args \u001b[38;5;241m<\u001b[39m\u001b[38;5;241m=\u001b[39m \u001b[38;5;241m0\u001b[39m:\n\u001b[1;32m---> 88\u001b[0m     \u001b[38;5;28;01mreturn\u001b[39;00m f(\u001b[38;5;241m*\u001b[39margs, \u001b[38;5;241m*\u001b[39m\u001b[38;5;241m*\u001b[39mkwargs)\n\u001b[0;32m     90\u001b[0m \u001b[38;5;66;03m# extra_args > 0\u001b[39;00m\n\u001b[0;32m     91\u001b[0m args_msg \u001b[38;5;241m=\u001b[39m [\n\u001b[0;32m     92\u001b[0m     \u001b[38;5;124m\"\u001b[39m\u001b[38;5;132;01m{}\u001b[39;00m\u001b[38;5;124m=\u001b[39m\u001b[38;5;132;01m{}\u001b[39;00m\u001b[38;5;124m\"\u001b[39m\u001b[38;5;241m.\u001b[39mformat(name, arg)\n\u001b[0;32m     93\u001b[0m     \u001b[38;5;28;01mfor\u001b[39;00m name, arg \u001b[38;5;129;01min\u001b[39;00m \u001b[38;5;28mzip\u001b[39m(kwonly_args[:extra_args], args[\u001b[38;5;241m-\u001b[39mextra_args:])\n\u001b[0;32m     94\u001b[0m ]\n",
      "File \u001b[1;32m~\\anaconda3\\lib\\site-packages\\librosa\\core\\audio.py:170\u001b[0m, in \u001b[0;36mload\u001b[1;34m(path, sr, mono, offset, duration, dtype, res_type)\u001b[0m\n\u001b[0;32m    168\u001b[0m \u001b[38;5;28;01mif\u001b[39;00m \u001b[38;5;28misinstance\u001b[39m(path, (\u001b[38;5;28mstr\u001b[39m, pathlib\u001b[38;5;241m.\u001b[39mPurePath)):\n\u001b[0;32m    169\u001b[0m     warnings\u001b[38;5;241m.\u001b[39mwarn(\u001b[38;5;124m\"\u001b[39m\u001b[38;5;124mPySoundFile failed. Trying audioread instead.\u001b[39m\u001b[38;5;124m\"\u001b[39m, stacklevel\u001b[38;5;241m=\u001b[39m\u001b[38;5;241m2\u001b[39m)\n\u001b[1;32m--> 170\u001b[0m     y, sr_native \u001b[38;5;241m=\u001b[39m \u001b[43m__audioread_load\u001b[49m\u001b[43m(\u001b[49m\u001b[43mpath\u001b[49m\u001b[43m,\u001b[49m\u001b[43m \u001b[49m\u001b[43moffset\u001b[49m\u001b[43m,\u001b[49m\u001b[43m \u001b[49m\u001b[43mduration\u001b[49m\u001b[43m,\u001b[49m\u001b[43m \u001b[49m\u001b[43mdtype\u001b[49m\u001b[43m)\u001b[49m\n\u001b[0;32m    171\u001b[0m \u001b[38;5;28;01melse\u001b[39;00m:\n\u001b[0;32m    172\u001b[0m     \u001b[38;5;28;01mraise\u001b[39;00m exc\n",
      "File \u001b[1;32m~\\anaconda3\\lib\\site-packages\\librosa\\core\\audio.py:226\u001b[0m, in \u001b[0;36m__audioread_load\u001b[1;34m(path, offset, duration, dtype)\u001b[0m\n\u001b[0;32m    223\u001b[0m     reader \u001b[38;5;241m=\u001b[39m path\n\u001b[0;32m    224\u001b[0m \u001b[38;5;28;01melse\u001b[39;00m:\n\u001b[0;32m    225\u001b[0m     \u001b[38;5;66;03m# If the input was not an audioread object, try to open it\u001b[39;00m\n\u001b[1;32m--> 226\u001b[0m     reader \u001b[38;5;241m=\u001b[39m \u001b[43maudioread\u001b[49m\u001b[38;5;241;43m.\u001b[39;49m\u001b[43maudio_open\u001b[49m\u001b[43m(\u001b[49m\u001b[43mpath\u001b[49m\u001b[43m)\u001b[49m\n\u001b[0;32m    228\u001b[0m \u001b[38;5;28;01mwith\u001b[39;00m reader \u001b[38;5;28;01mas\u001b[39;00m input_file:\n\u001b[0;32m    229\u001b[0m     sr_native \u001b[38;5;241m=\u001b[39m input_file\u001b[38;5;241m.\u001b[39msamplerate\n",
      "File \u001b[1;32m~\\anaconda3\\lib\\site-packages\\audioread\\__init__.py:127\u001b[0m, in \u001b[0;36maudio_open\u001b[1;34m(path, backends)\u001b[0m\n\u001b[0;32m    125\u001b[0m \u001b[38;5;28;01mfor\u001b[39;00m BackendClass \u001b[38;5;129;01min\u001b[39;00m backends:\n\u001b[0;32m    126\u001b[0m     \u001b[38;5;28;01mtry\u001b[39;00m:\n\u001b[1;32m--> 127\u001b[0m         \u001b[38;5;28;01mreturn\u001b[39;00m \u001b[43mBackendClass\u001b[49m\u001b[43m(\u001b[49m\u001b[43mpath\u001b[49m\u001b[43m)\u001b[49m\n\u001b[0;32m    128\u001b[0m     \u001b[38;5;28;01mexcept\u001b[39;00m DecodeError:\n\u001b[0;32m    129\u001b[0m         \u001b[38;5;28;01mpass\u001b[39;00m\n",
      "File \u001b[1;32m~\\anaconda3\\lib\\site-packages\\audioread\\rawread.py:59\u001b[0m, in \u001b[0;36mRawAudioFile.__init__\u001b[1;34m(self, filename)\u001b[0m\n\u001b[0;32m     58\u001b[0m \u001b[38;5;28;01mdef\u001b[39;00m \u001b[38;5;21m__init__\u001b[39m(\u001b[38;5;28mself\u001b[39m, filename):\n\u001b[1;32m---> 59\u001b[0m     \u001b[38;5;28mself\u001b[39m\u001b[38;5;241m.\u001b[39m_fh \u001b[38;5;241m=\u001b[39m \u001b[38;5;28;43mopen\u001b[39;49m\u001b[43m(\u001b[49m\u001b[43mfilename\u001b[49m\u001b[43m,\u001b[49m\u001b[43m \u001b[49m\u001b[38;5;124;43m'\u001b[39;49m\u001b[38;5;124;43mrb\u001b[39;49m\u001b[38;5;124;43m'\u001b[39;49m\u001b[43m)\u001b[49m\n\u001b[0;32m     61\u001b[0m     \u001b[38;5;28;01mtry\u001b[39;00m:\n\u001b[0;32m     62\u001b[0m         \u001b[38;5;28mself\u001b[39m\u001b[38;5;241m.\u001b[39m_file \u001b[38;5;241m=\u001b[39m aifc\u001b[38;5;241m.\u001b[39mopen(\u001b[38;5;28mself\u001b[39m\u001b[38;5;241m.\u001b[39m_fh)\n",
      "\u001b[1;31mFileNotFoundError\u001b[0m: [Errno 2] No such file or directory: '../../Deep Fake/archive/Version1/clips/voice_1.wav'"
     ]
    }
   ],
   "source": [
    "wav, sample_rate = lb.load(\"../../Deep Fake/archive/Version1/clips/voice_1.wav\")"
   ]
  },
  {
   "cell_type": "code",
   "execution_count": null,
   "id": "e0dedac3",
   "metadata": {},
   "outputs": [],
   "source": [
    "sample_rate, wav = wavfile.read(\"../../Deep Fake/archive/Version1/clips/voice_64028.wav\")"
   ]
  },
  {
   "cell_type": "code",
   "execution_count": 78,
   "id": "fec516b6",
   "metadata": {},
   "outputs": [],
   "source": [
    "wav, sample_rate = torchaudio.load(\"E:/Audio/ASV/clips/DF_E_3410579.flac\")"
   ]
  },
  {
   "cell_type": "code",
   "execution_count": 79,
   "id": "90d9bcd9",
   "metadata": {},
   "outputs": [
    {
     "ename": "LibsndfileError",
     "evalue": "Error opening '../../Deep Fake/archive/Version1/clips/voice_310838.wav': System error.",
     "output_type": "error",
     "traceback": [
      "\u001b[1;31m---------------------------------------------------------------------------\u001b[0m",
      "\u001b[1;31mLibsndfileError\u001b[0m                           Traceback (most recent call last)",
      "Input \u001b[1;32mIn [79]\u001b[0m, in \u001b[0;36m<cell line: 1>\u001b[1;34m()\u001b[0m\n\u001b[1;32m----> 1\u001b[0m wav, sample_rate \u001b[38;5;241m=\u001b[39m \u001b[43mtorchaudio\u001b[49m\u001b[38;5;241;43m.\u001b[39;49m\u001b[43mload\u001b[49m\u001b[43m(\u001b[49m\u001b[38;5;124;43m\"\u001b[39;49m\u001b[38;5;124;43m../../Deep Fake/archive/Version1/clips/voice_310838.wav\u001b[39;49m\u001b[38;5;124;43m\"\u001b[39;49m\u001b[43m)\u001b[49m\n",
      "File \u001b[1;32m~\\anaconda3\\lib\\site-packages\\torchaudio\\backend\\soundfile_backend.py:197\u001b[0m, in \u001b[0;36mload\u001b[1;34m(filepath, frame_offset, num_frames, normalize, channels_first, format)\u001b[0m\n\u001b[0;32m    123\u001b[0m \u001b[38;5;129m@_mod_utils\u001b[39m\u001b[38;5;241m.\u001b[39mrequires_soundfile()\n\u001b[0;32m    124\u001b[0m \u001b[38;5;28;01mdef\u001b[39;00m \u001b[38;5;21mload\u001b[39m(\n\u001b[0;32m    125\u001b[0m     filepath: \u001b[38;5;28mstr\u001b[39m,\n\u001b[1;32m   (...)\u001b[0m\n\u001b[0;32m    130\u001b[0m     \u001b[38;5;28mformat\u001b[39m: Optional[\u001b[38;5;28mstr\u001b[39m] \u001b[38;5;241m=\u001b[39m \u001b[38;5;28;01mNone\u001b[39;00m,\n\u001b[0;32m    131\u001b[0m ) \u001b[38;5;241m-\u001b[39m\u001b[38;5;241m>\u001b[39m Tuple[torch\u001b[38;5;241m.\u001b[39mTensor, \u001b[38;5;28mint\u001b[39m]:\n\u001b[0;32m    132\u001b[0m     \u001b[38;5;124;03m\"\"\"Load audio data from file.\u001b[39;00m\n\u001b[0;32m    133\u001b[0m \n\u001b[0;32m    134\u001b[0m \u001b[38;5;124;03m    Note:\u001b[39;00m\n\u001b[1;32m   (...)\u001b[0m\n\u001b[0;32m    195\u001b[0m \u001b[38;5;124;03m            `[channel, time]` else `[time, channel]`.\u001b[39;00m\n\u001b[0;32m    196\u001b[0m \u001b[38;5;124;03m    \"\"\"\u001b[39;00m\n\u001b[1;32m--> 197\u001b[0m     \u001b[38;5;28;01mwith\u001b[39;00m \u001b[43msoundfile\u001b[49m\u001b[38;5;241;43m.\u001b[39;49m\u001b[43mSoundFile\u001b[49m\u001b[43m(\u001b[49m\u001b[43mfilepath\u001b[49m\u001b[43m,\u001b[49m\u001b[43m \u001b[49m\u001b[38;5;124;43m\"\u001b[39;49m\u001b[38;5;124;43mr\u001b[39;49m\u001b[38;5;124;43m\"\u001b[39;49m\u001b[43m)\u001b[49m \u001b[38;5;28;01mas\u001b[39;00m file_:\n\u001b[0;32m    198\u001b[0m         \u001b[38;5;28;01mif\u001b[39;00m file_\u001b[38;5;241m.\u001b[39mformat \u001b[38;5;241m!=\u001b[39m \u001b[38;5;124m\"\u001b[39m\u001b[38;5;124mWAV\u001b[39m\u001b[38;5;124m\"\u001b[39m \u001b[38;5;129;01mor\u001b[39;00m normalize:\n\u001b[0;32m    199\u001b[0m             dtype \u001b[38;5;241m=\u001b[39m \u001b[38;5;124m\"\u001b[39m\u001b[38;5;124mfloat32\u001b[39m\u001b[38;5;124m\"\u001b[39m\n",
      "File \u001b[1;32m~\\anaconda3\\lib\\site-packages\\soundfile.py:655\u001b[0m, in \u001b[0;36mSoundFile.__init__\u001b[1;34m(self, file, mode, samplerate, channels, subtype, endian, format, closefd)\u001b[0m\n\u001b[0;32m    652\u001b[0m \u001b[38;5;28mself\u001b[39m\u001b[38;5;241m.\u001b[39m_mode \u001b[38;5;241m=\u001b[39m mode\n\u001b[0;32m    653\u001b[0m \u001b[38;5;28mself\u001b[39m\u001b[38;5;241m.\u001b[39m_info \u001b[38;5;241m=\u001b[39m _create_info_struct(file, mode, samplerate, channels,\n\u001b[0;32m    654\u001b[0m                                  \u001b[38;5;28mformat\u001b[39m, subtype, endian)\n\u001b[1;32m--> 655\u001b[0m \u001b[38;5;28mself\u001b[39m\u001b[38;5;241m.\u001b[39m_file \u001b[38;5;241m=\u001b[39m \u001b[38;5;28;43mself\u001b[39;49m\u001b[38;5;241;43m.\u001b[39;49m\u001b[43m_open\u001b[49m\u001b[43m(\u001b[49m\u001b[43mfile\u001b[49m\u001b[43m,\u001b[49m\u001b[43m \u001b[49m\u001b[43mmode_int\u001b[49m\u001b[43m,\u001b[49m\u001b[43m \u001b[49m\u001b[43mclosefd\u001b[49m\u001b[43m)\u001b[49m\n\u001b[0;32m    656\u001b[0m \u001b[38;5;28;01mif\u001b[39;00m \u001b[38;5;28mset\u001b[39m(mode)\u001b[38;5;241m.\u001b[39missuperset(\u001b[38;5;124m'\u001b[39m\u001b[38;5;124mr+\u001b[39m\u001b[38;5;124m'\u001b[39m) \u001b[38;5;129;01mand\u001b[39;00m \u001b[38;5;28mself\u001b[39m\u001b[38;5;241m.\u001b[39mseekable():\n\u001b[0;32m    657\u001b[0m     \u001b[38;5;66;03m# Move write position to 0 (like in Python file objects)\u001b[39;00m\n\u001b[0;32m    658\u001b[0m     \u001b[38;5;28mself\u001b[39m\u001b[38;5;241m.\u001b[39mseek(\u001b[38;5;241m0\u001b[39m)\n",
      "File \u001b[1;32m~\\anaconda3\\lib\\site-packages\\soundfile.py:1213\u001b[0m, in \u001b[0;36mSoundFile._open\u001b[1;34m(self, file, mode_int, closefd)\u001b[0m\n\u001b[0;32m   1210\u001b[0m \u001b[38;5;28;01mif\u001b[39;00m file_ptr \u001b[38;5;241m==\u001b[39m _ffi\u001b[38;5;241m.\u001b[39mNULL:\n\u001b[0;32m   1211\u001b[0m     \u001b[38;5;66;03m# get the actual error code\u001b[39;00m\n\u001b[0;32m   1212\u001b[0m     err \u001b[38;5;241m=\u001b[39m _snd\u001b[38;5;241m.\u001b[39msf_error(file_ptr)\n\u001b[1;32m-> 1213\u001b[0m     \u001b[38;5;28;01mraise\u001b[39;00m LibsndfileError(err, prefix\u001b[38;5;241m=\u001b[39m\u001b[38;5;124m\"\u001b[39m\u001b[38;5;124mError opening \u001b[39m\u001b[38;5;132;01m{0!r}\u001b[39;00m\u001b[38;5;124m: \u001b[39m\u001b[38;5;124m\"\u001b[39m\u001b[38;5;241m.\u001b[39mformat(\u001b[38;5;28mself\u001b[39m\u001b[38;5;241m.\u001b[39mname))\n\u001b[0;32m   1214\u001b[0m \u001b[38;5;28;01mif\u001b[39;00m mode_int \u001b[38;5;241m==\u001b[39m _snd\u001b[38;5;241m.\u001b[39mSFM_WRITE:\n\u001b[0;32m   1215\u001b[0m     \u001b[38;5;66;03m# Due to a bug in libsndfile version <= 1.0.25, frames != 0\u001b[39;00m\n\u001b[0;32m   1216\u001b[0m     \u001b[38;5;66;03m# when opening a named pipe in SFM_WRITE mode.\u001b[39;00m\n\u001b[0;32m   1217\u001b[0m     \u001b[38;5;66;03m# See http://github.com/erikd/libsndfile/issues/77.\u001b[39;00m\n\u001b[0;32m   1218\u001b[0m     \u001b[38;5;28mself\u001b[39m\u001b[38;5;241m.\u001b[39m_info\u001b[38;5;241m.\u001b[39mframes \u001b[38;5;241m=\u001b[39m \u001b[38;5;241m0\u001b[39m\n",
      "\u001b[1;31mLibsndfileError\u001b[0m: Error opening '../../Deep Fake/archive/Version1/clips/voice_310838.wav': System error."
     ]
    }
   ],
   "source": [
    "wav, sample_rate = torchaudio.load(\"../../Deep Fake/archive/Version1/clips/voice_310838.wav\")"
   ]
  },
  {
   "cell_type": "code",
   "execution_count": null,
   "id": "9a490bbf",
   "metadata": {},
   "outputs": [],
   "source": []
  },
  {
   "cell_type": "code",
   "execution_count": null,
   "id": "01711f2c",
   "metadata": {},
   "outputs": [],
   "source": []
  },
  {
   "cell_type": "code",
   "execution_count": 80,
   "id": "b8ff0863",
   "metadata": {},
   "outputs": [
    {
     "data": {
      "text/plain": [
       "torch.Size([1, 30720])"
      ]
     },
     "execution_count": 80,
     "metadata": {},
     "output_type": "execute_result"
    }
   ],
   "source": [
    "wav.shape"
   ]
  },
  {
   "cell_type": "code",
   "execution_count": null,
   "id": "74618cc4",
   "metadata": {},
   "outputs": [],
   "source": [
    "wav.max() , wav.min()"
   ]
  },
  {
   "cell_type": "code",
   "execution_count": null,
   "id": "03b669e8",
   "metadata": {},
   "outputs": [],
   "source": [
    "wav.shape"
   ]
  },
  {
   "cell_type": "code",
   "execution_count": null,
   "id": "8884ecb2",
   "metadata": {},
   "outputs": [],
   "source": [
    "sample_rate"
   ]
  },
  {
   "cell_type": "code",
   "execution_count": null,
   "id": "d2c28804",
   "metadata": {},
   "outputs": [],
   "source": [
    "def visualize_audio(wav: torch.Tensor, sr: int = 16000):\n",
    "    # Average all channels\n",
    "    if wav.dim() == 2:\n",
    "        # Any to mono audio convertion\n",
    "        wav = wav.mean(dim=0)\n",
    "    \n",
    "    plt.figure(figsize=(20, 5))\n",
    "    plt.plot(wav, alpha=.7, c='green')\n",
    "    plt.grid()\n",
    "    plt.xlabel('Time', size=20)\n",
    "    plt.ylabel('Amplitude', size=20)\n",
    "    plt.show()\n",
    "    \n",
    "    display.display(display.Audio(wav, rate=sr))"
   ]
  },
  {
   "cell_type": "code",
   "execution_count": null,
   "id": "5d7387bb",
   "metadata": {},
   "outputs": [],
   "source": [
    "visualize_audio(wav)"
   ]
  },
  {
   "cell_type": "code",
   "execution_count": null,
   "id": "af3fed80",
   "metadata": {},
   "outputs": [],
   "source": [
    "n_fft = 1024\n",
    "window_size = n_fft\n",
    "hop_size = 256\n",
    "window = torch.hann_window(n_fft)"
   ]
  },
  {
   "cell_type": "code",
   "execution_count": null,
   "id": "2338e18b",
   "metadata": {},
   "outputs": [],
   "source": [
    "spectrum = torch.stft(\n",
    "    wav,\n",
    "    n_fft=n_fft,\n",
    "    hop_length=hop_size,\n",
    "    win_length=window_size,\n",
    "    window=window,\n",
    "    \n",
    "    # We don't want to pad input signal\n",
    "    center=False,\n",
    "    \n",
    "    # Take first (n_fft // 2 + 1) frequencies\n",
    "    onesided=True,\n",
    "    \n",
    "    # Apply torch.view_as_real on each window\n",
    "    return_complex=False, \n",
    ")"
   ]
  },
  {
   "cell_type": "code",
   "execution_count": null,
   "id": "b906a1bf",
   "metadata": {},
   "outputs": [],
   "source": [
    "spectrum.shape"
   ]
  },
  {
   "cell_type": "code",
   "execution_count": null,
   "id": "4275691c",
   "metadata": {},
   "outputs": [],
   "source": [
    "spectrogram = spectrum.norm(dim=-1).pow(2)\n",
    "spectrogram.shape"
   ]
  },
  {
   "cell_type": "code",
   "execution_count": null,
   "id": "2f74b6be",
   "metadata": {},
   "outputs": [],
   "source": [
    "plt.figure(figsize=(20, 5))\n",
    "plt.imshow(spectrogram.squeeze().log())\n",
    "plt.xlabel('Time', size=20)\n",
    "plt.ylabel('Frequency (Hz)', size=20)\n",
    "plt.show()"
   ]
  },
  {
   "cell_type": "code",
   "execution_count": null,
   "id": "6c2b823c",
   "metadata": {},
   "outputs": [],
   "source": [
    "mel_spectrogram = torchaudio.transforms.MelSpectrogram(\n",
    "    sample_rate=22050,\n",
    "    n_fft=1024,\n",
    "    win_length = 1024,\n",
    "    hop_length=256,\n",
    "    n_mels=80,\n",
    "    window_fn = torch.hann_window,\n",
    "    center=False\n",
    ")"
   ]
  },
  {
   "cell_type": "code",
   "execution_count": null,
   "id": "69243001",
   "metadata": {},
   "outputs": [],
   "source": [
    "mel = mel_spectrogram(wav)\n",
    "mel.shape"
   ]
  },
  {
   "cell_type": "code",
   "execution_count": null,
   "id": "e67a1f68",
   "metadata": {},
   "outputs": [],
   "source": [
    "plt.figure(figsize=(20, 5))\n",
    "plt.imshow(mel.squeeze().log())\n",
    "plt.xlabel('Time', size=20)\n",
    "plt.ylabel('Frequency (Hz)', size=20)\n",
    "plt.show()"
   ]
  },
  {
   "cell_type": "code",
   "execution_count": null,
   "id": "e95ff01f",
   "metadata": {},
   "outputs": [],
   "source": [
    "mel.shape"
   ]
  },
  {
   "cell_type": "code",
   "execution_count": null,
   "id": "d3cdebe9",
   "metadata": {},
   "outputs": [],
   "source": [
    "!pip install pydub"
   ]
  },
  {
   "cell_type": "code",
   "execution_count": null,
   "id": "579f3a88",
   "metadata": {},
   "outputs": [],
   "source": [
    "AudioSegment.from_wav?"
   ]
  },
  {
   "cell_type": "code",
   "execution_count": null,
   "id": "37827d48",
   "metadata": {},
   "outputs": [],
   "source": [
    "from os import path\n",
    "from pydub import AudioSegment\n",
    "\n",
    "#files\n",
    "\n",
    "src = 'E:/Audio/Version1/clips/voice_64028.wav'\n",
    "dst = \"voice_64028.wav\"\n",
    "#'../../Deep_Fake/archive/Version1/clips/voice_64028.wav'\n",
    "#convert wav to mp3\n",
    "sound = AudioSegment.from_wav(src)\n",
    "sound.export(dst, format=\"mp3\")"
   ]
  },
  {
   "cell_type": "code",
   "execution_count": null,
   "id": "b3a4204b",
   "metadata": {},
   "outputs": [],
   "source": [
    "import os\n",
    "audio_names = [item_name for item_name in os.listdir('E:/Audio/Version1/clips/')]\n",
    "#len(audio_names)\n",
    "\n",
    "for name in audio_names:\n",
    "    name = 'E:/Audio/Version1/clips/' + name\n",
    "    name2 = name.split('.')[0]\n",
    "    #print(name)\n",
    "    os.rename(name, name2 + '.mp3')"
   ]
  },
  {
   "cell_type": "code",
   "execution_count": null,
   "id": "17be6d15",
   "metadata": {},
   "outputs": [],
   "source": [
    "data = pd.read_csv('E:/Audio/Version1/validated_data.csv',sep = '\\\\t',on_bad_lines='skip')"
   ]
  },
  {
   "cell_type": "code",
   "execution_count": null,
   "id": "e3b57567",
   "metadata": {},
   "outputs": [],
   "source": [
    "data = pd.concat([data['path'] , data['fake']] , axis = 1)"
   ]
  },
  {
   "cell_type": "code",
   "execution_count": null,
   "id": "ca1f8a3f",
   "metadata": {},
   "outputs": [],
   "source": [
    "data = data.dropna()"
   ]
  },
  {
   "cell_type": "code",
   "execution_count": null,
   "id": "5740c44a",
   "metadata": {},
   "outputs": [],
   "source": [
    "data['fake'].value_counts()"
   ]
  },
  {
   "cell_type": "code",
   "execution_count": null,
   "id": "b4d2edf6",
   "metadata": {},
   "outputs": [],
   "source": [
    "data.drop"
   ]
  },
  {
   "cell_type": "code",
   "execution_count": null,
   "id": "814347d8",
   "metadata": {},
   "outputs": [],
   "source": [
    "values = list(data['fake']) "
   ]
  },
  {
   "cell_type": "code",
   "execution_count": null,
   "id": "e468425b",
   "metadata": {},
   "outputs": [],
   "source": [
    "names = list(data['path'])"
   ]
  },
  {
   "cell_type": "code",
   "execution_count": null,
   "id": "73456a4a",
   "metadata": {},
   "outputs": [],
   "source": [
    "fake = []\n",
    "real = []\n",
    "for ind, value in enumerate(values):\n",
    "    if value == '1':\n",
    "        fake.append(names[ind])\n",
    "    elif value == '0':\n",
    "        real.append(names[ind])\n",
    "len(fake)"
   ]
  },
  {
   "cell_type": "code",
   "execution_count": null,
   "id": "3bf8b2ec",
   "metadata": {},
   "outputs": [],
   "source": []
  },
  {
   "cell_type": "code",
   "execution_count": null,
   "id": "a9f2585d",
   "metadata": {},
   "outputs": [],
   "source": [
    "fake"
   ]
  },
  {
   "cell_type": "code",
   "execution_count": null,
   "id": "9b9e51e4",
   "metadata": {},
   "outputs": [],
   "source": [
    "len(real)"
   ]
  },
  {
   "cell_type": "code",
   "execution_count": null,
   "id": "c0738de8",
   "metadata": {},
   "outputs": [],
   "source": [
    "import os\n",
    "#audio_names = [item_name for item_name in os.listdir('E:/Audio/Version1/clips/')]\n",
    "#len(audio_names)\n",
    "for name in fake:\n",
    "    try:\n",
    "        name = 'E:/Audio/Version1/clips/' + name\n",
    "        name2 = name.split('.')[0]\n",
    "        #print(name)\n",
    "        os.rename(name, name2 + '.wav')\n",
    "    except Exception:\n",
    "        os.rename(name2 + '.mp3', name2 + '.wav')"
   ]
  },
  {
   "cell_type": "code",
   "execution_count": null,
   "id": "5838edd9",
   "metadata": {},
   "outputs": [],
   "source": []
  },
  {
   "cell_type": "code",
   "execution_count": null,
   "id": "8db9d2b7",
   "metadata": {},
   "outputs": [],
   "source": [
    "import os\n",
    "#audio_names = [item_name for item_name in os.listdir('E:/Audio/Version1/clips/')]\n",
    "#len(audio_names)\n",
    "for name in real:\n",
    "    try:\n",
    "        name = 'E:/Audio/Version1/clips/' + name\n",
    "        name2 = name.split('.')[0]\n",
    "        #print(name)\n",
    "        os.rename(name, name2 + '.mp3')\n",
    "    except Exception:\n",
    "        os.rename(name2 + '.mp3', name2 + '.mp3')"
   ]
  },
  {
   "cell_type": "code",
   "execution_count": null,
   "id": "a357cce1",
   "metadata": {},
   "outputs": [],
   "source": [
    "names = []\n",
    "for name in real:\n",
    "    name2 = name.split('.')[0]\n",
    "    name = name2 + '.mp3'\n",
    "    names.append(name)\n",
    "len(names)"
   ]
  },
  {
   "cell_type": "code",
   "execution_count": null,
   "id": "9cb4841f",
   "metadata": {},
   "outputs": [],
   "source": [
    "len(names)"
   ]
  },
  {
   "cell_type": "code",
   "execution_count": null,
   "id": "505915b4",
   "metadata": {},
   "outputs": [],
   "source": [
    "df2 = pd.DataFrame(names, columns=['Names'])#np.zeros(895727)"
   ]
  },
  {
   "cell_type": "code",
   "execution_count": null,
   "id": "c6456953",
   "metadata": {},
   "outputs": [],
   "source": [
    "df2.head()"
   ]
  },
  {
   "cell_type": "code",
   "execution_count": null,
   "id": "31ba6a7b",
   "metadata": {},
   "outputs": [],
   "source": [
    "df3 = pd.DataFrame(np.zeros(895727), columns=['value'], dtype=str)"
   ]
  },
  {
   "cell_type": "code",
   "execution_count": null,
   "id": "388e102c",
   "metadata": {},
   "outputs": [],
   "source": [
    "df3.head()"
   ]
  },
  {
   "cell_type": "code",
   "execution_count": null,
   "id": "2c0fe1ee",
   "metadata": {},
   "outputs": [],
   "source": [
    "# frames = [df2, df3]\n",
    "\n",
    "# result = pd.concat(frames)"
   ]
  },
  {
   "cell_type": "code",
   "execution_count": null,
   "id": "3e37fceb",
   "metadata": {},
   "outputs": [],
   "source": [
    "result= pd.concat([df2, df3], ignore_index=False, sort=False)"
   ]
  },
  {
   "cell_type": "code",
   "execution_count": null,
   "id": "8809972c",
   "metadata": {},
   "outputs": [],
   "source": [
    "df = pd.DataFrame({\"path\" :names,\n",
    "                   \"fake\": np.zeros(895727, dtype = int)\n",
    "        \n",
    "                  })"
   ]
  },
  {
   "cell_type": "code",
   "execution_count": null,
   "id": "a8cc98b0",
   "metadata": {},
   "outputs": [],
   "source": [
    "df1 = pd.DataFrame({\"path\" :fake,\n",
    "                   \"fake\": np.ones(4240, dtype = int)\n",
    "        \n",
    "                  })"
   ]
  },
  {
   "cell_type": "code",
   "execution_count": null,
   "id": "0c71dcbd",
   "metadata": {},
   "outputs": [],
   "source": [
    "df1 = df1.append(df)"
   ]
  },
  {
   "cell_type": "code",
   "execution_count": null,
   "id": "6ba78740",
   "metadata": {},
   "outputs": [],
   "source": [
    "df1.to_csv('mp3_wav.csv',index=False, sep = '\\t')\n",
    "df1.shape"
   ]
  },
  {
   "cell_type": "code",
   "execution_count": null,
   "id": "7397e5fa",
   "metadata": {},
   "outputs": [],
   "source": [
    "#df2 = df + df1"
   ]
  },
  {
   "cell_type": "code",
   "execution_count": null,
   "id": "2c1c9d8d",
   "metadata": {},
   "outputs": [],
   "source": [
    "df2"
   ]
  },
  {
   "cell_type": "code",
   "execution_count": null,
   "id": "3adb560d",
   "metadata": {},
   "outputs": [],
   "source": [
    "result.head()"
   ]
  },
  {
   "cell_type": "code",
   "execution_count": null,
   "id": "c66e8d9e",
   "metadata": {},
   "outputs": [],
   "source": [
    "some = []\n",
    "for ind, value in enumerate(values):\n",
    "    if value not in ['1','0']:\n",
    "        some.append(names[ind])\n",
    "some"
   ]
  },
  {
   "cell_type": "code",
   "execution_count": null,
   "id": "15da742a",
   "metadata": {},
   "outputs": [],
   "source": []
  },
  {
   "cell_type": "code",
   "execution_count": null,
   "id": "84c4b494",
   "metadata": {},
   "outputs": [],
   "source": []
  }
 ],
 "metadata": {
  "kernelspec": {
   "display_name": "Python 3 (ipykernel)",
   "language": "python",
   "name": "python3"
  },
  "language_info": {
   "codemirror_mode": {
    "name": "ipython",
    "version": 3
   },
   "file_extension": ".py",
   "mimetype": "text/x-python",
   "name": "python",
   "nbconvert_exporter": "python",
   "pygments_lexer": "ipython3",
   "version": "3.9.12"
  }
 },
 "nbformat": 4,
 "nbformat_minor": 5
}
